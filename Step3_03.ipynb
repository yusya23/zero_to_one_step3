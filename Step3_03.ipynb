{
 "cells": [
  {
   "cell_type": "markdown",
   "metadata": {},
   "source": [
    "# Step3 演習03 Kerasチュートリアル\n",
    "---"
   ]
  },
  {
   "cell_type": "markdown",
   "metadata": {},
   "source": [
    "本演習は、Pythonで書かれた深層学習のフレームワーク Keras を使ったチュートリアルです。\n",
    "\n",
    "Kerasを使い手書き数字の画像 MNISTの多クラス分類をおこないます。\n",
    "\n",
    "**はじめに**\n",
    "- for文やwhile文の利用は明示的な利用指示がない場所での利用は避けてください。\n",
    "\n",
    "**本演習の目的**\n",
    "- Kerasを使った基本的な記述手順を身につける。\n",
    "- Kerasを使ってMNISTの多クラス分類の実装してみる。"
   ]
  },
  {
   "cell_type": "markdown",
   "metadata": {},
   "source": [
    "**【課題１】** 採点を実行してください。"
   ]
  },
  {
   "cell_type": "code",
   "execution_count": 1,
   "metadata": {
    "collapsed": false
   },
   "outputs": [
    {
     "name": "stdout",
     "output_type": "stream",
     "text": [
      "この課題の採点は全員正解とします。\n"
     ]
    }
   ],
   "source": [
    "#Coursedele-02 Step3 QuestionNumber5 5e6e4c3e443950e8e029a9aa1f402f72\n",
    "print(\"この課題の採点は全員正解とします。\")"
   ]
  },
  {
   "cell_type": "markdown",
   "metadata": {},
   "source": [
    "** ファイルを保存後 **、次のセルを実行（Shift+Enter）で採点を行います。"
   ]
  },
  {
   "cell_type": "code",
   "execution_count": 2,
   "metadata": {
    "collapsed": false
   },
   "outputs": [
    {
     "name": "stdout",
     "output_type": "stream",
     "text": [
      "Congraturation!\n",
      "We give you 10 points out of 10 points.\n",
      "\n"
     ]
    }
   ],
   "source": [
    "%%bash\n",
    "./validation_client.py dele-02 3 5 Step3_03.ipynb api.internal.zero2one.jp"
   ]
  },
  {
   "cell_type": "markdown",
   "metadata": {},
   "source": [
    "## ライブラリのインポート\n",
    "\n",
    "まずはじめに、本演習で利用するライブラリのインポートをします。ライブラリのインポートは作業を行うときには一番はじめに行うようにしましょう。\n",
    "\n",
    "- [numpy](http://www.numpy.org) 数値計算を行うための基本パッケージの公式ドキュメント\n",
    "- [matplotlib](http://matplotlib.org) グラフ描画ライブラリの基本パッケージの公式ドキュメント\n",
    "- [Keras](https://keras.io/ja/) Pythonの深層学習ライブラリKerasの公式ドキュメント"
   ]
  },
  {
   "cell_type": "code",
   "execution_count": 3,
   "metadata": {
    "collapsed": false
   },
   "outputs": [
    {
     "name": "stderr",
     "output_type": "stream",
     "text": [
      "Using TensorFlow backend.\n"
     ]
    }
   ],
   "source": [
    "#ライブラリのインポート\n",
    "%matplotlib inline\n",
    "import numpy as np\n",
    "import matplotlib.pyplot as plt\n",
    "import keras"
   ]
  },
  {
   "cell_type": "code",
   "execution_count": 4,
   "metadata": {
    "collapsed": false
   },
   "outputs": [
    {
     "data": {
      "text/plain": [
       "'2.1.5'"
      ]
     },
     "execution_count": 4,
     "metadata": {},
     "output_type": "execute_result"
    }
   ],
   "source": [
    "keras.__version__"
   ]
  },
  {
   "cell_type": "markdown",
   "metadata": {},
   "source": [
    "## データセット"
   ]
  },
  {
   "cell_type": "markdown",
   "metadata": {},
   "source": [
    "この演習では \"MNIST\" と呼ばれる手書き数字のデータを用います。\n",
    "\n",
    "28ピクセル×28ピクセルのグレースケール画像が学習用データとして55,000枚、テスト用データとして10,000枚含まれています。今回はtensorflowで用意されている関数からデータを読み込みます。\n",
    "\n",
    "read_data_setsの引数は\n",
    "1. ファイルの保存場所\n",
    "2. one_hot: one-hotベクトル化するかどうか\n",
    "3. validation_size: 検証用データの枚数、今回は訓練データとテストデータのみ使用します\n",
    "4. source_url: データセットのダウンロード元\n",
    "\n",
    "使用しているネットワークの強さによりロードに多少時間がかかる場合があります。"
   ]
  },
  {
   "cell_type": "code",
   "execution_count": 5,
   "metadata": {
    "collapsed": false
   },
   "outputs": [
    {
     "name": "stdout",
     "output_type": "stream",
     "text": [
      "Extracting MNIST_data/train-images-idx3-ubyte.gz\n",
      "Extracting MNIST_data/train-labels-idx1-ubyte.gz\n",
      "Extracting MNIST_data/t10k-images-idx3-ubyte.gz\n",
      "Extracting MNIST_data/t10k-labels-idx1-ubyte.gz\n"
     ]
    }
   ],
   "source": [
    "from tensorflow.examples.tutorials.mnist import input_data\n",
    "mnist = input_data.read_data_sets(\"MNIST_data/\", one_hot=True)"
   ]
  },
  {
   "cell_type": "markdown",
   "metadata": {},
   "source": [
    "ダウンロードしたデータセットを**訓練データ**と**テストデータ**にそれぞれ定義しておきます。"
   ]
  },
  {
   "cell_type": "code",
   "execution_count": 6,
   "metadata": {
    "collapsed": false
   },
   "outputs": [
    {
     "name": "stdout",
     "output_type": "stream",
     "text": [
      "X_train：訓練データ\n",
      "y_train：訓練データの正解ラベル\n",
      "X_test：テストデータ\n",
      "y_test：テストデータの正解ラベル\n"
     ]
    }
   ],
   "source": [
    "X_train = mnist.train.images\n",
    "y_train = mnist.train.labels\n",
    "X_test = mnist.test.images\n",
    "y_test = mnist.test.labels\n",
    "\n",
    "print(\"X_train：訓練データ\")\n",
    "print(\"y_train：訓練データの正解ラベル\")\n",
    "print(\"X_test：テストデータ\")\n",
    "print(\"y_test：テストデータの正解ラベル\")"
   ]
  },
  {
   "cell_type": "markdown",
   "metadata": {},
   "source": [
    "訓練データとテストデータのshapeを確認します。"
   ]
  },
  {
   "cell_type": "code",
   "execution_count": 7,
   "metadata": {
    "collapsed": false
   },
   "outputs": [
    {
     "name": "stdout",
     "output_type": "stream",
     "text": [
      "訓練データ数：55000\n",
      "訓練データ数の特徴（ピクセル）：784\n",
      "テストデータ数：10000\n",
      "テストデータ数の特徴（ピクセル）：784\n"
     ]
    }
   ],
   "source": [
    "print(\"訓練データ数：{}\".format(X_train.shape[0]))\n",
    "print(\"訓練データ数の特徴（ピクセル）：{}\".format(X_train.shape[1]))\n",
    "print(\"テストデータ数：{}\".format(X_test.shape[0]))\n",
    "print(\"テストデータ数の特徴（ピクセル）：{}\".format(X_test.shape[1]))"
   ]
  },
  {
   "cell_type": "markdown",
   "metadata": {},
   "source": [
    "\"X_train：訓練データ\"は、学習用データの55000枚の画像データを行列にしたもの（28×28=784）として格納されています。\n",
    "\n",
    "同様に、\"X_test：テストデータ\"は、テスト用データの10000枚の画像データを行列にしたもの（28×28=784）として格納されています。"
   ]
  },
  {
   "cell_type": "markdown",
   "metadata": {},
   "source": [
    "### データの視覚化"
   ]
  },
  {
   "cell_type": "markdown",
   "metadata": {},
   "source": [
    "ここで学習データの画像をランダムに表示させてみます。セルを実行するたびに画像が変わります。"
   ]
  },
  {
   "cell_type": "code",
   "execution_count": 8,
   "metadata": {
    "collapsed": false
   },
   "outputs": [
    {
     "name": "stdout",
     "output_type": "stream",
     "text": [
      "数字：3\n"
     ]
    },
    {
     "data": {
      "image/png": "[encoded data removed]",
      "text/plain": [
       "<matplotlib.figure.Figure at 0x7f24f60d5c18>"
      ]
     },
     "metadata": {},
     "output_type": "display_data"
    }
   ],
   "source": [
    "num = np.random.randint(0, len(mnist.train.images))\n",
    "plt.imshow(mnist.train.images[num].reshape(28, 28), cmap='gray')\n",
    "print(\"数字：{}\".format(np.argmax(mnist.train.labels[num])))"
   ]
  },
  {
   "cell_type": "markdown",
   "metadata": {},
   "source": [
    "次に正解ラベルを見てみます。正解ラベルとなる y_train のshapeは(55000,10)です。次のセルを実行して訓練データとテストデータの正解ラベルのデータの性質を確認します。"
   ]
  },
  {
   "cell_type": "code",
   "execution_count": 9,
   "metadata": {
    "collapsed": false
   },
   "outputs": [
    {
     "name": "stdout",
     "output_type": "stream",
     "text": [
      "訓練データの正解ラベル数：55000\n",
      "訓練データ数の正解ラベルの配列数：10\n",
      "テストデータの正解ラベル数：10000\n",
      "テストデータ数の正解ラベルの配列数：10\n"
     ]
    }
   ],
   "source": [
    "print(\"訓練データの正解ラベル数：{}\".format(y_train.shape[0]))\n",
    "print(\"訓練データ数の正解ラベルの配列数：{}\".format(y_train.shape[1]))\n",
    "print(\"テストデータの正解ラベル数：{}\".format(y_test.shape[0]))\n",
    "print(\"テストデータ数の正解ラベルの配列数：{}\".format(y_test.shape[1]))"
   ]
  },
  {
   "cell_type": "markdown",
   "metadata": {},
   "source": [
    "訓練データの場合、正解ラベル数は55000となっており、それぞれに対して答えとなるラベル部分には「１」が与えられています。下のセルを実行してみましょう。"
   ]
  },
  {
   "cell_type": "code",
   "execution_count": 10,
   "metadata": {
    "collapsed": false
   },
   "outputs": [
    {
     "data": {
      "text/plain": [
       "array([[0., 0., 0., 0., 0., 0., 0., 1., 0., 0.],\n",
       "       [0., 0., 0., 1., 0., 0., 0., 0., 0., 0.],\n",
       "       [0., 0., 0., 0., 1., 0., 0., 0., 0., 0.],\n",
       "       [0., 0., 0., 0., 0., 0., 1., 0., 0., 0.],\n",
       "       [0., 1., 0., 0., 0., 0., 0., 0., 0., 0.]])"
      ]
     },
     "execution_count": 10,
     "metadata": {},
     "output_type": "execute_result"
    }
   ],
   "source": [
    "y_train[:5,:]"
   ]
  },
  {
   "cell_type": "markdown",
   "metadata": {},
   "source": [
    "例えば、数字の０に対応する正解ラベルは配列の0番目に１がはいっています。数字の1に対応するラベルには配列の1番目に1がはいっています。３以降も同様のルールです。下の画像はこれらのルールを可視化したものになります。\n",
    "<p>\n",
    "\n",
    "<div align=\"center\"  style=\"width:50%\">\n",
    "<img src=\"./img/step3_mnist_label_019.png\"></div>"
   ]
  },
  {
   "cell_type": "markdown",
   "metadata": {},
   "source": [
    "### データセットのシャッフル"
   ]
  },
  {
   "cell_type": "markdown",
   "metadata": {},
   "source": [
    "MNISTのデータセットをシャッフルします。データセットをそのまま使わずにシャッフルするのはなぜでしょうか。例えば、データがラベル(y)に対してソートされていたとします。すると、そのまま冒頭3000サンプルを取って学習に使うと、0, 1と書いてあるデータばかりが集まってしまうことになってしまいます。一見分からないような規則でソートされている可能性もあるので、データセットの順番がバラバラに見えても必ず最初にシャッフルしましょう。"
   ]
  },
  {
   "cell_type": "code",
   "execution_count": 11,
   "metadata": {
    "collapsed": true
   },
   "outputs": [],
   "source": [
    "#データセットのシャッフル\n",
    "permutation = np.random.permutation(mnist.train.images.shape[0])\n",
    "X_train = mnist.train.images[permutation]\n",
    "y_train = mnist.train.labels[permutation]"
   ]
  },
  {
   "cell_type": "markdown",
   "metadata": {},
   "source": [
    "### データセットの正規化"
   ]
  },
  {
   "cell_type": "markdown",
   "metadata": {},
   "source": [
    "データセット全体が平均0.0，分散1.0となるように正規化します。"
   ]
  },
  {
   "cell_type": "code",
   "execution_count": 14,
   "metadata": {
    "collapsed": true
   },
   "outputs": [],
   "source": [
    "mean = np.mean(X_train)\n",
    "std = np.std(X_train)\n",
    "X_train = (X_train - mean) / std\n",
    "X_test = (X_test - mean) / std"
   ]
  },
  {
   "cell_type": "markdown",
   "metadata": {},
   "source": [
    " ## ニューラルネットワークモデル"
   ]
  },
  {
   "cell_type": "markdown",
   "metadata": {},
   "source": [
    "入力層のユニット数は特徴の数である784個、出力層は0~9の数字の10クラス、隱れ層のユニット数は100個とします。\n",
    "<br>\n",
    "今回は下に示すネットワークのモデルを構築します。\n",
    "\n",
    "- 入力層のユニット数784個\n",
    "- 隠れ層のユニット数100個\n",
    "- 出力層のユニット数10個\n",
    "\n",
    "\n",
    "**モデル**:\n",
    "<div style=\"width:40%\">\n",
    "<img src=\"./img/step3_mlp_784-10.png\"><div>"
   ]
  },
  {
   "cell_type": "markdown",
   "metadata": {},
   "source": [
    "## モデルの実装"
   ]
  },
  {
   "cell_type": "markdown",
   "metadata": {},
   "source": [
    "データセットの準備ができたので実際にKerasによるニューラルネットワークの実装を行いましょう。\n",
    "\n",
    "Kerasの基本的なデータ構造はmodelでネットワークを構成します。モデルは keras.models.Sequential クラスを使って構築します。"
   ]
  },
  {
   "cell_type": "code",
   "execution_count": 16,
   "metadata": {
    "collapsed": true
   },
   "outputs": [],
   "source": [
    "#KerasのSequentialをインポート\n",
    "from keras.models import Sequential\n",
    "model = Sequential()"
   ]
  },
  {
   "cell_type": "markdown",
   "metadata": {},
   "source": [
    "ネットワークの層を追加するには** .add()メソッド **を利用します。model.add()で層を追加することができ、Denseで主に下記の引数を指定します。\n",
    "\n",
    "モデルを構築するには下記のように記述します。\n",
    "\n",
    "model.add(Dense(引数を指定))\n",
    "\n",
    "```py\n",
    "keras.layers.Dense(units, activation=None, use_bias=True, kernel_initializer='glorot_uniform',\n",
    "                   bias_initializer='zeros', kernel_regularizer=None, bias_regularizer=None,\n",
    "                   activity_regularizer=None, kernel_constraint=None, bias_constraint=None)\n",
    "```\n",
    "\n",
    "- units：正の整数で出力の次元数を指定\n",
    "- activation：活性化関数\n",
    "- use_bias：バイアス$b$（デフォルトは\"True\"）\n",
    "- kernel_initializer：重みの初期化方法\n",
    "- bias_initializer： バイアスベクトルの初期化方法\n",
    "- kernel_regularizer：重み行列に適用される正則化関数\n",
    "\n",
    "** Denseが実行する操作 **\n",
    "\n",
    "ニューラルネットワークの一般形の演算を行います。具体的には次の通りです。\n",
    "\n",
    "$y = f(w^{\\top}x + b)$\n",
    "\n",
    "各関数のドキュメントは次の通りです。\n",
    "\n",
    "- [Keras：Dense](https://keras.io/ja/layers/core/) 全結合ニューラルネットワーク\n",
    "- [Keras：Activation](https://keras.io/ja/activations/) 使用する活性化関数\n",
    "- [Keras：kernel_regularizer](https://keras.io/ja/regularizers/) 正則化\n"
   ]
  },
  {
   "cell_type": "markdown",
   "metadata": {},
   "source": [
    "**【確認１】** 適切な 関数・変数・値 などにNoneを書き換えてください。"
   ]
  },
  {
   "cell_type": "code",
   "execution_count": 20,
   "metadata": {
    "collapsed": true
   },
   "outputs": [],
   "source": [
    "# DenseとActivationをインポートする\n",
    "from keras.layers import Dense,  Activation\n",
    "\n",
    "#インスタンスを作成\n",
    "model = Sequential()\n",
    "\n",
    "#一番初めののレイヤーではinput_shapeで、入力するデータの次元を与えます\n",
    "model.add(Dense(units=100, input_shape=(784,)))  \n",
    "model.add(Activation('relu'))\n",
    "model.add(Dense(units=10))\n",
    "model.add(Activation('softmax'))"
   ]
  },
  {
   "cell_type": "markdown",
   "metadata": {},
   "source": [
    "### コスト関数と最適化手法の決定"
   ]
  },
  {
   "cell_type": "markdown",
   "metadata": {},
   "source": [
    "次にコスト関数と最適化アルゴリズムを定義します。\n",
    "\n",
    "** model.summary() ** と記述することで実装したモデルの構成を表で表示してくれます。<br>\n",
    "** model.compile() **でコスト関数や最適化手法を決定をします。\n",
    "\n",
    "compileでは下記の３つの引数を指定します。\n",
    "\n",
    "- loss（損失関数）\n",
    "- optimizer（最適化アルゴリズム、rmspropやadagradなどを指定）\n",
    "- metrics（評価関数）\n",
    "\n",
    "それぞれ指定します。下のセルを参考にしてください。\n",
    "\n",
    "各関数のドキュメントは次の通りです。\n",
    "- [Keras：summary](https://keras.io/ja/models/about-keras-models/) \n",
    "- [Keras：compile](https://keras.io/ja/getting-started/sequential-model-guide/) \n",
    "- [Keras：optimizer](https://keras.io/ja/optimizers/) "
   ]
  },
  {
   "cell_type": "code",
   "execution_count": 21,
   "metadata": {
    "collapsed": false
   },
   "outputs": [
    {
     "name": "stdout",
     "output_type": "stream",
     "text": [
      "_________________________________________________________________\n",
      "Layer (type)                 Output Shape              Param #   \n",
      "=================================================================\n",
      "dense_3 (Dense)              (None, 100)               78500     \n",
      "_________________________________________________________________\n",
      "activation_3 (Activation)    (None, 100)               0         \n",
      "_________________________________________________________________\n",
      "dense_4 (Dense)              (None, 10)                1010      \n",
      "_________________________________________________________________\n",
      "activation_4 (Activation)    (None, 10)                0         \n",
      "=================================================================\n",
      "Total params: 79,510\n",
      "Trainable params: 79,510\n",
      "Non-trainable params: 0\n",
      "_________________________________________________________________\n"
     ]
    }
   ],
   "source": [
    "model.summary() \n",
    "model.compile(loss='categorical_crossentropy', \n",
    "              optimizer='sgd', \n",
    "              metrics=['accuracy'])"
   ]
  },
  {
   "cell_type": "markdown",
   "metadata": {},
   "source": [
    "### モデルの学習"
   ]
  },
  {
   "cell_type": "markdown",
   "metadata": {},
   "source": [
    "構築したモデルの学習には** model.fit() **を使います。学習データ、バッチサイズ、エポック数、ログの出力、バリデーションデータの設定をします。\n",
    "\n",
    "下記に主な引数を示します。\n",
    "\n",
    "- x：学習に使用する訓練データ\n",
    "- y：学習に使用する正解ラベル\n",
    "- batch_size：バッチサイズ\n",
    "- epochs：エポック数\n",
    "- verbose：学習中のログ（0:標準出力にログを出力しません、1：プログレスバーで出力、2:エポックごとに1行のログを出力）\n",
    "- validation_data：各エポックごとに利用するモデルを評価する\n",
    "\n",
    "関数のドキュメント\n",
    "\n",
    "- [Keras：fit](https://keras.io/ja/models/model/) "
   ]
  },
  {
   "cell_type": "markdown",
   "metadata": {},
   "source": [
    "下のセルを実行すると学習がはじまります。"
   ]
  },
  {
   "cell_type": "code",
   "execution_count": 22,
   "metadata": {
    "collapsed": false
   },
   "outputs": [
    {
     "name": "stdout",
     "output_type": "stream",
     "text": [
      "Train on 55000 samples, validate on 10000 samples\n",
      "Epoch 1/10\n",
      "55000/55000 [==============================] - 3s 49us/step - loss: 0.5849 - acc: 0.8303 - val_loss: 0.3281 - val_acc: 0.9088\n",
      "Epoch 2/10\n",
      "55000/55000 [==============================] - 2s 36us/step - loss: 0.3124 - acc: 0.9102 - val_loss: 0.2680 - val_acc: 0.9244\n",
      "Epoch 3/10\n",
      "55000/55000 [==============================] - 2s 36us/step - loss: 0.2633 - acc: 0.9239 - val_loss: 0.2383 - val_acc: 0.9322\n",
      "Epoch 4/10\n",
      "55000/55000 [==============================] - 2s 36us/step - loss: 0.2338 - acc: 0.9326 - val_loss: 0.2175 - val_acc: 0.9389\n",
      "Epoch 5/10\n",
      "55000/55000 [==============================] - 2s 36us/step - loss: 0.2124 - acc: 0.9386 - val_loss: 0.2004 - val_acc: 0.9445\n",
      "Epoch 6/10\n",
      "55000/55000 [==============================] - 2s 37us/step - loss: 0.1950 - acc: 0.9440 - val_loss: 0.1882 - val_acc: 0.9485\n",
      "Epoch 7/10\n",
      "55000/55000 [==============================] - 2s 36us/step - loss: 0.1810 - acc: 0.9482 - val_loss: 0.1769 - val_acc: 0.9512\n",
      "Epoch 8/10\n",
      "55000/55000 [==============================] - 2s 36us/step - loss: 0.1692 - acc: 0.9514 - val_loss: 0.1684 - val_acc: 0.9531\n",
      "Epoch 9/10\n",
      "55000/55000 [==============================] - 2s 36us/step - loss: 0.1590 - acc: 0.9548 - val_loss: 0.1608 - val_acc: 0.9554\n",
      "Epoch 10/10\n",
      "55000/55000 [==============================] - 2s 36us/step - loss: 0.1501 - acc: 0.9574 - val_loss: 0.1540 - val_acc: 0.9573\n"
     ]
    }
   ],
   "source": [
    "history = model.fit(X_train, y_train,   # 訓練データ\n",
    "                    batch_size=100,   #バッチサイズ\n",
    "                    epochs=10,     # エポック数の指定\n",
    "                    verbose=1,         # ログ出力の指定. 0だとログが出ない\n",
    "                    validation_data=(X_test, y_test)  # テストデータ\n",
    "                    )"
   ]
  },
  {
   "cell_type": "markdown",
   "metadata": {},
   "source": [
    "### モデルの評価"
   ]
  },
  {
   "cell_type": "markdown",
   "metadata": {},
   "source": [
    "学習後のモデルに対してテストデータで評価を行うには** model.evaluate() **を使います。訓練データ、正解ラベル、バッチサイズを渡します。\n",
    "\n",
    "- x：評価に使用するテストデータ\n",
    "- y：評価に使用する正解ラベル\n",
    "- batch_size：バッチサイズ\n",
    "- verbose：学習中のログ（0：表示しない、1：表示する）\n",
    "\n",
    "関数のドキュメント\n",
    "\n",
    "- [Keras：evaluate](https://keras.io/ja/models/sequential/) "
   ]
  },
  {
   "cell_type": "code",
   "execution_count": 23,
   "metadata": {
    "collapsed": false
   },
   "outputs": [
    {
     "name": "stdout",
     "output_type": "stream",
     "text": [
      "10000/10000 [==============================] - 0s 31us/step\n",
      "Test loss: 0.15399948420226575\n",
      "Test accuracy: 0.9573\n"
     ]
    }
   ],
   "source": [
    "score = model.evaluate(X_test, y_test, verbose=1)\n",
    "print('Test loss:', score[0])\n",
    "print('Test accuracy:', score[1])"
   ]
  },
  {
   "cell_type": "markdown",
   "metadata": {},
   "source": [
    "### モデルの誤差"
   ]
  },
  {
   "cell_type": "markdown",
   "metadata": {},
   "source": [
    "最後に訓練データとテストデータにおける学習中のコスト関数の減少を確認し、モデルの誤差を評価します。"
   ]
  },
  {
   "cell_type": "code",
   "execution_count": 24,
   "metadata": {
    "collapsed": false
   },
   "outputs": [
    {
     "data": {
      "text/plain": [
       "<matplotlib.legend.Legend at 0x7f24f516c7f0>"
      ]
     },
     "execution_count": 24,
     "metadata": {},
     "output_type": "execute_result"
    },
    {
     "data": {
      "image/png": "[encoded data removed]",
      "text/plain": [
       "<matplotlib.figure.Figure at 0x7f24f5c0eb70>"
      ]
     },
     "metadata": {},
     "output_type": "display_data"
    }
   ],
   "source": [
    "plt.plot(history.history['loss'], label='train')\n",
    "plt.plot(history.history['val_loss'], label='test')\n",
    "plt.ylabel('Loss')\n",
    "plt.xlabel('Epoch')\n",
    "plt.legend()"
   ]
  },
  {
   "cell_type": "markdown",
   "metadata": {},
   "source": [
    "## おつかれさまでした。"
   ]
  },
  {
   "cell_type": "markdown",
   "metadata": {},
   "source": [
    "Kerasを使ったニューラルネットワークの実装おつかれさまでした。\n",
    "\n",
    "Kerasでは、model.add と記述し層を積み上げるだけで簡単にニューラルネットワークのモデルの構築、実装、評価を行うことができました。"
   ]
  },
  {
   "cell_type": "code",
   "execution_count": null,
   "metadata": {
    "collapsed": true
   },
   "outputs": [],
   "source": []
  }
 ],
 "metadata": {
  "anaconda-cloud": {},
  "kernelspec": {
   "display_name": "Python [default]",
   "language": "python",
   "name": "python3"
  },
  "language_info": {
   "codemirror_mode": {
    "name": "ipython",
    "version": 3
   },
   "file_extension": ".py",
   "mimetype": "text/x-python",
   "name": "python",
   "nbconvert_exporter": "python",
   "pygments_lexer": "ipython3",
   "version": "3.5.2"
  },
  "toc": {
   "nav_menu": {
    "height": "246px",
    "width": "252px"
   },
   "navigate_menu": true,
   "number_sections": true,
   "sideBar": true,
   "threshold": 4,
   "toc_cell": false,
   "toc_position": {
    "height": "616px",
    "left": "0px",
    "right": "1314px",
    "top": "107px",
    "width": "222px"
   },
   "toc_section_display": "block",
   "toc_window_display": true
  }
 },
 "nbformat": 4,
 "nbformat_minor": 2
}
