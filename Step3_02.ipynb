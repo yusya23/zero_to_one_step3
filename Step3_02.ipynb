{
 "cells": [
  {
   "cell_type": "markdown",
   "metadata": {},
   "source": [
    "# Step3 演習02  TensorfFowチュートリアル\n",
    "---"
   ]
  },
  {
   "cell_type": "markdown",
   "metadata": {},
   "source": [
    "本チュートリアルは機械学習やディープラーニングのフレームワークTensorFlowを使ってMNISTの分類問題に取り組みます。\n",
    "\n",
    "これから利用するTensorFlowは機械学習やディープラーニングに最適化されたフレームワークで、より簡単にモデルの実装を実現できます。\n",
    "\n",
    "はじめにTensorFlowを使った基本的なコーディングを通して基本的なコーディングを身につけ、最後に手書き数字の画像データMNISTの多クラス分類を行います。\n",
    "\n",
    "**はじめに**\n",
    "- for文やwhile文の利用は明示的な利用指示がない場所での利用は避けてください。\n",
    "\n",
    "**本演習の目的**\n",
    "- TensorFlowに触れ、使ってみる。\n",
    "- TensorFlow特有の定数や変数の記述方法を学ぶ。\n",
    "- TensorFlowでニューラルネットワークを構築し、MNISTの多クラス分類を実装してみる。"
   ]
  },
  {
   "cell_type": "markdown",
   "metadata": {},
   "source": [
    "## ご案内"
   ]
  },
  {
   "cell_type": "markdown",
   "metadata": {},
   "source": [
    "以降の演習において、TensorFlow や Keras を使った演習ファイルを用意していますが、自動採点は行いません。\n",
    "\n",
    "重要な確認箇所については、下記のように指示があります。\n",
    "\n",
    "**【確認１】**\n",
    "\n",
    "```py\n",
    "###############START CODE HERE###############\n",
    "#適切な 関数・変数・値 などにNoneを書き換えてください。\n",
    "def test():\n",
    "    test =  None\n",
    "    return test\n",
    "################END CODE HERE################\n",
    "```\n",
    "\n",
    "回答はヒントページに記載しています。わからなかった場合は、ヒントを参考にコードを順に実装してください。\n",
    "\n",
    "また、TensorFlowとKerasの演習ページの冒頭には必ず正解となる自動採点コードを用意しています。\n",
    "\n",
    "以降のセルを実行する前に必ず実行をしてください。"
   ]
  },
  {
   "cell_type": "markdown",
   "metadata": {},
   "source": [
    "**【課題１】** 採点を実行してください。"
   ]
  },
  {
   "cell_type": "code",
   "execution_count": 1,
   "metadata": {
    "collapsed": false
   },
   "outputs": [
    {
     "name": "stdout",
     "output_type": "stream",
     "text": [
      "この課題の採点は全員正解とします。\n"
     ]
    }
   ],
   "source": [
    "#Coursedele-02 Step3 QuestionNumber4 9e3898773d521e3f1932bd07362e4b71\n",
    "print(\"この課題の採点は全員正解とします。\")"
   ]
  },
  {
   "cell_type": "markdown",
   "metadata": {},
   "source": [
    "** ファイルを保存後 **、次のセルを実行（Shift+Enter）で採点を行います。"
   ]
  },
  {
   "cell_type": "code",
   "execution_count": 2,
   "metadata": {
    "collapsed": false
   },
   "outputs": [
    {
     "name": "stdout",
     "output_type": "stream",
     "text": [
      "Congraturation!\n",
      "We give you 10 points out of 10 points.\n",
      "\n"
     ]
    }
   ],
   "source": [
    "%%bash\n",
    "./validation_client.py dele-02 3 4 Step3_02.ipynb api.internal.zero2one.jp"
   ]
  },
  {
   "cell_type": "markdown",
   "metadata": {},
   "source": [
    "## ライブラリのインポート\n",
    "\n",
    "まずはじめに、本演習で利用するライブラリのインポートをします。ライブラリのインポートは作業を行うときには一番はじめに行うようにしましょう。\n",
    "\n",
    "- [NumPy](http://www.numpy.org) 数値計算を行うための基本パッケージの公式ドキュメント\n",
    "- [Matplotlib](http://matplotlib.org) グラフ描画ライブラリの基本パッケージの公式ドキュメント\n",
    "- [TensorFlow](https://www.tensorflow.org/) TensorFlow公式ドキュメント\n",
    "\n",
    "TensorFlowを使うときは一般的に、「import tensorflow as tf」 とはじめに宣言します。"
   ]
  },
  {
   "cell_type": "code",
   "execution_count": 3,
   "metadata": {
    "collapsed": true
   },
   "outputs": [],
   "source": [
    "#ライブラリのインポート\n",
    "%matplotlib inline\n",
    "import numpy as np\n",
    "import matplotlib.pyplot as plt\n",
    "import tensorflow as tf"
   ]
  },
  {
   "cell_type": "markdown",
   "metadata": {},
   "source": [
    "上記のセルを実行したことで、TensorFlowを使う準備が整いました。では、コードを下記のコードを順番に実行してみましょう。"
   ]
  },
  {
   "cell_type": "markdown",
   "metadata": {},
   "source": [
    "## 定数テンソルの作成"
   ]
  },
  {
   "cell_type": "markdown",
   "metadata": {},
   "source": [
    "データの値や形状が決まっているときには、定数テンソルを使用します。tf.zeros([row_dim, col_dim])は** row_dim ** と ** col_dim **にたとえば(5, 3)と値を与えることで０だけからなる5行3列の行列を作ることができます。"
   ]
  },
  {
   "cell_type": "code",
   "execution_count": 4,
   "metadata": {
    "collapsed": true
   },
   "outputs": [],
   "source": [
    "zeros = tf.zeros([5, 3])"
   ]
  },
  {
   "cell_type": "markdown",
   "metadata": {},
   "source": [
    "作成したオペレーションを実行するには、sess = tf.Session() を記述することでセッションを作成し、sess.run()でオペレーションを実行します。"
   ]
  },
  {
   "cell_type": "code",
   "execution_count": 6,
   "metadata": {
    "collapsed": false
   },
   "outputs": [
    {
     "name": "stdout",
     "output_type": "stream",
     "text": [
      "[[0. 0. 0.]\n",
      " [0. 0. 0.]\n",
      " [0. 0. 0.]\n",
      " [0. 0. 0.]\n",
      " [0. 0. 0.]]\n"
     ]
    }
   ],
   "source": [
    "#セッションを作成\n",
    "sess = tf.Session()\n",
    "# 上のセルで作った\"zeros\"を実行\n",
    "print(sess.run(zeros))\n",
    "#セッションを終了\n",
    "sess.close()"
   ]
  },
  {
   "cell_type": "markdown",
   "metadata": {},
   "source": [
    "5行3列の０だけからなる行列出力されたはずです。"
   ]
  },
  {
   "cell_type": "markdown",
   "metadata": {},
   "source": [
    "では、セッション終了後にオペレーションを実行した場合どのような結果になるのか確認してみましょう。下のセルを実行してください。"
   ]
  },
  {
   "cell_type": "code",
   "execution_count": 7,
   "metadata": {
    "collapsed": false
   },
   "outputs": [
    {
     "name": "stdout",
     "output_type": "stream",
     "text": [
      "[[0. 0. 0.]\n",
      " [0. 0. 0.]\n",
      " [0. 0. 0.]\n",
      " [0. 0. 0.]\n",
      " [0. 0. 0.]]\n"
     ]
    },
    {
     "ename": "RuntimeError",
     "evalue": "Attempted to use a closed Session.",
     "output_type": "error",
     "traceback": [
      "\u001b[0;31m---------------------------------------------------------------------------\u001b[0m",
      "\u001b[0;31mRuntimeError\u001b[0m                              Traceback (most recent call last)",
      "\u001b[0;32m<ipython-input-7-e1a3cbf38f90>\u001b[0m in \u001b[0;36m<module>\u001b[0;34m()\u001b[0m\n\u001b[1;32m      5\u001b[0m \u001b[0msess\u001b[0m\u001b[0;34m.\u001b[0m\u001b[0mclose\u001b[0m\u001b[0;34m(\u001b[0m\u001b[0;34m)\u001b[0m\u001b[0;34m\u001b[0m\u001b[0m\n\u001b[1;32m      6\u001b[0m \u001b[0;31m#セッション終了後のオペレーション実行されない\u001b[0m\u001b[0;34m\u001b[0m\u001b[0;34m\u001b[0m\u001b[0m\n\u001b[0;32m----> 7\u001b[0;31m \u001b[0mprint\u001b[0m\u001b[0;34m(\u001b[0m\u001b[0msess\u001b[0m\u001b[0;34m.\u001b[0m\u001b[0mrun\u001b[0m\u001b[0;34m(\u001b[0m\u001b[0mzeros\u001b[0m\u001b[0;34m)\u001b[0m\u001b[0;34m)\u001b[0m\u001b[0;34m\u001b[0m\u001b[0m\n\u001b[0m",
      "\u001b[0;32m/opt/conda/lib/python3.5/site-packages/tensorflow/python/client/session.py\u001b[0m in \u001b[0;36mrun\u001b[0;34m(self, fetches, feed_dict, options, run_metadata)\u001b[0m\n\u001b[1;32m    887\u001b[0m     \u001b[0;32mtry\u001b[0m\u001b[0;34m:\u001b[0m\u001b[0;34m\u001b[0m\u001b[0m\n\u001b[1;32m    888\u001b[0m       result = self._run(None, fetches, feed_dict, options_ptr,\n\u001b[0;32m--> 889\u001b[0;31m                          run_metadata_ptr)\n\u001b[0m\u001b[1;32m    890\u001b[0m       \u001b[0;32mif\u001b[0m \u001b[0mrun_metadata\u001b[0m\u001b[0;34m:\u001b[0m\u001b[0;34m\u001b[0m\u001b[0m\n\u001b[1;32m    891\u001b[0m         \u001b[0mproto_data\u001b[0m \u001b[0;34m=\u001b[0m \u001b[0mtf_session\u001b[0m\u001b[0;34m.\u001b[0m\u001b[0mTF_GetBuffer\u001b[0m\u001b[0;34m(\u001b[0m\u001b[0mrun_metadata_ptr\u001b[0m\u001b[0;34m)\u001b[0m\u001b[0;34m\u001b[0m\u001b[0m\n",
      "\u001b[0;32m/opt/conda/lib/python3.5/site-packages/tensorflow/python/client/session.py\u001b[0m in \u001b[0;36m_run\u001b[0;34m(self, handle, fetches, feed_dict, options, run_metadata)\u001b[0m\n\u001b[1;32m   1045\u001b[0m     \u001b[0;31m# Check session.\u001b[0m\u001b[0;34m\u001b[0m\u001b[0;34m\u001b[0m\u001b[0m\n\u001b[1;32m   1046\u001b[0m     \u001b[0;32mif\u001b[0m \u001b[0mself\u001b[0m\u001b[0;34m.\u001b[0m\u001b[0m_closed\u001b[0m\u001b[0;34m:\u001b[0m\u001b[0;34m\u001b[0m\u001b[0m\n\u001b[0;32m-> 1047\u001b[0;31m       \u001b[0;32mraise\u001b[0m \u001b[0mRuntimeError\u001b[0m\u001b[0;34m(\u001b[0m\u001b[0;34m'Attempted to use a closed Session.'\u001b[0m\u001b[0;34m)\u001b[0m\u001b[0;34m\u001b[0m\u001b[0m\n\u001b[0m\u001b[1;32m   1048\u001b[0m     \u001b[0;32mif\u001b[0m \u001b[0mself\u001b[0m\u001b[0;34m.\u001b[0m\u001b[0mgraph\u001b[0m\u001b[0;34m.\u001b[0m\u001b[0mversion\u001b[0m \u001b[0;34m==\u001b[0m \u001b[0;36m0\u001b[0m\u001b[0;34m:\u001b[0m\u001b[0;34m\u001b[0m\u001b[0m\n\u001b[1;32m   1049\u001b[0m       raise RuntimeError('The Session graph is empty.  Add operations to the '\n",
      "\u001b[0;31mRuntimeError\u001b[0m: Attempted to use a closed Session."
     ]
    }
   ],
   "source": [
    "#セッションを作成\n",
    "sess = tf.Session()\n",
    "print(sess.run(zeros))\n",
    "#セッションを終了\n",
    "sess.close()\n",
    "#セッション終了後のオペレーション実行されない\n",
    "print(sess.run(zeros))"
   ]
  },
  {
   "cell_type": "markdown",
   "metadata": {},
   "source": [
    "上のセルでは、セッション終了後にオペレーションを実行しようとしたためエラーになってしまいます。\n",
    "\n",
    "必ずセッション内に実行させたいコードは記述してください。"
   ]
  },
  {
   "cell_type": "markdown",
   "metadata": {},
   "source": [
    "tf.constantは定数テンソルを作成することができます。下のセルを実行してみましょう。"
   ]
  },
  {
   "cell_type": "code",
   "execution_count": 8,
   "metadata": {
    "collapsed": false
   },
   "outputs": [
    {
     "name": "stdout",
     "output_type": "stream",
     "text": [
      "[0 1 2 3 4 5]\n"
     ]
    }
   ],
   "source": [
    "#定数テンソルを作成\n",
    "constant_tf = tf.constant([0, 1, 2, 3, 4, 5])\n",
    "#セッションを作成\n",
    "sess = tf.Session()\n",
    "#オペレーションを実行\n",
    "print(sess.run(constant_tf))\n",
    "#セッションを終了\n",
    "sess.close()"
   ]
  },
  {
   "cell_type": "markdown",
   "metadata": {},
   "source": [
    "## プレースホルダー（placeholder）"
   ]
  },
  {
   "cell_type": "markdown",
   "metadata": {},
   "source": [
    "placeholderは特定の形や型をもつ箱です。下のセルの場合、add_opはfeed_dictに辞書型のオブジェクト({})を与えることでテンソルa,bに値を渡しています。"
   ]
  },
  {
   "cell_type": "code",
   "execution_count": 9,
   "metadata": {
    "collapsed": false
   },
   "outputs": [
    {
     "name": "stdout",
     "output_type": "stream",
     "text": [
      "[5. 7. 9.]\n"
     ]
    }
   ],
   "source": [
    "# 入力データ\n",
    "x1 = np.array([1, 2, 3])\n",
    "x2 = np.array([4, 5, 6])\n",
    "\n",
    "#プレースホルダーを作成\n",
    "a = tf.placeholder(tf.float32, shape=[3, ])\n",
    "b = tf.placeholder(tf.float32, shape=[3, ])\n",
    "\n",
    "#足し算のオペレーション\n",
    "add_op = tf.add(a, b) \n",
    " \n",
    "#セッションを作成\n",
    "sess = tf.Session()\n",
    "#セッションを実行\n",
    "print(sess.run(add_op, feed_dict={a:x1, b:x2}))\n",
    "#セッションを終了\n",
    "sess.close()"
   ]
  },
  {
   "cell_type": "markdown",
   "metadata": {},
   "source": [
    "形状が変化する場合や不明な場合には placeholder の shape を None とします。"
   ]
  },
  {
   "cell_type": "code",
   "execution_count": 10,
   "metadata": {
    "collapsed": false
   },
   "outputs": [
    {
     "name": "stdout",
     "output_type": "stream",
     "text": [
      "[[0.56465626 0.9176212  0.9918288  0.48419696]\n",
      " [0.4136229  0.569998   0.8199734  0.3481312 ]\n",
      " [0.65283877 0.03750031 0.0603468  0.36001727]\n",
      " [0.28901467 0.50074    0.7765269  0.8037076 ]\n",
      " [0.81425226 0.8664388  0.5938568  0.6921788 ]\n",
      " [0.5713067  0.1297348  0.15557954 0.28375548]\n",
      " [0.9681623  0.8987274  0.05830963 0.52807474]\n",
      " [0.81135476 0.4437738  0.75750023 0.5609942 ]]\n"
     ]
    }
   ],
   "source": [
    "#プレースホルダーを作成\n",
    "x = tf.placeholder(tf.float32, shape=[None, None])\n",
    "\n",
    "#8行4列の乱数を生成\n",
    "x_vals = np.random.rand(8, 4)\n",
    "\n",
    "#セッションを作成\n",
    "sess = tf.Session()\n",
    "\n",
    "#sessを実行\n",
    "#ここではxに値を渡します。feed_dictでは辞書型でプレースホルダーに値を渡します。\n",
    "print(sess.run(x, feed_dict={x:x_vals}))\n",
    "\n",
    "#セッションを終了\n",
    "sess.close()"
   ]
  },
  {
   "cell_type": "markdown",
   "metadata": {},
   "source": [
    "## 変数（variable）"
   ]
  },
  {
   "cell_type": "markdown",
   "metadata": {},
   "source": [
    "変数テンソルを作成するには、tf.variable()を使用します。tf.variable()は、入力としてテンソルを受け取り変数を出力します。\n",
    "\n",
    "tf.variable()をプログラム上で実行する際は、変数を初期化 ** global_variables_initializer() ** する必要があります。下のセルを実行してください。"
   ]
  },
  {
   "cell_type": "code",
   "execution_count": 11,
   "metadata": {
    "collapsed": false
   },
   "outputs": [
    {
     "name": "stdout",
     "output_type": "stream",
     "text": [
      "2\n",
      "4\n",
      "6\n",
      "8\n",
      "10\n"
     ]
    }
   ],
   "source": [
    "#変数テンソルを作成\n",
    "var = tf.Variable(0)\n",
    "#定数テンソルを作成\n",
    "x = tf.constant(2)\n",
    "\n",
    "#足し算のオペレーション\n",
    "add_op = tf.add(var, x)\n",
    "\n",
    "#\"add_op\"の結果を変数に代入\n",
    "assign_op = tf.assign(var, add_op)\n",
    "\n",
    "#セッションを作成\n",
    "with tf.Session() as sess:\n",
    "    #変数を初期化\n",
    "    #下の１行をコメントアウトすることで挙動の違いを確認してみてください。\n",
    "    sess.run(tf.global_variables_initializer())\n",
    "    for i in range(5):\n",
    "        print(sess.run(assign_op))"
   ]
  },
  {
   "cell_type": "markdown",
   "metadata": {},
   "source": [
    "今回の例ではまずはじめに変数を0で初期化しtf.assign でtf.add() の演算結果を新たな変数として var に代入しています。これを5回繰り返しています。"
   ]
  },
  {
   "cell_type": "markdown",
   "metadata": {},
   "source": [
    "## 行列をつくって演算をおこなってみる"
   ]
  },
  {
   "cell_type": "markdown",
   "metadata": {},
   "source": [
    "定数テンソル（2次元配列の行列）を作成し、演算を行います。"
   ]
  },
  {
   "cell_type": "markdown",
   "metadata": {},
   "source": [
    "### 行列の作成"
   ]
  },
  {
   "cell_type": "markdown",
   "metadata": {},
   "source": [
    "下のセルで、a, b, c で定義される行列を作成します。\n",
    "- tf.diag()：任意の定数の対角成分を持つテンソルを作成\n",
    "- tf.fill()：任意の定数のテンソルを作成\n",
    "- tf.random_uniform：ランダムな値をもつ定数テンソルを作成"
   ]
  },
  {
   "cell_type": "code",
   "execution_count": 12,
   "metadata": {
    "collapsed": false
   },
   "outputs": [
    {
     "name": "stdout",
     "output_type": "stream",
     "text": [
      "aの行列\n",
      "[[1. 0. 0.]\n",
      " [0. 2. 0.]\n",
      " [0. 0. 3.]]\n",
      "bの行列\n",
      "[[10. 10.]\n",
      " [10. 10.]\n",
      " [10. 10.]]\n",
      "cの行列\n",
      "[[0.18836701 0.59811807]\n",
      " [0.68526125 0.55450785]\n",
      " [0.78834534 0.8127433 ]]\n"
     ]
    }
   ],
   "source": [
    "a = tf.diag([1., 2., 3.])\n",
    "b = tf.fill([3, 2], 10.)\n",
    "c = tf.random_uniform([3,2])\n",
    "sess = tf.Session()\n",
    "print(\"aの行列\")\n",
    "print(sess.run(a))\n",
    "print(\"bの行列\")\n",
    "print(sess.run(b))\n",
    "print(\"cの行列\")\n",
    "print(sess.run(c))"
   ]
  },
  {
   "cell_type": "markdown",
   "metadata": {},
   "source": [
    "作成した行列 a,b,c を使って、行列演算を行ってみます。"
   ]
  },
  {
   "cell_type": "markdown",
   "metadata": {},
   "source": [
    "### 行列の足し算"
   ]
  },
  {
   "cell_type": "code",
   "execution_count": 14,
   "metadata": {
    "collapsed": false
   },
   "outputs": [
    {
     "name": "stdout",
     "output_type": "stream",
     "text": [
      "[[10.473225 10.646978]\n",
      " [10.238447 10.588563]\n",
      " [10.545839 10.353107]]\n"
     ]
    }
   ],
   "source": [
    "sess = tf.Session()\n",
    "print(sess.run(tf.add(b, c)))\n",
    "sess.close()"
   ]
  },
  {
   "cell_type": "markdown",
   "metadata": {},
   "source": [
    "### 行列の引き算"
   ]
  },
  {
   "cell_type": "code",
   "execution_count": 15,
   "metadata": {
    "collapsed": false
   },
   "outputs": [
    {
     "name": "stdout",
     "output_type": "stream",
     "text": [
      "[[9.3300295 9.996277 ]\n",
      " [9.720004  9.750545 ]\n",
      " [9.832621  9.514073 ]]\n"
     ]
    }
   ],
   "source": [
    "sess = tf.Session()\n",
    "print(sess.run(tf.subtract(b, c)))\n",
    "sess.close()"
   ]
  },
  {
   "cell_type": "markdown",
   "metadata": {},
   "source": [
    "### 行列の掛け算"
   ]
  },
  {
   "cell_type": "code",
   "execution_count": 16,
   "metadata": {
    "collapsed": false
   },
   "outputs": [
    {
     "name": "stdout",
     "output_type": "stream",
     "text": [
      "[[10. 10.]\n",
      " [20. 20.]\n",
      " [30. 30.]]\n"
     ]
    }
   ],
   "source": [
    "sess = tf.Session()\n",
    "print(sess.run(tf.matmul(a, b)))\n",
    "sess.close()"
   ]
  },
  {
   "cell_type": "markdown",
   "metadata": {},
   "source": [
    "### 行列の成分どうしの掛け算"
   ]
  },
  {
   "cell_type": "code",
   "execution_count": 17,
   "metadata": {
    "collapsed": false
   },
   "outputs": [
    {
     "name": "stdout",
     "output_type": "stream",
     "text": [
      "[[100. 100.]\n",
      " [100. 100.]\n",
      " [100. 100.]]\n"
     ]
    }
   ],
   "source": [
    "sess = tf.Session()\n",
    "print(sess.run(tf.multiply(b, b)))\n",
    "sess.close()"
   ]
  },
  {
   "cell_type": "markdown",
   "metadata": {},
   "source": [
    "以上で、TensorFlowの基本的な使い方を学習しました。これまで紹介した手法はTensorFlowの一部です。\n",
    "\n",
    "さらなる技術を身につけたい場合はドキュメントを参考にしながら挑戦しましょう。"
   ]
  },
  {
   "cell_type": "markdown",
   "metadata": {},
   "source": [
    "---"
   ]
  },
  {
   "cell_type": "markdown",
   "metadata": {},
   "source": [
    "# MNIST多クラス分類の実装"
   ]
  },
  {
   "cell_type": "markdown",
   "metadata": {},
   "source": [
    "ここからはTensorFlowを使いニューラルネットワークのモデルを構築し、MNISTの多クラス分類の実装を行ないます。TensorFlowを使ったモデルの構築手順や方法を学習します。"
   ]
  },
  {
   "cell_type": "markdown",
   "metadata": {},
   "source": [
    "## ライブラリのインポート\n",
    "\n",
    "改めてライブラリのインポートを行なっておきます。"
   ]
  },
  {
   "cell_type": "code",
   "execution_count": 18,
   "metadata": {
    "collapsed": true
   },
   "outputs": [],
   "source": [
    "# ライブラリのインポート\n",
    "%matplotlib inline\n",
    "import numpy as np\n",
    "import matplotlib.pyplot as plt\n",
    "import tensorflow as tf"
   ]
  },
  {
   "cell_type": "markdown",
   "metadata": {},
   "source": [
    "## データセットの準備"
   ]
  },
  {
   "cell_type": "markdown",
   "metadata": {},
   "source": [
    "この演習では \"MNIST\" と呼ばれる手書き数字のデータを用います。28ピクセル×28ピクセルのグレースケール画像が学習用データとして55,000枚、テスト用データとして10,000枚含まれています。今回はTensorFlowで用意されている関数からデータを読み込みます。\n",
    "\n",
    "read_data_setsの引数は\n",
    "1. ファイルの保存場所\n",
    "2. one_hot: one-hotベクトル化するかどうか\n",
    "3. validation_size: 検証用データの枚数、今回は訓練データとテストデータのみ使用します\n",
    "4. source_url: データセットのダウンロード元\n",
    "\n",
    "使用しているネットワークの強さによりロードに多少時間がかかる場合があります。"
   ]
  },
  {
   "cell_type": "code",
   "execution_count": 19,
   "metadata": {
    "collapsed": false
   },
   "outputs": [
    {
     "name": "stdout",
     "output_type": "stream",
     "text": [
      "Extracting MNIST_data/train-images-idx3-ubyte.gz\n",
      "Extracting MNIST_data/train-labels-idx1-ubyte.gz\n",
      "Extracting MNIST_data/t10k-images-idx3-ubyte.gz\n",
      "Extracting MNIST_data/t10k-labels-idx1-ubyte.gz\n"
     ]
    }
   ],
   "source": [
    "from tensorflow.examples.tutorials.mnist import input_data\n",
    "mnist = input_data.read_data_sets(\"MNIST_data/\", one_hot=True)"
   ]
  },
  {
   "cell_type": "markdown",
   "metadata": {},
   "source": [
    "ダウンロードしたデータセットを**訓練データ**と**テストデータ**にそれぞれ定義しておきます。"
   ]
  },
  {
   "cell_type": "code",
   "execution_count": 20,
   "metadata": {
    "collapsed": false
   },
   "outputs": [
    {
     "name": "stdout",
     "output_type": "stream",
     "text": [
      "X_train：訓練データ\n",
      "y_train：訓練データの正解ラベル\n",
      "X_test：テストデータ\n",
      "y_test：テストデータの正解ラベル\n"
     ]
    }
   ],
   "source": [
    "X_train = mnist.train.images\n",
    "y_train = mnist.train.labels\n",
    "X_test = mnist.test.images\n",
    "y_test = mnist.test.labels\n",
    "\n",
    "print(\"X_train：訓練データ\")\n",
    "print(\"y_train：訓練データの正解ラベル\")\n",
    "print(\"X_test：テストデータ\")\n",
    "print(\"y_test：テストデータの正解ラベル\")"
   ]
  },
  {
   "cell_type": "markdown",
   "metadata": {},
   "source": [
    "訓練データとテストデータのshapeを確認します。"
   ]
  },
  {
   "cell_type": "code",
   "execution_count": 21,
   "metadata": {
    "collapsed": false
   },
   "outputs": [
    {
     "name": "stdout",
     "output_type": "stream",
     "text": [
      "訓練データ数：55000\n",
      "訓練データ数の特徴（ピクセル）：784\n",
      "テストデータ数：10000\n",
      "テストデータ数の特徴（ピクセル）：784\n"
     ]
    }
   ],
   "source": [
    "print(\"訓練データ数：{}\".format(X_train.shape[0]))\n",
    "print(\"訓練データ数の特徴（ピクセル）：{}\".format(X_train.shape[1]))\n",
    "print(\"テストデータ数：{}\".format(X_test.shape[0]))\n",
    "print(\"テストデータ数の特徴（ピクセル）：{}\".format(X_test.shape[1]))"
   ]
  },
  {
   "cell_type": "markdown",
   "metadata": {},
   "source": [
    "\"X_train：訓練データ\"は、学習用データの55000枚の画像データを行列にしたもの（28×28=784）として格納されています。\n",
    "\n",
    "同様に、\"X_test：テストデータ\"は、テスト用データの10000枚の画像データを行列にしたもの（28×28=784）として格納されています。"
   ]
  },
  {
   "cell_type": "markdown",
   "metadata": {},
   "source": [
    "### データの視覚化"
   ]
  },
  {
   "cell_type": "markdown",
   "metadata": {},
   "source": [
    "ここで学習データの画像をランダムに表示させてみます。セルを実行するたびに画像が変わります。"
   ]
  },
  {
   "cell_type": "code",
   "execution_count": 22,
   "metadata": {
    "collapsed": false
   },
   "outputs": [
    {
     "name": "stdout",
     "output_type": "stream",
     "text": [
      "数字：8\n"
     ]
    },
    {
     "data": {
      "image/png": "[encoded data removed]",
      "text/plain": [
       "<matplotlib.figure.Figure at 0x7f358d371240>"
      ]
     },
     "metadata": {},
     "output_type": "display_data"
    }
   ],
   "source": [
    "num = np.random.randint(0, len(mnist.train.images))\n",
    "plt.imshow(mnist.train.images[num].reshape(28, 28), cmap='gray')\n",
    "print(\"数字：{}\".format(np.argmax(mnist.train.labels[num])))"
   ]
  },
  {
   "cell_type": "markdown",
   "metadata": {},
   "source": [
    "次に正解ラベルを見てみます。正解ラベルとなる y_train のshapeは(55000,10)です。次のセルを実行して訓練データとテストデータの正解ラベルのデータの性質を確認します。"
   ]
  },
  {
   "cell_type": "code",
   "execution_count": 23,
   "metadata": {
    "collapsed": false
   },
   "outputs": [
    {
     "name": "stdout",
     "output_type": "stream",
     "text": [
      "訓練データの正解ラベル数：55000\n",
      "訓練データ数の正解ラベルの配列数：10\n",
      "テストデータの正解ラベル数：10000\n",
      "テストデータ数の正解ラベルの配列数：10\n"
     ]
    }
   ],
   "source": [
    "print(\"訓練データの正解ラベル数：{}\".format(y_train.shape[0]))\n",
    "print(\"訓練データ数の正解ラベルの配列数：{}\".format(y_train.shape[1]))\n",
    "print(\"テストデータの正解ラベル数：{}\".format(y_test.shape[0]))\n",
    "print(\"テストデータ数の正解ラベルの配列数：{}\".format(y_test.shape[1]))"
   ]
  },
  {
   "cell_type": "markdown",
   "metadata": {},
   "source": [
    "訓練データの場合、正解ラベル数は55000となっており、それぞれに対して答えとなるラベル部分には「１」が与えられています。下のセルを実行してみましょう。"
   ]
  },
  {
   "cell_type": "code",
   "execution_count": 24,
   "metadata": {
    "collapsed": false
   },
   "outputs": [
    {
     "data": {
      "text/plain": [
       "array([[0., 0., 0., 0., 0., 0., 0., 1., 0., 0.],\n",
       "       [0., 0., 0., 1., 0., 0., 0., 0., 0., 0.],\n",
       "       [0., 0., 0., 0., 1., 0., 0., 0., 0., 0.],\n",
       "       [0., 0., 0., 0., 0., 0., 1., 0., 0., 0.],\n",
       "       [0., 1., 0., 0., 0., 0., 0., 0., 0., 0.]])"
      ]
     },
     "execution_count": 24,
     "metadata": {},
     "output_type": "execute_result"
    }
   ],
   "source": [
    "y_train[:5,:]"
   ]
  },
  {
   "cell_type": "markdown",
   "metadata": {},
   "source": [
    "例えば、数字の０に対応する正解ラベルは配列の0番目に１がはいっています。数字の1に対応するラベルには配列の1番目に1がはいっています。３以降も同様のルールです。下の画像はこれらのルールを可視化したものになります。\n",
    "<p>\n",
    "\n",
    "<div align=\"center\"  style=\"width:50%\">\n",
    "<img src=\"./img/step3_mnist_label_019.png\"></div>"
   ]
  },
  {
   "cell_type": "markdown",
   "metadata": {},
   "source": [
    "### データセットのシャッフル"
   ]
  },
  {
   "cell_type": "markdown",
   "metadata": {},
   "source": [
    "MNISTのデータセットをシャッフルします。データセットをそのまま使わずにシャッフルするのはなぜでしょうか。例えば、データがラベル(y)に対してソートされていたとします。すると、そのまま冒頭3000サンプルを取って学習に使うと、0, 1と書いてあるデータばかりが集まってしまうことになってしまいます。一見分からないような規則でソートされている可能性もあるので、データセットの順番がバラバラに見えても必ず最初にシャッフルしましょう。"
   ]
  },
  {
   "cell_type": "code",
   "execution_count": 25,
   "metadata": {
    "collapsed": true
   },
   "outputs": [],
   "source": [
    "#データセットのシャッフル\n",
    "permutation = np.random.permutation(mnist.train.images.shape[0])\n",
    "X_train = mnist.train.images[permutation]\n",
    "y_train = mnist.train.labels[permutation]"
   ]
  },
  {
   "cell_type": "markdown",
   "metadata": {},
   "source": [
    "### データセットの正規化"
   ]
  },
  {
   "cell_type": "markdown",
   "metadata": {},
   "source": [
    "データセット全体が平均0.0，分散1.0となるように正規化します。"
   ]
  },
  {
   "cell_type": "code",
   "execution_count": 26,
   "metadata": {
    "collapsed": true
   },
   "outputs": [],
   "source": [
    "mean = np.mean(X_train)\n",
    "std = np.std(X_train)\n",
    "X_train = (X_train-mean)/std\n",
    "X_test = (X_test-mean)/std"
   ]
  },
  {
   "cell_type": "markdown",
   "metadata": {},
   "source": [
    "## ニューラルネットワークモデル"
   ]
  },
  {
   "cell_type": "markdown",
   "metadata": {},
   "source": [
    "入力層のユニット数は特徴の数である784個、出力層は0~9の数字の１０クラス、隱れ層のユニット数は100個とします。\n",
    "<br>\n",
    "今回は下に示すネットワークのモデルを構築します。\n",
    "\n",
    "- 入力層のユニット数784個\n",
    "- 隠れ層のユニット数100個\n",
    "- 出力層のユニット数10個\n",
    "\n",
    "**モデル**:\n",
    "<div style=\"width:40%\">\n",
    "<img src=\"./img/step3_mlp_784-10.png\"><div>"
   ]
  },
  {
   "cell_type": "markdown",
   "metadata": {},
   "source": [
    "## データのサイズ"
   ]
  },
  {
   "cell_type": "markdown",
   "metadata": {},
   "source": [
    "あらかじめデータセットのサイズが分かっている場合は変数として定義しておきます。\n",
    "\n",
    "もしなんらかの変更があった場合、一部分だけを変更することで対処することができるようになります。\n",
    "\n",
    "あらかじめ定義しておくパラメータは経験的にわかってきます。徐々に慣れていきましょう。"
   ]
  },
  {
   "cell_type": "code",
   "execution_count": 29,
   "metadata": {
    "collapsed": true
   },
   "outputs": [],
   "source": [
    "# MNISTの画像の１辺のピクセル\n",
    "img_size = 28\n",
    "\n",
    "# MNISTの画像 28×28ピクセル = 784ピクセル\n",
    "img_size_flat = img_size * img_size\n",
    "\n",
    "# クラスの数\n",
    "num_classes = 10\n",
    "\n",
    "#隠れ層\n",
    "hidden_layer =100"
   ]
  },
  {
   "cell_type": "markdown",
   "metadata": {},
   "source": [
    "## 入力データと正解ラベル"
   ]
  },
  {
   "cell_type": "markdown",
   "metadata": {},
   "source": [
    "** x（入力データ） **は、MNISTの入力画像は784次元（ピクセル）の平坦化されたデータを任意の個数入力したいので、shape [None, 784] を持つ浮動小数点数値の2次元テンソルとします。（None は次元が任意の長さを取りうることを意味しています。）<br>\n",
    "** y(正解ラベル) **は、MNISTの正解ラベルです。正解ラベルは10クラスのため、shape [None, 10]を持つ浮動小数点数値の2次元テンソルとします。 \n",
    "\n",
    "** Note： **<br>\n",
    "- 入力データと正解ラベルには箱である Placeholder を使います。大量のデータを取り扱うニューラルネットワークの学習ではミニバッチで学習を行うことが多いため常に入力データの個数が変化しても対応できるようにします。\n",
    "- 入力データの784ピクセルのshapeはデータのサイズで用意した「img_size_flat」を使うことができます。\n",
    "- 正解ラベルの10クラスのshapeはデータのサイズで用意した「num_classes」を使うことができます。"
   ]
  },
  {
   "cell_type": "code",
   "execution_count": 30,
   "metadata": {
    "collapsed": true
   },
   "outputs": [],
   "source": [
    "#入力データ\n",
    "x = tf.placeholder(tf.float32, shape=[None, img_size_flat])\n",
    "#正解ラベル\n",
    "y = tf.placeholder(tf.float32, [None, num_classes])"
   ]
  },
  {
   "cell_type": "markdown",
   "metadata": {},
   "source": [
    "## パラメータの初期化"
   ]
  },
  {
   "cell_type": "markdown",
   "metadata": {},
   "source": [
    "重みwを平均0.0，分散1.0となるように初期化します。正規分布のランダムな値の生成はTensorFlowの** tf.truncated_normal **を使うことができます。バイアスbは０で定数初期化します。\n",
    "\n",
    "- 重みとバイアスには、状態を保持し更新する** tf.Variable ** を使います。\n",
    "- 重みの初期化は次のコードで実装します。[tf.truncated_normal](https://www.tensorflow.org/api_docs/python/tf/truncated_normal)：tf.truncated_normal([shape, shape], mean=0.0, stddev=1.0))\n",
    "- バイアスbは、tf.zeros を使うことができます。"
   ]
  },
  {
   "cell_type": "code",
   "execution_count": 31,
   "metadata": {
    "collapsed": true
   },
   "outputs": [],
   "source": [
    "# 重みとバイアス\n",
    "w1 = tf.Variable(tf.truncated_normal([img_size_flat, hidden_layer], mean=0.0, stddev=1.0))\n",
    "b1 = tf.Variable(tf.zeros([hidden_layer]))\n",
    "w2 = tf.Variable(tf.truncated_normal([hidden_layer, num_classes], mean=0.0, stddev=1.0))\n",
    "b2 = tf.Variable(tf.zeros([num_classes]))"
   ]
  },
  {
   "cell_type": "markdown",
   "metadata": {},
   "source": [
    "## モデル実装"
   ]
  },
  {
   "cell_type": "markdown",
   "metadata": {},
   "source": [
    "モデルを実装します。隠れ層の活性化関数はシグモイド関数、出力層はソフトマックス関数にします。 TensorFlowではニューラルネットワークの活性化関数が用意されています。シグモイド関数の場合、** tf.nn.sigmoid ** で実装することができます。\n",
    "\n",
    "[Neural Network:Activation Functions](https://www.tensorflow.org/api_guides/python/nn#Activation_Functions)\n",
    "\n",
    "\n",
    "**フォワード**:\n",
    "$$z^{(1)}=W^{(1)\\top}x^{(1)}+b^{(1)}$$\n",
    "$$a^{(1)}=sigmoid(z^{(1)})$$\n",
    "$$z^{(2)}=W^{(2)\\top}a^{(2)}+b^{(2)}$$\n",
    "$$a^{(2)}=softmax(z^{(2)})$$\n",
    "\n",
    "** ヒント： **\n",
    "- 重みと入力データの演算は tf.matmul() を使用することができます。\n",
    "- 隠れ層 シグモイド関数：tf.nn.sigmoid()を使用することができます。\n",
    "- 出力層 ソフトマックス関数：tf.nn.softmax()を使用することができます。"
   ]
  },
  {
   "cell_type": "code",
   "execution_count": 32,
   "metadata": {
    "collapsed": true
   },
   "outputs": [],
   "source": [
    "# model\n",
    "layer1_a = tf.nn.sigmoid(tf.matmul(x, w1) + b1)\n",
    "layer2_a = tf.nn.softmax(tf.matmul(layer1_a, w2) + b2)"
   ]
  },
  {
   "cell_type": "markdown",
   "metadata": {},
   "source": [
    "## コスト関数"
   ]
  },
  {
   "cell_type": "markdown",
   "metadata": {},
   "source": [
    "コスト関数はクロスエントロピー関数にします。\n",
    "- $\\hat{y}$ はモデルの出力\n",
    "- $y$ は正解ラベル\n",
    "\n",
    "**コスト関数**：\n",
    "$$C(w,b)=-\\sum_{n=1}^{m}y_n{\\log}\\hat{y}_{n}$$\n",
    "\n",
    "** Note： **\n",
    "- $\\sum$は tf.reduce_sum() を使うことでテンソルすべての要素を足し合わせます。\n",
    "- $log$は tf.log()を使うことができます。"
   ]
  },
  {
   "cell_type": "code",
   "execution_count": 33,
   "metadata": {
    "collapsed": true
   },
   "outputs": [],
   "source": [
    "#コスト関数\n",
    "cross_entropy = - tf.reduce_sum( y * tf.log(layer2_a))"
   ]
  },
  {
   "cell_type": "markdown",
   "metadata": {},
   "source": [
    "## 最適化"
   ]
  },
  {
   "cell_type": "markdown",
   "metadata": {},
   "source": [
    "TensorFlowのライブラリを使った最適化の実装を行います。\n",
    "\n",
    "コスト関数を今回はSGDで最適化します。実装は、** tf.train.GradientDescentOptimizer().minimize() **で行います。\n",
    "\n",
    "- `Optimizer`: [tf.train.GradientDescentOptimizer](https://www.tensorflow.org/api_docs/python/tf/train/GradientDescentOptimizer)\n",
    "- tf.train.GradientDescentOptimizer()の引数には `learning_rate` を渡します。また、最適化したいコスト関数を`.mnimize(cross_entropy)`でtf.train.GradientDescentOptimizer()の後尾に書き加えます。"
   ]
  },
  {
   "cell_type": "code",
   "execution_count": 34,
   "metadata": {
    "collapsed": true
   },
   "outputs": [],
   "source": [
    "#学習率\n",
    "learning_rate = 0.01"
   ]
  },
  {
   "cell_type": "markdown",
   "metadata": {},
   "source": [
    "**【確認１】** 適切な 関数・変数・値 などにNoneを書き換えてください。"
   ]
  },
  {
   "cell_type": "code",
   "execution_count": 36,
   "metadata": {
    "collapsed": false
   },
   "outputs": [],
   "source": [
    "#最適化\n",
    "Optimizer = tf.train.GradientDescentOptimizer(learning_rate).minimize(cross_entropy)"
   ]
  },
  {
   "cell_type": "markdown",
   "metadata": {},
   "source": [
    "### 正解率"
   ]
  },
  {
   "cell_type": "markdown",
   "metadata": {},
   "source": [
    "ここでは精度を計算するコードを実装します。\n",
    "- `correct_pred`: [tf.equal](https://www.tensorflow.org/api_docs/python/tf/equal)を使い予測結果と正解ラベルを比較します。この際に、まず両方とも[tf.argmax](https://www.tensorflow.org/api_docs/python/tf/argmax)を使いone-hot-vectorの最大値のインデックスを返させます。ここで、`axis=1`とするのを忘れないようにしてください。\n",
    "- `accuracy`: `correct_pred`はbool型（[True, False, True...])となっているので[tf.cast](https://www.tensorflow.org/api_docs/python/tf/cast)を使ってtf.float32に変換させます。そして、[tf.reduce_mean](https://www.tensorflow.org/api_docs/python/tf/reduce_mean)を使って精度を求めます。"
   ]
  },
  {
   "cell_type": "code",
   "execution_count": 37,
   "metadata": {
    "collapsed": true
   },
   "outputs": [],
   "source": [
    "correct_pred = tf.equal(tf.argmax(y, 1), tf.argmax(layer2_a, 1))\n",
    "accuracy = tf.reduce_mean(tf.cast(correct_pred, tf.float32))"
   ]
  },
  {
   "cell_type": "markdown",
   "metadata": {},
   "source": [
    "## Variableを初期化"
   ]
  },
  {
   "cell_type": "markdown",
   "metadata": {},
   "source": [
    "** tf.global_variables_initializer() **を宣言してvariableを初期化します。ここでは宣言のみを行なっています。"
   ]
  },
  {
   "cell_type": "markdown",
   "metadata": {},
   "source": [
    "**【確認２】** 適切な 関数・変数・値 などにNoneを書き換えてください。"
   ]
  },
  {
   "cell_type": "code",
   "execution_count": 39,
   "metadata": {
    "collapsed": false
   },
   "outputs": [],
   "source": [
    "# variablesを初期化\n",
    "init = tf.global_variables_initializer()"
   ]
  },
  {
   "cell_type": "markdown",
   "metadata": {},
   "source": [
    "## モデルの学習"
   ]
  },
  {
   "cell_type": "markdown",
   "metadata": {},
   "source": [
    "エポック数、全データセットの数、バッチサイズを以下の通りにします。"
   ]
  },
  {
   "cell_type": "code",
   "execution_count": 40,
   "metadata": {
    "collapsed": true
   },
   "outputs": [],
   "source": [
    "#エポック数\n",
    "epochs = 10\n",
    "#データセットの数：55000\n",
    "sample_size = X_train.shape[0]\n",
    "#バッチサイズ\n",
    "batch_size = 100"
   ]
  },
  {
   "cell_type": "markdown",
   "metadata": {},
   "source": [
    "下のセルを実行し、モデルの学習を開始します。"
   ]
  },
  {
   "cell_type": "code",
   "execution_count": 41,
   "metadata": {
    "collapsed": false
   },
   "outputs": [
    {
     "name": "stdout",
     "output_type": "stream",
     "text": [
      "Training...\n",
      "accurary：  0.89 epoch：  1.00\n",
      "accurary：  0.92 epoch：  2.00\n",
      "accurary：  0.93 epoch：  3.00\n",
      "accurary：  0.94 epoch：  4.00\n",
      "accurary：  0.94 epoch：  5.00\n",
      "accurary：  0.95 epoch：  6.00\n",
      "accurary：  0.95 epoch：  7.00\n",
      "accurary：  0.95 epoch：  8.00\n",
      "accurary：  0.95 epoch：  9.00\n",
      "accurary：  0.96 epoch： 10.00\n",
      "test data accuracy =  0.9269\n"
     ]
    }
   ],
   "source": [
    "#エポックの回数を初期化\n",
    "count = 0\n",
    "\n",
    "# コスト/精度を記録するための配列\n",
    "train_data_cost = []\n",
    "test_data_cost = []\n",
    "train_data_acc = []\n",
    "test_data_acc = []\n",
    "\n",
    "#セッションを作成\n",
    "with tf.Session() as sess:\n",
    "    # variableを初期化\n",
    "    sess.run(init)\n",
    "    print('Training...')\n",
    "    #エポック\n",
    "    for i in range(epochs):\n",
    "        #ミニバッチ\n",
    "        for i in range(0, sample_size, batch_size):\n",
    "            # ミニバッチ\n",
    "            batch_xs = X_train[i:i+batch_size]\n",
    "            batch_ys = y_train[i:i+batch_size]\n",
    "            # オペレーションの実行\n",
    "            sess.run(Optimizer ,feed_dict={x:batch_xs, y:batch_ys})\n",
    "\n",
    "        #エポックごとの全訓練データのコストを記録\n",
    "        train_cost = sess.run(cross_entropy, feed_dict={x: X_train, y: y_train})\n",
    "        train_data_cost.append(train_cost / X_train.shape[0])\n",
    "        \n",
    "        #エポックごとの全テストデータのコストを記録\n",
    "        test_cost = sess.run(cross_entropy, feed_dict={x: X_test, y: y_test})\n",
    "        test_data_cost.append(test_cost / X_test.shape[0] )\n",
    "        \n",
    "        #エポックごとの全訓練データの精度を記録\n",
    "        train_accuracy = sess.run(accuracy, feed_dict={x: X_train, y: y_train})\n",
    "        train_data_acc.append(train_accuracy)\n",
    "        \n",
    "        #エポックごとの全テストデータの精度を記録\n",
    "        test_accuracy = sess.run(accuracy, ({x: X_test, y: y_test}))\n",
    "        test_data_acc.append(test_accuracy)\n",
    "        \n",
    "        #エポック数をカウント\n",
    "        count += 1\n",
    "        print('accurary：{0:6.2f}'.format(train_accuracy),'epoch：{0:6.2f}'.format(int(count))) \n",
    "    \n",
    "    print('test data accuracy = ', sess.run(accuracy, ({x: X_test, y: y_test})))"
   ]
  },
  {
   "cell_type": "markdown",
   "metadata": {},
   "source": [
    "## コスト減少のグラフ"
   ]
  },
  {
   "cell_type": "markdown",
   "metadata": {},
   "source": [
    "コスト関数が最適化されてコストが現象していく様子をプロットする。"
   ]
  },
  {
   "cell_type": "code",
   "execution_count": 42,
   "metadata": {
    "collapsed": false
   },
   "outputs": [
    {
     "data": {
      "image/png": "[encoded data removed]",
      "text/plain": [
       "<matplotlib.figure.Figure at 0x7f358d1b7320>"
      ]
     },
     "metadata": {},
     "output_type": "display_data"
    }
   ],
   "source": [
    "plt.plot(train_data_cost, c='b', label='train cost')\n",
    "plt.plot(test_data_cost, c='r',label='test cost')\n",
    "plt.xlabel(\"epochs\")\n",
    "plt.ylabel(\"cost\")\n",
    "plt.legend()\n",
    "plt.show()"
   ]
  },
  {
   "cell_type": "markdown",
   "metadata": {},
   "source": [
    "## 学習精度のグラフ"
   ]
  },
  {
   "cell_type": "markdown",
   "metadata": {},
   "source": [
    "エポックごとに学習精度が向上していく様子をプロットする。"
   ]
  },
  {
   "cell_type": "code",
   "execution_count": 43,
   "metadata": {
    "collapsed": false
   },
   "outputs": [
    {
     "data": {
      "image/png": "[encoded data removed]",
      "text/plain": [
       "<matplotlib.figure.Figure at 0x7f358d129128>"
      ]
     },
     "metadata": {},
     "output_type": "display_data"
    }
   ],
   "source": [
    "plt.plot(train_data_acc, c='b', label='train accuracy')\n",
    "plt.plot(test_data_acc, c='r', label='test accuracy')\n",
    "plt.xlabel(\"epochs\")\n",
    "plt.ylabel(\"accuracy\")\n",
    "plt.legend()\n",
    "plt.show()"
   ]
  },
  {
   "cell_type": "markdown",
   "metadata": {
    "collapsed": true
   },
   "source": [
    "## おつかれさまでした"
   ]
  },
  {
   "cell_type": "markdown",
   "metadata": {
    "collapsed": true
   },
   "source": [
    "以上で、TensorFlowチュートリアル終了です。これまでの演習で行なったPythonとNumpyだけで実装したコードと比べるとはるかに短いコード量でニューラルネットワークのモデルを構築することができたと思います。スクラッチでの実装からフレームワークによる実装を知っておくことで、トラブル原因の把握やデバッグ作業、開発コストを極端に抑えることができることでしょう。TensorFlowには上記で紹介した内容以外にもたくさんの手法が用意されています。最適化や正則化などの手法を簡単に実装することができます。ぜひ利用してみてください。"
   ]
  },
  {
   "cell_type": "code",
   "execution_count": null,
   "metadata": {
    "collapsed": true
   },
   "outputs": [],
   "source": []
  }
 ],
 "metadata": {
  "anaconda-cloud": {},
  "kernelspec": {
   "display_name": "Python [default]",
   "language": "python",
   "name": "python3"
  },
  "language_info": {
   "codemirror_mode": {
    "name": "ipython",
    "version": 3
   },
   "file_extension": ".py",
   "mimetype": "text/x-python",
   "name": "python",
   "nbconvert_exporter": "python",
   "pygments_lexer": "ipython3",
   "version": "3.5.2"
  },
  "toc": {
   "nav_menu": {
    "height": "512px",
    "width": "252px"
   },
   "navigate_menu": true,
   "number_sections": true,
   "sideBar": true,
   "threshold": 4,
   "toc_cell": false,
   "toc_section_display": "block",
   "toc_window_display": true
  }
 },
 "nbformat": 4,
 "nbformat_minor": 2
}
