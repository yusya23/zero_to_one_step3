{
 "cells": [
  {
   "cell_type": "markdown",
   "metadata": {},
   "source": [
    "# Step3 演習01 オーバーフィッティング対策\n",
    "---"
   ]
  },
  {
   "cell_type": "markdown",
   "metadata": {},
   "source": [
    "本演習では、ニューラルネットワークのモデルを構築し、機械学習界の Hello World 手書き数字の画像データMNISTの、多クラス分類をおこないます。\n",
    "\n",
    "その際にモデルがオーバーフィッティングしてしまった場合の対策の１つである正則化を実装することで、過学習が抑制されることを確認します。\n",
    "\n",
    "\n",
    "**はじめに**\n",
    "- for文やwhile文の利用は明示的な利用指示がない場所での利用は避けてください。\n",
    "\n",
    "**本演習の目的**\n",
    "- 手書き数字０から９の10クラスのMNISTのデータセットを利用し、多クラス分類を行う。\n",
    "- 過学習を起こしてしまったモデルに対してL2正則化とL1正則化を実装し、オーバーフィッティングを解決する。"
   ]
  },
  {
   "cell_type": "markdown",
   "metadata": {},
   "source": [
    "## ライブラリのインポート"
   ]
  },
  {
   "cell_type": "markdown",
   "metadata": {},
   "source": [
    "まずはじめに、本演習で利用するライブラリのインポートをします。ライブラリのインポートは一番はじめに行うようにしましょう。\n",
    "\n",
    "- [NumPy](http://www.numpy.org) 数値計算を行うための基本パッケージの公式ドキュメント\n",
    "- [Matplotlib](http://matplotlib.org) グラフ描画ライブラリの基本パッケージの公式ドキュメント\n",
    "\n",
    "ドキュメントには有用な情報が書き記されています。何か迷ったときには必ずドキュメントに戻ってくるようにしましょう。\n",
    "\n",
    "次のセルをそのまま実行（\"SHIFT\" + \"ENTER\"）してください。コードが書いてあるセルは**上から順番**に順次実行してください。\n",
    "\n",
    "**注意**： 初めてmatplotlibを使うユーザーは、フォント一覧のキャッシュが存在しないため、このセルの実行でWarningが出ます。もう一度実行すると、すでにキャッシュができているので、Warningなく走ります。"
   ]
  },
  {
   "cell_type": "code",
   "execution_count": 1,
   "metadata": {
    "collapsed": true
   },
   "outputs": [],
   "source": [
    "# ライブラリのインポート\n",
    "%matplotlib inline\n",
    "import numpy as np\n",
    "import matplotlib.pyplot as plt"
   ]
  },
  {
   "cell_type": "markdown",
   "metadata": {},
   "source": [
    "## データセットの準備"
   ]
  },
  {
   "cell_type": "markdown",
   "metadata": {},
   "source": [
    "この演習では \"MNIST\" と呼ばれる手書き数字のデータを用います。\n",
    "\n",
    "28ピクセル×28ピクセルのグレースケール画像が学習用データとして55,000枚、テスト用データとして10,000枚含まれています。\n",
    "\n",
    "今回はTensorFlowで用意されている関数を使ってデータを読み込みます。\n",
    "\n",
    "read_data_setsの引数は\n",
    "1. ファイルの保存場所\n",
    "2. one_hot: one-hotベクトル化するかどうか\n",
    "3. validation_size: 検証用データの枚数、今回は訓練データとテストデータのみ使用します\n",
    "\n",
    "使用しているネットワークの強さによりロードに多少時間がかかる場合があります。"
   ]
  },
  {
   "cell_type": "code",
   "execution_count": 2,
   "metadata": {
    "collapsed": false
   },
   "outputs": [
    {
     "name": "stdout",
     "output_type": "stream",
     "text": [
      "Extracting MNIST_data/train-images-idx3-ubyte.gz\n",
      "Extracting MNIST_data/train-labels-idx1-ubyte.gz\n",
      "Extracting MNIST_data/t10k-images-idx3-ubyte.gz\n",
      "Extracting MNIST_data/t10k-labels-idx1-ubyte.gz\n"
     ]
    }
   ],
   "source": [
    "from tensorflow.examples.tutorials.mnist import input_data\n",
    "mnist = input_data.read_data_sets(\"MNIST_data/\", one_hot=True)"
   ]
  },
  {
   "cell_type": "markdown",
   "metadata": {},
   "source": [
    "ダウンロードしたデータセットを訓練データとテストデータとしてそれぞれ定義しておきます。\n",
    "\n",
    "** 変数名 **\n",
    "- X_train：訓練データ\n",
    "- y_train：訓練データの正解ラベル\n",
    "- X_test：テストデータ\n",
    "- y_test：テストデータの正解ラベル"
   ]
  },
  {
   "cell_type": "code",
   "execution_count": 3,
   "metadata": {
    "collapsed": false
   },
   "outputs": [
    {
     "name": "stdout",
     "output_type": "stream",
     "text": [
      "X_train：訓練データ\n",
      "y_train：訓練データの正解ラベル\n",
      "X_test：テストデータ\n",
      "y_test：テストデータの正解ラベル\n"
     ]
    }
   ],
   "source": [
    "X_train = mnist.train.images\n",
    "y_train = mnist.train.labels\n",
    "X_test = mnist.test.images\n",
    "y_test = mnist.test.labels\n",
    "\n",
    "print(\"X_train：訓練データ\")\n",
    "print(\"y_train：訓練データの正解ラベル\")\n",
    "print(\"X_test：テストデータ\")\n",
    "print(\"y_test：テストデータの正解ラベル\")"
   ]
  },
  {
   "cell_type": "markdown",
   "metadata": {},
   "source": [
    "訓練データとテストデータを確認しましょう。"
   ]
  },
  {
   "cell_type": "code",
   "execution_count": 4,
   "metadata": {
    "collapsed": false
   },
   "outputs": [
    {
     "name": "stdout",
     "output_type": "stream",
     "text": [
      "訓練データ数：55000\n",
      "訓練データ数の特徴：784\n",
      "テストデータ数：10000\n",
      "テストデータ数の特徴：784\n"
     ]
    }
   ],
   "source": [
    "print(\"訓練データ数：{}\".format(X_train.shape[0]))\n",
    "print(\"訓練データ数の特徴：{}\".format(X_train.shape[1]))\n",
    "print(\"テストデータ数：{}\".format(X_test.shape[0]))\n",
    "print(\"テストデータ数の特徴：{}\".format(X_test.shape[1]))"
   ]
  },
  {
   "cell_type": "markdown",
   "metadata": {},
   "source": [
    "\"X_train：訓練データ\"は、学習用データの55000枚の画像データを行列にしたもの（28×28=784）として格納されています。\n",
    "\n",
    "同様に、\"X_test：テストデータ\"は、テスト用データの10000枚の画像データを行列にしたもの（28×28=784）として格納されています。"
   ]
  },
  {
   "cell_type": "code",
   "execution_count": 5,
   "metadata": {
    "collapsed": true
   },
   "outputs": [],
   "source": [
    "#訓練データの数をmに格納しておきます。\n",
    "m = X_train.shape[0]"
   ]
  },
  {
   "cell_type": "code",
   "execution_count": 6,
   "metadata": {
    "collapsed": false
   },
   "outputs": [
    {
     "data": {
      "text/plain": [
       "55000"
      ]
     },
     "execution_count": 6,
     "metadata": {},
     "output_type": "execute_result"
    }
   ],
   "source": [
    "m"
   ]
  },
  {
   "cell_type": "markdown",
   "metadata": {},
   "source": [
    "### データセットをシャッフルしよう"
   ]
  },
  {
   "cell_type": "markdown",
   "metadata": {},
   "source": [
    "MNISTのデータセットをシャッフルします。データセットをそのまま使わずにシャッフルするのはなぜでしょうか。\n",
    "\n",
    "例えば、データがラベル(y)に対してソートされていたとします。\n",
    "\n",
    "すると、そのまま冒頭3000サンプルを取って学習に使うと、0, 1と書いてあるデータばかりが集まってしまうことになってしまいます。\n",
    "\n",
    "一見分からないような規則でソートされている可能性もあるので、データセットの順番がバラバラに見えても必ず最初にシャッフルしてください。\n",
    "\n",
    "下のセルを実行すると**訓練データ**をランダムな配列にシャッフルしてくれます。"
   ]
  },
  {
   "cell_type": "code",
   "execution_count": 7,
   "metadata": {
    "collapsed": true
   },
   "outputs": [],
   "source": [
    "permutation = np.random.permutation(mnist.train.images.shape[0])\n",
    "X_train = mnist.train.images[permutation]\n",
    "y_train = mnist.train.labels[permutation]"
   ]
  },
  {
   "cell_type": "markdown",
   "metadata": {},
   "source": [
    "## データの可視化"
   ]
  },
  {
   "cell_type": "markdown",
   "metadata": {},
   "source": [
    "配列 X_train には55000枚の画像データ(pixel)が、一列に並んで入っています。X_trainのshapeは(55000, 784)です。\n",
    "\n",
    "この画像を表示させるには、一列（ベクトル）に並んでしまっている55000枚の画像データをそれぞれ２次元(28, 28)に戻す必要があります。\n",
    "\n",
    "それにはNumPyの \"reshape\" を使います。\n",
    "\n",
    "ここで学習データの画像をランダムに表示させてみます。セルを実行するたびに画像が変わります。"
   ]
  },
  {
   "cell_type": "code",
   "execution_count": 8,
   "metadata": {
    "collapsed": false
   },
   "outputs": [
    {
     "name": "stdout",
     "output_type": "stream",
     "text": [
      "数字：9\n"
     ]
    },
    {
     "data": {
      "image/png": "[encoded data removed]",
      "text/plain": [
       "<matplotlib.figure.Figure at 0x7fd332d91908>"
      ]
     },
     "metadata": {},
     "output_type": "display_data"
    }
   ],
   "source": [
    "num = np.random.randint(0, len(mnist.train.images))\n",
    "plt.imshow(mnist.train.images[num].reshape(28, 28), cmap='gray')\n",
    "print(\"数字：{}\".format(np.argmax(mnist.train.labels[num])))"
   ]
  },
  {
   "cell_type": "markdown",
   "metadata": {},
   "source": [
    "MNISTの画像一枚が表示されたと思います。さらに、画像に対応する数字が画像の上に表示されていると思います。"
   ]
  },
  {
   "cell_type": "markdown",
   "metadata": {},
   "source": [
    "次に正解ラベルについて見てみましょう。\n",
    "\n",
    "正解ラベルの y_train のshapeは(55000,10)です。次のセルのprint文を実行して訓練データとテストデータの正解ラベルを確認します。"
   ]
  },
  {
   "cell_type": "code",
   "execution_count": 9,
   "metadata": {
    "collapsed": false
   },
   "outputs": [
    {
     "name": "stdout",
     "output_type": "stream",
     "text": [
      "訓練データの正解ラベル数：55000\n",
      "訓練データ数の正解ラベルの要素数：10\n",
      "テストデータの正解ラベル数：10000\n",
      "テストデータ数の正解ラベルの要素数：10\n"
     ]
    }
   ],
   "source": [
    "print(\"訓練データの正解ラベル数：{}\".format(y_train.shape[0]))\n",
    "print(\"訓練データ数の正解ラベルの要素数：{}\".format(y_train.shape[1]))\n",
    "print(\"テストデータの正解ラベル数：{}\".format(y_test.shape[0]))\n",
    "print(\"テストデータ数の正解ラベルの要素数：{}\".format(y_test.shape[1]))"
   ]
  },
  {
   "cell_type": "markdown",
   "metadata": {},
   "source": [
    "訓練データの場合、正解ラベル数は55000となっており、それぞれに対して答えとなるラベル部分には「１」が与えられています。\n",
    "\n",
    "下のセルを実行してください。"
   ]
  },
  {
   "cell_type": "code",
   "execution_count": 10,
   "metadata": {
    "collapsed": false
   },
   "outputs": [
    {
     "data": {
      "text/plain": [
       "array([[0., 0., 0., 0., 1., 0., 0., 0., 0., 0.],\n",
       "       [0., 0., 0., 0., 0., 0., 1., 0., 0., 0.],\n",
       "       [0., 0., 0., 0., 0., 0., 0., 0., 1., 0.],\n",
       "       [0., 0., 0., 0., 0., 1., 0., 0., 0., 0.],\n",
       "       [0., 0., 0., 0., 0., 0., 0., 0., 1., 0.]])"
      ]
     },
     "execution_count": 10,
     "metadata": {},
     "output_type": "execute_result"
    }
   ],
   "source": [
    "y_train[:5]"
   ]
  },
  {
   "cell_type": "markdown",
   "metadata": {},
   "source": [
    "例えば、数字の０に対応するラベルは、配列の0番目に１がはいっています。\n",
    "\n",
    "数字の1に対応するラベルには、配列の1番目に1がはいっています。３以降も同様のルールです。\n",
    "\n",
    "以下にそれらを可視化してあるので確認してください。\n",
    "<p>\n",
    "\n",
    "<div align=\"center\"  style=\"width:50%\">\n",
    "<img src=\"./img/step3_mnist_label_019.png\"></div>\n",
    "\n",
    "one-of-k または、one-hotエンコーディングと呼びます。"
   ]
  },
  {
   "cell_type": "markdown",
   "metadata": {},
   "source": [
    "これまで１つのMNSITのデータをみてきました。少し物足りなさもあるので、MNIST１００個の画像を表示するプログラミムを定義しておきます。"
   ]
  },
  {
   "cell_type": "code",
   "execution_count": 11,
   "metadata": {
    "collapsed": true
   },
   "outputs": [],
   "source": [
    "def displayData(images):\n",
    "    images_reshaped = images.reshape((100, 28, 28))\n",
    "    for i in range(100):\n",
    "        plt.subplot(10,10,i+1)\n",
    "        plt.imshow(images_reshaped[i,:,:])\n",
    "        plt.axis(\"off\")\n",
    "        plt.gray()\n",
    "    plt.show()"
   ]
  },
  {
   "cell_type": "markdown",
   "metadata": {},
   "source": [
    "実際に表示させてみます。下のセルを実行すると100枚の画像が表示されます。"
   ]
  },
  {
   "cell_type": "code",
   "execution_count": 12,
   "metadata": {
    "collapsed": false
   },
   "outputs": [
    {
     "data": {
      "image/png": "[encoded data removed]",
      "text/plain": [
       "<matplotlib.figure.Figure at 0x7fd332d917b8>"
      ]
     },
     "metadata": {},
     "output_type": "display_data"
    }
   ],
   "source": [
    "displayData(X_train[:100, :])"
   ]
  },
  {
   "cell_type": "markdown",
   "metadata": {},
   "source": [
    "---"
   ]
  },
  {
   "cell_type": "markdown",
   "metadata": {},
   "source": [
    "### データセットを分割"
   ]
  },
  {
   "cell_type": "markdown",
   "metadata": {},
   "source": [
    "本演習では、訓練に使うデータセットを訓練集合を3000枚、テスト集合を1000枚に分割します。"
   ]
  },
  {
   "cell_type": "code",
   "execution_count": 13,
   "metadata": {
    "collapsed": true
   },
   "outputs": [],
   "source": [
    "# データセットを仕分ける\n",
    "X_train = X_train[:3000]\n",
    "y_train = y_train[:3000]\n",
    "X_test = X_test[:1000]\n",
    "y_test = y_test[:1000]"
   ]
  },
  {
   "cell_type": "markdown",
   "metadata": {},
   "source": [
    "訓練データとテストデータの数を確認しましょう。"
   ]
  },
  {
   "cell_type": "code",
   "execution_count": 14,
   "metadata": {
    "collapsed": false
   },
   "outputs": [
    {
     "name": "stdout",
     "output_type": "stream",
     "text": [
      "訓練データ数：3000\n",
      "テストデータ数：1000\n"
     ]
    }
   ],
   "source": [
    "print(\"訓練データ数：{}\".format(X_train.shape[0]))\n",
    "print(\"テストデータ数：{}\".format(X_test.shape[0]))"
   ]
  },
  {
   "cell_type": "markdown",
   "metadata": {},
   "source": [
    "\"X_train：訓練データ\"は、学習用データの3000枚の画像データを行列にしたもの（28×28=784）として格納されています。\n",
    "\n",
    "同様に、\"X_test：テストデータ\"は、テスト用データの1000枚の画像データを行列にしたもの（28×28=784）として格納されています。"
   ]
  },
  {
   "cell_type": "markdown",
   "metadata": {},
   "source": [
    "## データセットの正規化"
   ]
  },
  {
   "cell_type": "markdown",
   "metadata": {},
   "source": [
    "ここではデータを整える正規化を行います。データセット全体が平均0.0，分散1.0となるように正規化しましょう。\n",
    "\n",
    "下のセルを実行してください。"
   ]
  },
  {
   "cell_type": "code",
   "execution_count": 15,
   "metadata": {
    "collapsed": true
   },
   "outputs": [],
   "source": [
    "mean = np.mean(X_train)\n",
    "std = np.std(X_train)\n",
    "X_train = (X_train - mean) / std\n",
    "X_test = (X_test - mean) / std"
   ]
  },
  {
   "cell_type": "markdown",
   "metadata": {},
   "source": [
    "## ニューラルネットワークのモデル"
   ]
  },
  {
   "cell_type": "markdown",
   "metadata": {},
   "source": [
    "これまでは学習に利用するMNISTのデータセットの性質を、訓練データとテストデータに分けてそれぞれ確認してきました。\n",
    "\n",
    "ここからは今回の演習で用いるニューラルネットワークのモデルを構築します。\n",
    "\n",
    "入力層のユニット数は特徴の数である784個、出力層は0~9の数字の１０クラス分、隱れ層のユニット数は100個とします。\n",
    "\n",
    "ここでは下記の条件で、ニューラルネットワークのモデルを構築します：\n",
    "\n",
    "- 入力層のユニット数784個\n",
    "- 隠れ層のユニット数100個\n",
    "- 出力層のユニット数10個"
   ]
  },
  {
   "cell_type": "code",
   "execution_count": 17,
   "metadata": {
    "collapsed": true
   },
   "outputs": [],
   "source": [
    "# ニューラルネットワークの構造を決める\n",
    "input_size = 784\n",
    "hidden_size = 100\n",
    "output_size = 10"
   ]
  },
  {
   "cell_type": "markdown",
   "metadata": {},
   "source": [
    "### 活性化関数"
   ]
  },
  {
   "cell_type": "markdown",
   "metadata": {},
   "source": [
    "ニューラルネットワークのモデルで利用する活性化関数を下記のように実装します。\n",
    "\n",
    "- 隠れ層の活性化関数：シグモイド関数\n",
    "- 出力層の活性化関数：ソフトマックス関数"
   ]
  },
  {
   "cell_type": "code",
   "execution_count": 18,
   "metadata": {
    "collapsed": true
   },
   "outputs": [],
   "source": [
    "# シグモイド関数\n",
    "def sigmoid(x):\n",
    "    y = 1 / (1 + np.exp(-x))\n",
    "    return y\n",
    "    \n",
    "#シグモイド関数の微分\n",
    "def sigmoid_derivative(x):\n",
    "    y = sigmoid(x) * (1 - sigmoid(x))\n",
    "    return y\n",
    "\n",
    "#ソフトマックス関数\n",
    "def softmax(x):\n",
    "    c = np.max(x)\n",
    "    exp_x = np.exp(x - c)\n",
    "    return exp_x / np.sum(exp_x, axis=1, keepdims=True)"
   ]
  },
  {
   "cell_type": "markdown",
   "metadata": {},
   "source": [
    "### ニューラルネットワークのモデル"
   ]
  },
  {
   "cell_type": "markdown",
   "metadata": {},
   "source": [
    "下記の項目の関数を次のセルのように実装します。\n",
    "\n",
    "- initialize_parameters：パラメータの初期化\n",
    "- forward_propagation：フォワードプロパゲーション\n",
    "- compute_cost：コスト関数\n",
    "- backward_propagation：バックプロパゲーション\n",
    "- update_parameters：パラメータの更新\n",
    "- accuracy：正解率"
   ]
  },
  {
   "cell_type": "code",
   "execution_count": 19,
   "metadata": {
    "collapsed": true
   },
   "outputs": [],
   "source": [
    "def initialize_parameters(input_size, hidden_size, output_size):\n",
    "    W1 = np.random.randn(input_size, hidden_size)\n",
    "    b1 = np.zeros((1, hidden_size))\n",
    "    W2 = np.random.randn(hidden_size, output_size)\n",
    "    b2 = np.zeros((1, output_size))\n",
    "    return W1, b1, W2, b2\n",
    "\n",
    "def forward_propagation(X, W1, b1, W2, b2):\n",
    "    layer1_z = np.dot(X, W1) + b1\n",
    "    layer1_a = sigmoid(layer1_z)\n",
    "    layer2_z = np.dot(layer1_a, W2) + b2\n",
    "    layer2_a = softmax(layer2_z)\n",
    "    return layer1_z, layer1_a, layer2_z, layer2_a\n",
    "\n",
    "def compute_cost(y, y_hat, m):\n",
    "    cost = - np.sum(y * np.log(y_hat) ) / m        \n",
    "    return cost\n",
    "\n",
    "def backward_propagation(X, y, W2, layer1_z, layer1_a, layer2_z, layer2_a, batch_size):\n",
    "    derivative_layer2_z = (layer2_a - y) / batch_size \n",
    "    delta_W2 = np.dot(layer1_a.T, derivative_layer2_z)\n",
    "    delta_b2 = np.sum(derivative_layer2_z, axis=0 ,keepdims=True) \n",
    "    derivative_layer1_z = np.dot(derivative_layer2_z, W2.T) * sigmoid_derivative(layer1_z)\n",
    "    delta_W1 = np.dot(X.T, derivative_layer1_z)\n",
    "    delta_b1 = np.sum(derivative_layer1_z, axis=0 ,keepdims=True) \n",
    "    return delta_W2, delta_b2, delta_W1, delta_b1\n",
    "\n",
    "def update_parameters(W1, b1, W2, b2, delta_W1, delta_b1, delta_W2, delta_b2, learning_rate):\n",
    "    W1 = W1 - learning_rate * delta_W1\n",
    "    b1 = b1 - learning_rate * delta_b1    \n",
    "    W2 = W2 - learning_rate * delta_W2\n",
    "    b2 = b2 - learning_rate * delta_b2\n",
    "    return W1, b1, W2, b2\n",
    "\n",
    "def accuracy(y, y_hat):\n",
    "    accuracy = (np.argmax(y,axis=1) == np.argmax(y_hat,axis=1))\n",
    "    accuracy = accuracy.mean()\n",
    "    return accuracy"
   ]
  },
  {
   "cell_type": "markdown",
   "metadata": {},
   "source": [
    "### ニューラルネットワークのモデルを構築"
   ]
  },
  {
   "cell_type": "markdown",
   "metadata": {},
   "source": [
    "Setp2 演習02 課題10  で実装したニューラルネットワークのモデルの関数 nn_model を下のセルに書いています。\n",
    "\n",
    "そのまま実行してください。"
   ]
  },
  {
   "cell_type": "code",
   "execution_count": 20,
   "metadata": {
    "collapsed": true
   },
   "outputs": [],
   "source": [
    "# ニューラルネットワークのモデルを構築\n",
    "def nn_model(X, y, X_test, y_test, input_size, hidden_size, output_size, epochs, sample_size, batch_size, learning_rate,  print_cost=False):\n",
    "\n",
    "    # コスト/精度を記録するための配列\n",
    "    train_Data_cost = []\n",
    "    train_Data_acc = []\n",
    "    test_Data_cost = []\n",
    "    test_Data_acc = []\n",
    "    \n",
    "    #エポックのカウントとパラメータを初期化\n",
    "    count = 0    \n",
    "    W1,b1,W2,b2 = initialize_parameters(input_size, hidden_size, output_size)\n",
    "     \n",
    "    #エポック\n",
    "    for i in range(epochs):\n",
    "        #ミニバッチ\n",
    "        for i in range(0, sample_size, batch_size):\n",
    "         \n",
    "            #ミニバッチ処理\n",
    "            X_batch = X[i:i+batch_size]\n",
    "            y_batch = y[i:i+batch_size]\n",
    "        \n",
    "            #フォワードプロパゲーション\n",
    "            layer1_z, layer1_a, layer2_z, layer2_a = forward_propagation(X_batch, W1,b1,W2, b2)\n",
    "            \n",
    "            #バックプロパゲーション\n",
    "            delta_W2, delta_b2, delta_W1, delta_b1 = backward_propagation(X_batch, y_batch, W2, layer1_z, layer1_a, layer2_z, layer2_a, batch_size)\n",
    "            \n",
    "            #パラメータの更新\n",
    "            W1, b1, W2, b2 = update_parameters(W1, b1, W2, b2, delta_W1, delta_b1, delta_W2, delta_b2, learning_rate)\n",
    "\n",
    "        \n",
    "        #訓練データのエポックごとのコスト値\n",
    "        train_output = forward_propagation(X, W1,b1,W2, b2)\n",
    "        train_cost = compute_cost(y, train_output[3], sample_size)\n",
    "        train_Data_cost.append(train_cost)\n",
    "        \n",
    "        #訓練データのエポックごとの精度\n",
    "        train_acc = accuracy(y, train_output[3])\n",
    "        train_Data_acc.append(train_acc)\n",
    "        \n",
    "        #テストデータのエポックごとのコスト値\n",
    "        test_output = forward_propagation(X_test, W1,b1,W2, b2)\n",
    "        test_cost = compute_cost(y_test, test_output[3], y_test.shape[0])\n",
    "        test_Data_cost.append(test_cost)\n",
    "        \n",
    "        #テストデータのエポックごとの精度\n",
    "        test_acc = accuracy(y_test, test_output[3])\n",
    "        test_Data_acc.append(test_acc)\n",
    "\n",
    "        #エポック数をカウント\n",
    "        count += 1\n",
    "        print('epochs：{0:.0f}'.format(int(count)), 'train cost：{0:.2f}'.format(train_cost),'train acc：{0:.2f}%'.format(train_acc*100))\n",
    "    \n",
    "    print(\"Finish Leaning!!\")\n",
    "    \n",
    "    return train_Data_cost, train_Data_acc, test_Data_cost, test_Data_acc, W1, b1, W2, b2"
   ]
  },
  {
   "cell_type": "markdown",
   "metadata": {},
   "source": [
    "関数 nn_model() に各パラメータを与え、学習を実行させます。ここではひとまず以下のとおりパラメータを設定します。\n",
    "\n",
    "- input_size = 784\n",
    "- hidden_size = 100\n",
    "- output_size = 10\n",
    "- epochs = 50\n",
    "- sample_size = X_train.shape[0]\n",
    "- batch_size = 100\n",
    "- learning_rate = 0.1"
   ]
  },
  {
   "cell_type": "code",
   "execution_count": 21,
   "metadata": {
    "collapsed": true
   },
   "outputs": [],
   "source": [
    "input_size = 784\n",
    "hidden_size = 100\n",
    "output_size = 10\n",
    "epochs = 50\n",
    "sample_size = X_train.shape[0] #3000個\n",
    "batch_size = 100\n",
    "learning_rate = 0.1"
   ]
  },
  {
   "cell_type": "markdown",
   "metadata": {},
   "source": [
    "以下のセルを実行するとモデルの学習がはじまります。"
   ]
  },
  {
   "cell_type": "code",
   "execution_count": 22,
   "metadata": {
    "collapsed": false
   },
   "outputs": [
    {
     "name": "stdout",
     "output_type": "stream",
     "text": [
      "epochs：1 train cost：4.62 train acc：22.03%\n",
      "epochs：2 train cost：3.43 train acc：33.23%\n",
      "epochs：3 train cost：2.73 train acc：41.83%\n",
      "epochs：4 train cost：2.28 train acc：47.60%\n",
      "epochs：5 train cost：1.95 train acc：53.53%\n",
      "epochs：6 train cost：1.72 train acc：58.00%\n",
      "epochs：7 train cost：1.54 train acc：61.90%\n",
      "epochs：8 train cost：1.40 train acc：64.67%\n",
      "epochs：9 train cost：1.28 train acc：66.67%\n",
      "epochs：10 train cost：1.19 train acc：68.87%\n",
      "epochs：11 train cost：1.11 train acc：70.80%\n",
      "epochs：12 train cost：1.04 train acc：72.23%\n",
      "epochs：13 train cost：0.97 train acc：74.13%\n",
      "epochs：14 train cost：0.92 train acc：75.63%\n",
      "epochs：15 train cost：0.87 train acc：76.53%\n",
      "epochs：16 train cost：0.83 train acc：78.00%\n",
      "epochs：17 train cost：0.79 train acc：79.03%\n",
      "epochs：18 train cost：0.76 train acc：79.93%\n",
      "epochs：19 train cost：0.73 train acc：80.70%\n",
      "epochs：20 train cost：0.70 train acc：81.37%\n",
      "epochs：21 train cost：0.67 train acc：82.10%\n",
      "epochs：22 train cost：0.65 train acc：82.70%\n",
      "epochs：23 train cost：0.63 train acc：83.20%\n",
      "epochs：24 train cost：0.61 train acc：83.70%\n",
      "epochs：25 train cost：0.59 train acc：83.93%\n",
      "epochs：26 train cost：0.57 train acc：84.27%\n",
      "epochs：27 train cost：0.55 train acc：84.73%\n",
      "epochs：28 train cost：0.54 train acc：85.10%\n",
      "epochs：29 train cost：0.52 train acc：85.57%\n",
      "epochs：30 train cost：0.51 train acc：86.33%\n",
      "epochs：31 train cost：0.49 train acc：86.67%\n",
      "epochs：32 train cost：0.48 train acc：87.03%\n",
      "epochs：33 train cost：0.47 train acc：87.57%\n",
      "epochs：34 train cost：0.46 train acc：87.80%\n",
      "epochs：35 train cost：0.45 train acc：88.60%\n",
      "epochs：36 train cost：0.44 train acc：88.97%\n",
      "epochs：37 train cost：0.43 train acc：89.20%\n",
      "epochs：38 train cost：0.42 train acc：89.33%\n",
      "epochs：39 train cost：0.41 train acc：89.73%\n",
      "epochs：40 train cost：0.40 train acc：89.83%\n",
      "epochs：41 train cost：0.39 train acc：90.17%\n",
      "epochs：42 train cost：0.38 train acc：90.30%\n",
      "epochs：43 train cost：0.38 train acc：90.40%\n",
      "epochs：44 train cost：0.37 train acc：90.67%\n",
      "epochs：45 train cost：0.36 train acc：90.77%\n",
      "epochs：46 train cost：0.36 train acc：90.97%\n",
      "epochs：47 train cost：0.35 train acc：91.07%\n",
      "epochs：48 train cost：0.34 train acc：91.20%\n",
      "epochs：49 train cost：0.34 train acc：91.37%\n",
      "epochs：50 train cost：0.33 train acc：91.53%\n",
      "Finish Leaning!!\n"
     ]
    }
   ],
   "source": [
    "train_Data_cost, train_Data_acc, test_Data_cost, test_Data_acc, W1, b1, W2, b2 = \\\n",
    "nn_model(X_train, y_train, X_test, y_test, input_size, hidden_size, output_size, epochs, sample_size, batch_size, learning_rate, print_cost=True)"
   ]
  },
  {
   "cell_type": "markdown",
   "metadata": {},
   "source": [
    "## コスト減少のグラフ"
   ]
  },
  {
   "cell_type": "markdown",
   "metadata": {},
   "source": [
    "コスト関数が最適化されてコストが減少していく様子をプロットします。"
   ]
  },
  {
   "cell_type": "code",
   "execution_count": 23,
   "metadata": {
    "collapsed": false
   },
   "outputs": [
    {
     "data": {
      "image/png": "[encoded data removed]",
      "text/plain": [
       "<matplotlib.figure.Figure at 0x7fd32cf76438>"
      ]
     },
     "metadata": {},
     "output_type": "display_data"
    }
   ],
   "source": [
    "plt.plot(train_Data_cost, c='b', label='train cost')\n",
    "plt.plot(test_Data_cost, c='r', label='test cost')\n",
    "plt.xlabel('epochs')\n",
    "plt.ylabel('cost')\n",
    "plt.legend()\n",
    "plt.show()"
   ]
  },
  {
   "cell_type": "markdown",
   "metadata": {},
   "source": [
    "訓練集合のコストは減少しているのに対して、テスト集合のコストはあまりうまく下がっていないデータになっているはずです。\n",
    "\n",
    "**過学習（オーバーフィッティング）**が起こっていることが予想されます。\n",
    "\n",
    "では、学習精度を確かめてみましょう。"
   ]
  },
  {
   "cell_type": "markdown",
   "metadata": {},
   "source": [
    "## 学習精度のグラフ"
   ]
  },
  {
   "cell_type": "markdown",
   "metadata": {},
   "source": [
    "エポックごとに学習精度が向上していく様子をプロットします。"
   ]
  },
  {
   "cell_type": "code",
   "execution_count": 24,
   "metadata": {
    "collapsed": false
   },
   "outputs": [
    {
     "data": {
      "image/png": "[encoded data removed]",
      "text/plain": [
       "<matplotlib.figure.Figure at 0x7fd32cf52390>"
      ]
     },
     "metadata": {},
     "output_type": "display_data"
    }
   ],
   "source": [
    "plt.plot(train_Data_acc, c='b', label='train accuracy')\n",
    "plt.plot(test_Data_acc, c='r', label='test accuracy')\n",
    "plt.xlabel('epochs')\n",
    "plt.ylabel('accuracy')\n",
    "plt.legend()\n",
    "plt.show()"
   ]
  },
  {
   "cell_type": "markdown",
   "metadata": {},
   "source": [
    "訓練データに対しては精度高く学習することができていますが、テスト集合に関してはうまく学習することができていません。"
   ]
  },
  {
   "cell_type": "markdown",
   "metadata": {},
   "source": [
    "### 実際に予測してみる"
   ]
  },
  {
   "cell_type": "markdown",
   "metadata": {},
   "source": [
    "学習後のパラメータを使って、訓練データとテストデータの精度を確認してみましょう。"
   ]
  },
  {
   "cell_type": "code",
   "execution_count": 25,
   "metadata": {
    "collapsed": false
   },
   "outputs": [
    {
     "name": "stdout",
     "output_type": "stream",
     "text": [
      "training accuracy: 0.92\n"
     ]
    }
   ],
   "source": [
    "hidden = np.dot(X_train, W1) + b1\n",
    "act1 = sigmoid(hidden)\n",
    "output = np.dot(act1, W2) + b2\n",
    "act2 = softmax(output)\n",
    "predicted_class = np.argmax(act2, axis=1)\n",
    "predicted_class_y_train = np.argmax(y_train , axis=1)\n",
    "print ('training accuracy: %.2f' % (np.mean(predicted_class == predicted_class_y_train)))"
   ]
  },
  {
   "cell_type": "markdown",
   "metadata": {},
   "source": [
    "次に、テストデータを使ってモデルの精度を確認してみましょう。"
   ]
  },
  {
   "cell_type": "code",
   "execution_count": 26,
   "metadata": {
    "collapsed": false
   },
   "outputs": [
    {
     "name": "stdout",
     "output_type": "stream",
     "text": [
      "test accuracy: 0.72\n"
     ]
    }
   ],
   "source": [
    "hidden = np.dot(X_test, W1) + b1\n",
    "act1 = sigmoid(hidden)\n",
    "output = np.dot(act1, W2) + b2\n",
    "act2 = softmax(output)\n",
    "predicted_class = np.argmax(act2, axis=1)\n",
    "predicted_class_y_train = np.argmax(y_test,axis=1)\n",
    "print ('test accuracy: %.2f' % (np.mean(predicted_class == predicted_class_y_train)))"
   ]
  },
  {
   "cell_type": "markdown",
   "metadata": {},
   "source": [
    "### 重みの分布"
   ]
  },
  {
   "cell_type": "markdown",
   "metadata": {},
   "source": [
    "入力層から隠れ層にかけての重みの値の分布をヒストグラムを使って確認してみます。これから実装する正則化を加えたときの重みの分布と比べてみましょう。"
   ]
  },
  {
   "cell_type": "code",
   "execution_count": 27,
   "metadata": {
    "collapsed": true
   },
   "outputs": [],
   "source": [
    "nn = W1.reshape(78400, )"
   ]
  },
  {
   "cell_type": "code",
   "execution_count": 28,
   "metadata": {
    "collapsed": false
   },
   "outputs": [
    {
     "data": {
      "image/png": "[encoded data removed]",
      "text/plain": [
       "<matplotlib.figure.Figure at 0x7fd32cf459e8>"
      ]
     },
     "metadata": {},
     "output_type": "display_data"
    }
   ],
   "source": [
    "plt.hist(nn, bins=50)\n",
    "plt.show()"
   ]
  },
  {
   "cell_type": "markdown",
   "metadata": {},
   "source": [
    "## L2正則化"
   ]
  },
  {
   "cell_type": "markdown",
   "metadata": {},
   "source": [
    "ここでは、オーバーフィッティング対策の１つの手法であるL2正則化を行ないます。\n",
    "\n",
    "L2正則化ではコスト関数の勾配に関するパラメータの更新式のみ変更すればよかったので、関数 update_parameters を書き換えます。\n",
    "<br>\n",
    "\n",
    "**【課題１】** update_parameters_reg2()を実装してください。\n",
    "\n",
    "**Note:**\n",
    "$$w=(1-\\alpha\\lambda)w-\\alpha\\frac{\\partial{C}}{\\partial{w}}$$\n",
    "$$b=b-\\alpha\\frac{\\partial{C}}{\\partial{b}}$$\n",
    "\n",
    "- $\\alpha$：学習率\n",
    "- $\\lambda$：正則化パラメータ"
   ]
  },
  {
   "cell_type": "code",
   "execution_count": 29,
   "metadata": {
    "collapsed": false
   },
   "outputs": [
    {
     "name": "stdout",
     "output_type": "stream",
     "text": [
      "(784, 100)\n",
      "(1, 100)\n",
      "(100, 10)\n",
      "(1, 10)\n"
     ]
    }
   ],
   "source": [
    "print(W1.shape)\n",
    "print(b1.shape)\n",
    "print(W2.shape)\n",
    "print(b2.shape)"
   ]
  },
  {
   "cell_type": "code",
   "execution_count": 30,
   "metadata": {
    "collapsed": true
   },
   "outputs": [],
   "source": [
    "#Coursedele-02 Step3 QuestionNumber1 8e3edb30d392c910f3b3458c8bc52aae\n",
    "def update_parameters_reg2(W1, b1, W2, b2, delta_W1, delta_b1, delta_W2, delta_b2, learning_rate, reg):\n",
    "    ###############START CODE HERE###############\n",
    "    W1 = (1 - learning_rate * reg) * W1 - learning_rate * delta_W1\n",
    "    b1 = b1 - learning_rate * delta_b1\n",
    "    W2 = (1 - learning_rate * reg) * W2 - learning_rate * delta_W2\n",
    "    b2 = b2 - learning_rate * delta_b2\n",
    "    ################END CODE HERE################\n",
    "    return W1, b1, W2, b2"
   ]
  },
  {
   "cell_type": "markdown",
   "metadata": {},
   "source": [
    "**ファイルを保存後** 、次のセルを実行（Shift+Enter）で採点を行います。"
   ]
  },
  {
   "cell_type": "code",
   "execution_count": 31,
   "metadata": {
    "collapsed": false
   },
   "outputs": [
    {
     "name": "stdout",
     "output_type": "stream",
     "text": [
      "Congraturation!\n",
      "We give you 10 points out of 10 points.\n",
      "\n"
     ]
    }
   ],
   "source": [
    "%%bash\n",
    "./validation_client.py dele-02 3 1 Step3_01.ipynb api.internal.zero2one.jp"
   ]
  },
  {
   "cell_type": "markdown",
   "metadata": {},
   "source": [
    "update_parameters_reg2()の実装がおわったら、nn_model()のコードを流用してニューラルネットワークのモデルを構築します。\n",
    "\n",
    "nn_model_reg2()を実装します。\n",
    "\n",
    "ここでは、下のセル内のパラメータ更新の関数 update_parameters() を update_parameters_reg2()に書き換えました。\n",
    "\n",
    "下のセルをそのまま実行してください。"
   ]
  },
  {
   "cell_type": "code",
   "execution_count": 32,
   "metadata": {
    "collapsed": true
   },
   "outputs": [],
   "source": [
    "# ニューラルネットワークのモデルを構築\n",
    "def nn_model_reg2(X, y, X_test,y_test, input_size, hidden_size, output_size, epochs, sample_size, batch_size, learning_rate, reg, print_cost=False):\n",
    "\n",
    "    # コスト/精度を記録するための配列\n",
    "    train_Data_cost = []\n",
    "    train_Data_acc = []\n",
    "    test_Data_cost = []\n",
    "    test_Data_acc = []\n",
    "    \n",
    "    #エポックのカウントとパラメータを初期化\n",
    "    count = 0    \n",
    "    W1,b1,W2,b2 = initialize_parameters(input_size, hidden_size, output_size)\n",
    "     \n",
    "    #エポック\n",
    "    for i in range(epochs):\n",
    "        #ミニバッチ\n",
    "        for i in range(0, sample_size, batch_size):\n",
    "         \n",
    "            #ミニバッチ処理\n",
    "            X_batch = X[i:i+batch_size]\n",
    "            y_batch = y[i:i+batch_size]\n",
    "        \n",
    "            #フォワードプロパゲーション\n",
    "            layer1_z, layer1_a, layer2_z, layer2_a = forward_propagation(X_batch, W1,b1,W2, b2)\n",
    "            \n",
    "            #バックプロパゲーション\n",
    "            delta_W2, delta_b2, delta_W1, delta_b1 = backward_propagation(X_batch, y_batch, W2, layer1_z, layer1_a, layer2_z, layer2_a, batch_size)\n",
    "            \n",
    "            #パラメータの更新\n",
    "            W1, b1, W2, b2 = update_parameters_reg2(W1, b1, W2, b2, delta_W1, delta_b1, delta_W2, delta_b2, learning_rate, reg)\n",
    "\n",
    "        \n",
    "        #訓練データのエポックごとのコスト値\n",
    "        train_output = forward_propagation(X, W1,b1,W2, b2)\n",
    "        train_cost = compute_cost(y, train_output[3], sample_size)\n",
    "        train_Data_cost.append(train_cost)\n",
    "        \n",
    "        #訓練データのエポックごとの精度\n",
    "        train_acc = accuracy(y, train_output[3])\n",
    "        train_Data_acc.append(train_acc)\n",
    "        \n",
    "        #テストデータのエポックごとのコスト値\n",
    "        test_output = forward_propagation(X_test, W1,b1,W2, b2)\n",
    "        test_cost = compute_cost(y_test, test_output[3], y_test.shape[0])\n",
    "        test_Data_cost.append(test_cost)\n",
    "        \n",
    "        #テストデータのエポックごとの精度\n",
    "        test_acc = accuracy(y_test, test_output[3])\n",
    "        test_Data_acc.append(test_acc)\n",
    "\n",
    "        #エポック数をカウント\n",
    "        count += 1\n",
    "        print('epochs：{0:.0f}'.format(int(count)), 'train cost：{0:.2f}'.format(train_cost),'train acc：{0:.2f}%'.format(train_acc*100))\n",
    "    \n",
    "    print(\"Finish Leaning!!\")\n",
    "    \n",
    "    return train_Data_cost, train_Data_acc, test_Data_cost, test_Data_acc, W1, b1, W2, b2"
   ]
  },
  {
   "cell_type": "markdown",
   "metadata": {},
   "source": [
    "関数 nn_model_reg2() に各引数を与え、学習を実行します。ここでは以下のとおりパラメータの設定をおこなってください。\n",
    "\n",
    "- input_size = 784\n",
    "- hidden_size = 100\n",
    "- output_size = 10\n",
    "- epochs = 10\n",
    "- sample_size = 55000\n",
    "- batch_size = 100\n",
    "- learning_rate = 0.1\n",
    "- reg = 0.02 # 正則化パラメータ"
   ]
  },
  {
   "cell_type": "code",
   "execution_count": 33,
   "metadata": {
    "collapsed": true
   },
   "outputs": [],
   "source": [
    "input_size = 784\n",
    "hidden_size = 100\n",
    "output_size = 10\n",
    "epochs = 50\n",
    "sample_size = X_train.shape[0]\n",
    "batch_size = 100\n",
    "learning_rate = 0.1\n",
    "reg = 0.02 #正則化パラメータ"
   ]
  },
  {
   "cell_type": "markdown",
   "metadata": {},
   "source": [
    "以下のセルを実行するとモデルの学習がはじまります。"
   ]
  },
  {
   "cell_type": "code",
   "execution_count": 34,
   "metadata": {
    "collapsed": false
   },
   "outputs": [
    {
     "name": "stdout",
     "output_type": "stream",
     "text": [
      "epochs：1 train cost：4.02 train acc：22.07%\n",
      "epochs：2 train cost：2.83 train acc：34.80%\n",
      "epochs：3 train cost：2.16 train acc：44.77%\n",
      "epochs：4 train cost：1.74 train acc：52.97%\n",
      "epochs：5 train cost：1.46 train acc：58.63%\n",
      "epochs：6 train cost：1.25 train acc：62.90%\n",
      "epochs：7 train cost：1.10 train acc：66.73%\n",
      "epochs：8 train cost：0.98 train acc：70.03%\n",
      "epochs：9 train cost：0.89 train acc：73.00%\n",
      "epochs：10 train cost：0.81 train acc：75.07%\n",
      "epochs：11 train cost：0.76 train acc：76.73%\n",
      "epochs：12 train cost：0.71 train acc：78.57%\n",
      "epochs：13 train cost：0.67 train acc：80.03%\n",
      "epochs：14 train cost：0.64 train acc：81.63%\n",
      "epochs：15 train cost：0.62 train acc：82.80%\n",
      "epochs：16 train cost：0.60 train acc：83.83%\n",
      "epochs：17 train cost：0.58 train acc：84.73%\n",
      "epochs：18 train cost：0.57 train acc：85.50%\n",
      "epochs：19 train cost：0.55 train acc：86.20%\n",
      "epochs：20 train cost：0.54 train acc：86.83%\n",
      "epochs：21 train cost：0.53 train acc：87.60%\n",
      "epochs：22 train cost：0.53 train acc：88.13%\n",
      "epochs：23 train cost：0.52 train acc：88.60%\n",
      "epochs：24 train cost：0.51 train acc：89.07%\n",
      "epochs：25 train cost：0.51 train acc：89.57%\n",
      "epochs：26 train cost：0.50 train acc：89.97%\n",
      "epochs：27 train cost：0.49 train acc：90.10%\n",
      "epochs：28 train cost：0.49 train acc：90.33%\n",
      "epochs：29 train cost：0.48 train acc：90.47%\n",
      "epochs：30 train cost：0.48 train acc：90.87%\n",
      "epochs：31 train cost：0.47 train acc：91.23%\n",
      "epochs：32 train cost：0.47 train acc：91.43%\n",
      "epochs：33 train cost：0.47 train acc：91.50%\n",
      "epochs：34 train cost：0.46 train acc：91.67%\n",
      "epochs：35 train cost：0.46 train acc：91.70%\n",
      "epochs：36 train cost：0.46 train acc：91.73%\n",
      "epochs：37 train cost：0.45 train acc：91.80%\n",
      "epochs：38 train cost：0.45 train acc：91.90%\n",
      "epochs：39 train cost：0.45 train acc：91.97%\n",
      "epochs：40 train cost：0.44 train acc：92.20%\n",
      "epochs：41 train cost：0.44 train acc：92.23%\n",
      "epochs：42 train cost：0.44 train acc：92.27%\n",
      "epochs：43 train cost：0.44 train acc：92.40%\n",
      "epochs：44 train cost：0.44 train acc：92.50%\n",
      "epochs：45 train cost：0.44 train acc：92.47%\n",
      "epochs：46 train cost：0.44 train acc：92.47%\n",
      "epochs：47 train cost：0.43 train acc：92.43%\n",
      "epochs：48 train cost：0.43 train acc：92.47%\n",
      "epochs：49 train cost：0.43 train acc：92.43%\n",
      "epochs：50 train cost：0.43 train acc：92.50%\n",
      "Finish Leaning!!\n"
     ]
    }
   ],
   "source": [
    "train_Data_cost, train_Data_acc, test_Data_cost, test_Data_acc, W1, b1, W2, b2 = \\\n",
    "nn_model_reg2(X_train, y_train, X_test, y_test, input_size, hidden_size, output_size, epochs, sample_size, batch_size, learning_rate, reg, print_cost=True)"
   ]
  },
  {
   "cell_type": "markdown",
   "metadata": {},
   "source": [
    "## コスト減少のグラフ"
   ]
  },
  {
   "cell_type": "markdown",
   "metadata": {},
   "source": [
    "コスト関数が最適化されてコストが減少していく様子をプロットします。"
   ]
  },
  {
   "cell_type": "code",
   "execution_count": 35,
   "metadata": {
    "collapsed": false
   },
   "outputs": [
    {
     "data": {
      "image/png": "[encoded data removed]",
      "text/plain": [
       "<matplotlib.figure.Figure at 0x7fd32bf21f28>"
      ]
     },
     "metadata": {},
     "output_type": "display_data"
    }
   ],
   "source": [
    "plt.plot(train_Data_cost, c='b', label='train cost')\n",
    "plt.plot(test_Data_cost, c='r', label='test cost')\n",
    "plt.xlabel('epochs')\n",
    "plt.ylabel('cost')\n",
    "plt.legend()\n",
    "plt.show()"
   ]
  },
  {
   "cell_type": "markdown",
   "metadata": {},
   "source": [
    "## 学習精度のグラフ"
   ]
  },
  {
   "cell_type": "markdown",
   "metadata": {},
   "source": [
    "エポックごとに学習精度が向上していく様子をプロットする。"
   ]
  },
  {
   "cell_type": "code",
   "execution_count": 36,
   "metadata": {
    "collapsed": false
   },
   "outputs": [
    {
     "data": {
      "image/png": "[encoded data removed]",
      "text/plain": [
       "<matplotlib.figure.Figure at 0x7fd32beea9e8>"
      ]
     },
     "metadata": {},
     "output_type": "display_data"
    }
   ],
   "source": [
    "plt.plot(train_Data_acc, c='b', label='train accuracy')\n",
    "plt.plot(test_Data_acc, c='r', label='test accuracy')\n",
    "plt.xlabel('epochs')\n",
    "plt.ylabel('accuracy')\n",
    "plt.legend(loc = 'lower right')\n",
    "plt.show()"
   ]
  },
  {
   "cell_type": "markdown",
   "metadata": {},
   "source": [
    "### 実際に予測してみる"
   ]
  },
  {
   "cell_type": "markdown",
   "metadata": {},
   "source": [
    "学習後のパラメータを使って、訓練データとテストデータの精度を確認してみましょう。"
   ]
  },
  {
   "cell_type": "code",
   "execution_count": 37,
   "metadata": {
    "collapsed": false
   },
   "outputs": [
    {
     "name": "stdout",
     "output_type": "stream",
     "text": [
      "training accuracy: 0.93\n"
     ]
    }
   ],
   "source": [
    "hidden = np.dot(X_train, W1) + b1\n",
    "act1 = sigmoid(hidden)\n",
    "output = np.dot(act1, W2) + b2\n",
    "act2 = softmax(output)\n",
    "predicted_class = np.argmax(act2, axis=1)\n",
    "predicted_class_y_train = np.argmax(y_train, axis=1)\n",
    "print ('training accuracy: %.2f' % (np.mean(predicted_class == predicted_class_y_train)))"
   ]
  },
  {
   "cell_type": "code",
   "execution_count": 38,
   "metadata": {
    "collapsed": false
   },
   "outputs": [
    {
     "name": "stdout",
     "output_type": "stream",
     "text": [
      "test accuracy: 0.88\n"
     ]
    }
   ],
   "source": [
    "hidden = np.dot(X_test, W1) + b1\n",
    "act1 = sigmoid(hidden)\n",
    "output = np.dot(act1, W2) + b2\n",
    "act2 = softmax(output)\n",
    "predicted_class = np.argmax(act2, axis=1)\n",
    "predicted_class_y_train = np.argmax(y_test, axis=1)\n",
    "print ('test accuracy: %.2f' % (np.mean(predicted_class == predicted_class_y_train)))"
   ]
  },
  {
   "cell_type": "markdown",
   "metadata": {},
   "source": [
    "## L2正則化の重みの分布"
   ]
  },
  {
   "cell_type": "markdown",
   "metadata": {},
   "source": [
    "入力層から隠れ層にかけての重みの値の分布をヒストグラムを使って確認してみます。"
   ]
  },
  {
   "cell_type": "code",
   "execution_count": 39,
   "metadata": {
    "collapsed": true
   },
   "outputs": [],
   "source": [
    "L2 = W1.reshape(78400, )"
   ]
  },
  {
   "cell_type": "code",
   "execution_count": 40,
   "metadata": {
    "collapsed": false
   },
   "outputs": [
    {
     "data": {
      "image/png": "[encoded data removed]",
      "text/plain": [
       "<matplotlib.figure.Figure at 0x7fd32bf21f60>"
      ]
     },
     "metadata": {},
     "output_type": "display_data"
    }
   ],
   "source": [
    "plt.hist(L2, bins=50)\n",
    "plt.show()"
   ]
  },
  {
   "cell_type": "markdown",
   "metadata": {},
   "source": [
    "０を中心に重みの値がバランスよく広がっていることがわかります。ネットワーク全体で入力データの特徴を拾っていることがわかります。"
   ]
  },
  {
   "cell_type": "markdown",
   "metadata": {},
   "source": [
    "## L1正則化"
   ]
  },
  {
   "cell_type": "markdown",
   "metadata": {},
   "source": [
    "オーバーフィッティング対策のもう１つの手法であるL1正則化を行なってみましょう。L2正則化と同様に、パラメータ更新関数 update_parameters を書き換えます。\n",
    "\n",
    "**【課題２】** update_parameters_reg1()を実装してください。\n",
    "\n",
    "**Note:**\n",
    "$$w=w-\\alpha\\lambda sign(w) - \\alpha\\frac{\\partial{C}}{\\partial{w}}$$\n",
    "$$b=b-\\alpha\\frac{\\partial{C}}{\\partial{b}}$$"
   ]
  },
  {
   "cell_type": "code",
   "execution_count": 50,
   "metadata": {
    "collapsed": true
   },
   "outputs": [],
   "source": [
    "#Coursedele-02 Step3 QuestionNumber2 862c70efa7d546a0d64dc986eff2b31a\n",
    "def update_parameters_reg1(W1, b1, W2, b2, delta_W1, delta_b1, delta_W2, delta_b2, learning_rate, reg):\n",
    "    ###############START CODE HERE###############\n",
    "    W1 = W1 - learning_rate * reg * np.sign(W1) - learning_rate * delta_W1\n",
    "    b1 = b1 - learning_rate * delta_b1\n",
    "    W2 = W2 - learning_rate * reg * np.sign(W2) - learning_rate * delta_W2\n",
    "    b2 = b2 - learning_rate * delta_b2\n",
    "    ################END CODE HERE################\n",
    "    return W1, b1, W2, b2"
   ]
  },
  {
   "cell_type": "markdown",
   "metadata": {},
   "source": [
    "**ファイルを保存後** 、次のセルを実行（Shift+Enter）で採点を行います。"
   ]
  },
  {
   "cell_type": "code",
   "execution_count": 51,
   "metadata": {
    "collapsed": false
   },
   "outputs": [
    {
     "name": "stdout",
     "output_type": "stream",
     "text": [
      "Congraturation!\n",
      "We give you 10 points out of 10 points.\n",
      "\n"
     ]
    }
   ],
   "source": [
    "%%bash\n",
    "./validation_client.py dele-02 3 2 Step3_01.ipynb api.internal.zero2one.jp"
   ]
  },
  {
   "cell_type": "markdown",
   "metadata": {},
   "source": [
    "update_parameters_reg1()の実装がおわったら、nn_model()のコードを流用してニューラルネットワークのモデルを構築します。\n",
    "\n",
    "nn_model_reg1()を実装します。\n",
    "\n",
    "ここでは、下記の通りパラメータ更新の関数 update_parameters() を update_parameters_reg1()に書き換えました。\n",
    "\n",
    "下のセルをそのまま実行してください。"
   ]
  },
  {
   "cell_type": "code",
   "execution_count": 52,
   "metadata": {
    "collapsed": true
   },
   "outputs": [],
   "source": [
    "# ニューラルネットワークのモデルを構築\n",
    "def nn_model_reg1(X, y, X_test,y_test, input_size, hidden_size, output_size, epochs, sample_size, batch_size, learning_rate, reg, print_cost=False):\n",
    "\n",
    "    # コスト/精度を記録するための配列\n",
    "    train_Data_cost = []\n",
    "    train_Data_acc = []\n",
    "    test_Data_cost = []\n",
    "    test_Data_acc = []\n",
    "    \n",
    "    #エポックのカウントとパラメータを初期化\n",
    "    count = 0    \n",
    "    W1,b1,W2,b2 = initialize_parameters(input_size, hidden_size, output_size)\n",
    "     \n",
    "    #エポック\n",
    "    for i in range(epochs):\n",
    "        #ミニバッチ\n",
    "        for i in range(0, sample_size, batch_size):\n",
    "         \n",
    "            #ミニバッチ処理\n",
    "            X_batch = X[i:i+batch_size]\n",
    "            y_batch = y[i:i+batch_size]\n",
    "        \n",
    "            #フォワードプロパゲーション\n",
    "            layer1_z, layer1_a, layer2_z, layer2_a = forward_propagation(X_batch, W1,b1,W2, b2)\n",
    "            \n",
    "            #バックプロパゲーション\n",
    "            delta_W2, delta_b2, delta_W1, delta_b1 = backward_propagation(X_batch, y_batch, W2, layer1_z, layer1_a, layer2_z, layer2_a, batch_size)\n",
    "            \n",
    "            #パラメータの更新\n",
    "            W1, b1, W2, b2 = update_parameters_reg1(W1, b1, W2, b2, delta_W1, delta_b1, delta_W2, delta_b2, learning_rate, reg)\n",
    "\n",
    "        \n",
    "        #訓練データのエポックごとのコスト値\n",
    "        train_output = forward_propagation(X, W1,b1,W2, b2)\n",
    "        train_cost = compute_cost(y, train_output[3], sample_size)\n",
    "        train_Data_cost.append(train_cost)\n",
    "        \n",
    "        #訓練データのエポックごとの精度\n",
    "        train_acc = accuracy(y, train_output[3])\n",
    "        train_Data_acc.append(train_acc)\n",
    "        \n",
    "        #テストデータのエポックごとのコスト値\n",
    "        test_output = forward_propagation(X_test, W1,b1,W2, b2)\n",
    "        test_cost = compute_cost(y_test, test_output[3], y_test.shape[0])\n",
    "        test_Data_cost.append(test_cost)\n",
    "        \n",
    "        #テストデータのエポックごとの精度\n",
    "        test_acc = accuracy(y_test, test_output[3])\n",
    "        test_Data_acc.append(test_acc)\n",
    "\n",
    "        #エポック数をカウント\n",
    "        count += 1\n",
    "        print('epochs：{0:.0f}'.format(int(count)), 'train cost：{0:.2f}'.format(train_cost),'train acc：{0:.2f}%'.format(train_acc*100))\n",
    "    \n",
    "    print(\"Finish Leaning!!\")\n",
    "    \n",
    "    return train_Data_cost, train_Data_acc, test_Data_cost, test_Data_acc, W1, b1, W2, b2"
   ]
  },
  {
   "cell_type": "markdown",
   "metadata": {},
   "source": [
    "nn_model_reg1()に各引数を与え、学習を実行します。ここでは以下のとおりパラメータの設定をおこなってください。\n",
    "\n",
    "- input_size = 784\n",
    "- hidden_size = 100\n",
    "- output_size = 10\n",
    "- epochs = 10\n",
    "- sample_size = 55000\n",
    "- batch_size = 100\n",
    "- learning_rate = 0.1\n",
    "- reg = 0.005"
   ]
  },
  {
   "cell_type": "code",
   "execution_count": 53,
   "metadata": {
    "collapsed": true
   },
   "outputs": [],
   "source": [
    "input_size = 784\n",
    "hidden_size = 100\n",
    "output_size = 10\n",
    "epochs = 50\n",
    "sample_size = X_train.shape[0]\n",
    "batch_size = 100\n",
    "learning_rate = 0.1\n",
    "reg = 0.005 #正則化パラメータ"
   ]
  },
  {
   "cell_type": "markdown",
   "metadata": {},
   "source": [
    "以下のセルを実行するとモデルの学習がはじまります。"
   ]
  },
  {
   "cell_type": "code",
   "execution_count": 54,
   "metadata": {
    "collapsed": false
   },
   "outputs": [
    {
     "name": "stdout",
     "output_type": "stream",
     "text": [
      "epochs：1 train cost：4.58 train acc：22.37%\n",
      "epochs：2 train cost：3.33 train acc：33.27%\n",
      "epochs：3 train cost：2.61 train acc：42.23%\n",
      "epochs：4 train cost：2.14 train acc：49.20%\n",
      "epochs：5 train cost：1.82 train acc：54.63%\n",
      "epochs：6 train cost：1.58 train acc：59.43%\n",
      "epochs：7 train cost：1.41 train acc：62.73%\n",
      "epochs：8 train cost：1.27 train acc：65.10%\n",
      "epochs：9 train cost：1.16 train acc：67.60%\n",
      "epochs：10 train cost：1.07 train acc：69.73%\n",
      "epochs：11 train cost：0.99 train acc：71.70%\n",
      "epochs：12 train cost：0.93 train acc：72.87%\n",
      "epochs：13 train cost：0.88 train acc：74.33%\n",
      "epochs：14 train cost：0.83 train acc：75.40%\n",
      "epochs：15 train cost：0.79 train acc：76.60%\n",
      "epochs：16 train cost：0.75 train acc：77.37%\n",
      "epochs：17 train cost：0.72 train acc：78.27%\n",
      "epochs：18 train cost：0.69 train acc：78.73%\n",
      "epochs：19 train cost：0.67 train acc：79.33%\n",
      "epochs：20 train cost：0.65 train acc：80.00%\n",
      "epochs：21 train cost：0.63 train acc：80.23%\n",
      "epochs：22 train cost：0.61 train acc：80.93%\n",
      "epochs：23 train cost：0.59 train acc：81.33%\n",
      "epochs：24 train cost：0.58 train acc：81.80%\n",
      "epochs：25 train cost：0.57 train acc：82.13%\n",
      "epochs：26 train cost：0.56 train acc：82.60%\n",
      "epochs：27 train cost：0.55 train acc：82.67%\n",
      "epochs：28 train cost：0.54 train acc：83.17%\n",
      "epochs：29 train cost：0.53 train acc：83.47%\n",
      "epochs：30 train cost：0.52 train acc：83.63%\n",
      "epochs：31 train cost：0.52 train acc：84.07%\n",
      "epochs：32 train cost：0.51 train acc：84.47%\n",
      "epochs：33 train cost：0.50 train acc：84.67%\n",
      "epochs：34 train cost：0.50 train acc：84.60%\n",
      "epochs：35 train cost：0.49 train acc：84.47%\n",
      "epochs：36 train cost：0.49 train acc：84.70%\n",
      "epochs：37 train cost：0.49 train acc：85.13%\n",
      "epochs：38 train cost：0.49 train acc：85.03%\n",
      "epochs：39 train cost：0.48 train acc：85.13%\n",
      "epochs：40 train cost：0.48 train acc：85.20%\n",
      "epochs：41 train cost：0.48 train acc：85.23%\n",
      "epochs：42 train cost：0.48 train acc：85.43%\n",
      "epochs：43 train cost：0.48 train acc：85.50%\n",
      "epochs：44 train cost：0.48 train acc：85.70%\n",
      "epochs：45 train cost：0.48 train acc：86.00%\n",
      "epochs：46 train cost：0.47 train acc：86.03%\n",
      "epochs：47 train cost：0.47 train acc：86.13%\n",
      "epochs：48 train cost：0.47 train acc：86.17%\n",
      "epochs：49 train cost：0.47 train acc：86.27%\n",
      "epochs：50 train cost：0.47 train acc：86.17%\n",
      "Finish Leaning!!\n"
     ]
    }
   ],
   "source": [
    "train_Data_cost, train_Data_acc, test_Data_cost, test_Data_acc, W1, b1, W2, b2 = \\\n",
    "nn_model_reg1(X_train, y_train, X_test, y_test, input_size, hidden_size, output_size, epochs, sample_size, batch_size, learning_rate, reg, print_cost=True)"
   ]
  },
  {
   "cell_type": "markdown",
   "metadata": {},
   "source": [
    "## コスト減少のグラフ"
   ]
  },
  {
   "cell_type": "markdown",
   "metadata": {},
   "source": [
    "コスト関数が最適化されてコストが減少していく様子をプロットします。"
   ]
  },
  {
   "cell_type": "code",
   "execution_count": 55,
   "metadata": {
    "collapsed": false
   },
   "outputs": [
    {
     "data": {
      "image/png": "[encoded data removed]",
      "text/plain": [
       "<matplotlib.figure.Figure at 0x7fd332d761d0>"
      ]
     },
     "metadata": {},
     "output_type": "display_data"
    }
   ],
   "source": [
    "plt.plot(train_Data_cost, c='b', label='train cost')\n",
    "plt.plot(test_Data_cost, c='r', label='test cost')\n",
    "plt.xlabel('epochs')\n",
    "plt.ylabel('cost')\n",
    "plt.legend()\n",
    "plt.show()"
   ]
  },
  {
   "cell_type": "markdown",
   "metadata": {},
   "source": [
    "## 学習精度のグラフ"
   ]
  },
  {
   "cell_type": "markdown",
   "metadata": {},
   "source": [
    "エポックごとに学習精度が向上していく様子をプロットする。"
   ]
  },
  {
   "cell_type": "code",
   "execution_count": 56,
   "metadata": {
    "collapsed": false
   },
   "outputs": [
    {
     "data": {
      "image/png": "[encoded data removed]",
      "text/plain": [
       "<matplotlib.figure.Figure at 0x7fd32d052668>"
      ]
     },
     "metadata": {},
     "output_type": "display_data"
    }
   ],
   "source": [
    "plt.plot(train_Data_acc, c='b', label='train accuracy')\n",
    "plt.plot(test_Data_acc, c='r', label='test accuracy')\n",
    "plt.xlabel('epochs')\n",
    "plt.ylabel('accuracy')\n",
    "plt.legend()\n",
    "plt.show()"
   ]
  },
  {
   "cell_type": "markdown",
   "metadata": {},
   "source": [
    "### 実際に予測してみる"
   ]
  },
  {
   "cell_type": "markdown",
   "metadata": {},
   "source": [
    "学習後のパラメータを使って、訓練データとテストデータの精度を確認してみましょう。"
   ]
  },
  {
   "cell_type": "code",
   "execution_count": 57,
   "metadata": {
    "collapsed": false
   },
   "outputs": [
    {
     "name": "stdout",
     "output_type": "stream",
     "text": [
      "training accuracy: 0.86\n"
     ]
    }
   ],
   "source": [
    "hidden = np.dot(X_train, W1) + b1\n",
    "act1 = sigmoid(hidden)\n",
    "output = np.dot(act1, W2) + b2\n",
    "act2 = softmax(output)\n",
    "predicted_class = np.argmax(act2, axis=1)\n",
    "predicted_class_y_train = np.argmax(y_train, axis=1)\n",
    "print ('training accuracy: %.2f' % (np.mean(predicted_class == predicted_class_y_train)))"
   ]
  },
  {
   "cell_type": "code",
   "execution_count": 58,
   "metadata": {
    "collapsed": false
   },
   "outputs": [
    {
     "name": "stdout",
     "output_type": "stream",
     "text": [
      "test accuracy: 0.75\n"
     ]
    }
   ],
   "source": [
    "hidden = np.dot(X_test, W1) + b1\n",
    "act1 = sigmoid(hidden)\n",
    "output = np.dot(act1, W2) + b2\n",
    "act2 = softmax(output)\n",
    "predicted_class = np.argmax(act2, axis=1)\n",
    "predicted_class_y_train = np.argmax(y_test, axis=1)\n",
    "print ('test accuracy: %.2f' % (np.mean(predicted_class == predicted_class_y_train)))"
   ]
  },
  {
   "cell_type": "markdown",
   "metadata": {},
   "source": [
    "## L1正則化の重みの分布"
   ]
  },
  {
   "cell_type": "markdown",
   "metadata": {},
   "source": [
    "入力層から隠れ層にかけての重みの値の分布をみてみます。"
   ]
  },
  {
   "cell_type": "code",
   "execution_count": 59,
   "metadata": {
    "collapsed": true
   },
   "outputs": [],
   "source": [
    "L1 = W1.reshape(78400, )"
   ]
  },
  {
   "cell_type": "code",
   "execution_count": 60,
   "metadata": {
    "collapsed": false
   },
   "outputs": [
    {
     "data": {
      "image/png": "[encoded data removed]",
      "text/plain": [
       "<matplotlib.figure.Figure at 0x7fd32cfcfc88>"
      ]
     },
     "metadata": {},
     "output_type": "display_data"
    }
   ],
   "source": [
    "plt.hist(L1, bins=50)\n",
    "plt.show()"
   ]
  },
  {
   "cell_type": "markdown",
   "metadata": {},
   "source": [
    "L1正則化を行うと、正則化の制約条件よりスパース性が高くなります。疎な解を得やすくなります。\n",
    "\n",
    "本演習例では多くのパラメータがゼロになっています。このようにほとんどゼロであるというデータの性質をスパース性といいます。\n",
    "\n",
    "スパースだと何が良いのでしょうか？\n",
    "\n",
    "- スパースなデータは、ほとんどの要素がゼロのため、「どこに何の数字がある」という情報だけ記録しておけば、大幅に使用メモリ削減になる。\n",
    "- ゼロのところは計算する必要がないため、大幅な高速化に貢献する。\n",
    "- どこに何があるという情報は、訓練データの構造を理解するのにも有用である。\n",
    "\n",
    "以上のような性質があります。"
   ]
  },
  {
   "cell_type": "markdown",
   "metadata": {},
   "source": [
    "# 早期終了"
   ]
  },
  {
   "cell_type": "markdown",
   "metadata": {},
   "source": [
    "本演習の前半では過学習対策として、正則化を実装してきました。ニューラルネットワークはよく過学習を起こします。\n",
    "\n",
    "そこでテストデータ（検証データ）の評価が良いときに学習を止めてしまうことで、過学習を起こす前のよくフィットしたパラメータを獲得する、もしくは無駄な学習コストを抑えることもできる早期終了の実装を行います。\n",
    "\n",
    "大抵、テストデータ（検証データ）に対する評価が複数回悪化した場合に学習を止めます。\n",
    "\n",
    "なぜならディープラーニングでは学習が停滞してしまう、あるいは悪化後に、能力がよくなることも考えられるからです。\n",
    "\n",
    "１回だけで学習を止めてしまうのはもったいないかもしれませんが、ここでは実験データを用いてテストデータのコストが悪化したケースを想定し、早期終了を実装します。"
   ]
  },
  {
   "cell_type": "markdown",
   "metadata": {},
   "source": [
    "以下のコードをそのまま実行してください。エポック（epochs）の回数が３０回、訓練データ（train_cost）とテストデータ（test_cost）のコストのデータをロードします。"
   ]
  },
  {
   "cell_type": "code",
   "execution_count": 61,
   "metadata": {
    "collapsed": true
   },
   "outputs": [],
   "source": [
    "import numpy as np\n",
    "import matplotlib.pyplot as plt\n",
    "epochs = np.loadtxt('./dataset/epochs.csv')\n",
    "train_cost = np.loadtxt('./dataset/train_cost.csv')\n",
    "test_cost = np.loadtxt('./dataset/test_cost.csv')"
   ]
  },
  {
   "cell_type": "markdown",
   "metadata": {},
   "source": [
    "下のセルを実行して、読み込んだデータを可視化します。"
   ]
  },
  {
   "cell_type": "code",
   "execution_count": 62,
   "metadata": {
    "collapsed": false
   },
   "outputs": [
    {
     "data": {
      "image/png": "[encoded data removed]",
      "text/plain": [
       "<matplotlib.figure.Figure at 0x7fd32d40b7b8>"
      ]
     },
     "metadata": {},
     "output_type": "display_data"
    }
   ],
   "source": [
    "plt.plot(epochs, train_cost, label=\"Train data\")\n",
    "plt.plot(epochs, test_cost, label=\"Test data\")\n",
    "plt.xlabel(\"epochs\")\n",
    "plt.ylabel(\"cost\")\n",
    "plt.legend()\n",
    "plt.show()"
   ]
  },
  {
   "cell_type": "markdown",
   "metadata": {},
   "source": [
    "１５エポックくらいまではコストがいい感じに下がっていますが、１５エポックを境に突如テストデータのコストが上昇してしまい、過学習を起こしてしまったモデルのケースです。早期終了の方法はさまざまな方法が考えられますが、ここでは極端な例として訓練集合とテスト集合に関してのコストの値の差の絶対値が１を超えたしまったときプログラムを終了するといったケースを考えて実装します。"
   ]
  },
  {
   "cell_type": "markdown",
   "metadata": {},
   "source": [
    "**【課題３】** early_stopping()を実装してください。"
   ]
  },
  {
   "cell_type": "code",
   "execution_count": 72,
   "metadata": {
    "collapsed": false
   },
   "outputs": [],
   "source": [
    "#Coursedele-02 Step3 QuestionNumber3 7947f78be397ca30adb98d8b32decb88\n",
    "def early_stopping(train_cost, test_cost, print_cost = False):\n",
    "    count = 0\n",
    "    ###############START CODE HERE###############\n",
    "    #適切な 関数・変数・値 などにNoneを書き換えてください。\n",
    "    for z1, z2 in zip(train_cost, test_cost):\n",
    "        if np.absolute(z1 - z2) >= 1:\n",
    "            if print_cost == True:\n",
    "                print(\"コストの絶対値の差が１を超えたため学習を終了\" )\n",
    "            break\n",
    "        else:\n",
    "            if print_cost == True:\n",
    "                print(\"エポック：{}\".format(count), \"コストの絶対値の差：\", np.absolute(z1 - z2) )\n",
    "            count +=1\n",
    "            continue\n",
    "    ################END CODE HERE################\n",
    "    return np.absolute(z1 - z2)"
   ]
  },
  {
   "cell_type": "markdown",
   "metadata": {},
   "source": [
    "**ファイルを保存後** 、次のセルを実行（Shift+Enter）で採点を行います。"
   ]
  },
  {
   "cell_type": "code",
   "execution_count": 75,
   "metadata": {
    "collapsed": false
   },
   "outputs": [
    {
     "name": "stdout",
     "output_type": "stream",
     "text": [
      "Congraturation!\n",
      "We give you 10 points out of 10 points.\n",
      "\n"
     ]
    }
   ],
   "source": [
    "%%bash\n",
    "./validation_client.py dele-02 3 3 Step3_01.ipynb api.internal.zero2one.jp"
   ]
  },
  {
   "cell_type": "code",
   "execution_count": 74,
   "metadata": {
    "collapsed": false
   },
   "outputs": [
    {
     "name": "stdout",
     "output_type": "stream",
     "text": [
      "エポック：0 コストの絶対値の差： 0.07557297998892754\n",
      "エポック：1 コストの絶対値の差： 0.059052772349942106\n",
      "エポック：2 コストの絶対値の差： 0.008292537767421448\n",
      "エポック：3 コストの絶対値の差： 0.04289820991249638\n",
      "エポック：4 コストの絶対値の差： 0.08142967765997478\n",
      "エポック：5 コストの絶対値の差： 0.0007062033307673188\n",
      "エポック：6 コストの絶対値の差： 0.07369294374439406\n",
      "エポック：7 コストの絶対値の差： 0.07799222405111728\n",
      "エポック：8 コストの絶対値の差： 0.0764486590728386\n",
      "エポック：9 コストの絶対値の差： 0.025283739805557315\n",
      "エポック：10 コストの絶対値の差： 0.059288829690399336\n",
      "エポック：11 コストの絶対値の差： 0.04886582436591047\n",
      "エポック：12 コストの絶対値の差： 0.0032255384669148124\n",
      "エポック：13 コストの絶対値の差： 0.04989584143632725\n",
      "エポック：14 コストの絶対値の差： 0.038048566319644206\n",
      "エポック：15 コストの絶対値の差： 0.10673643312071224\n",
      "エポック：16 コストの絶対値の差： 0.07234899564544617\n",
      "エポック：17 コストの絶対値の差： 0.18309563344527535\n",
      "エポック：18 コストの絶対値の差： 0.060934903387208805\n",
      "エポック：19 コストの絶対値の差： 0.2663376657374398\n",
      "エポック：20 コストの絶対値の差： 0.2796652336380832\n",
      "エポック：21 コストの絶対値の差： 0.39051299701322095\n",
      "エポック：22 コストの絶対値の差： 0.5876431244363143\n",
      "エポック：23 コストの絶対値の差： 0.807933484010961\n",
      "エポック：24 コストの絶対値の差： 0.965362428240907\n",
      "コストの絶対値の差が１を超えたため学習を終了\n"
     ]
    },
    {
     "data": {
      "text/plain": [
       "1.2100915536012253"
      ]
     },
     "execution_count": 74,
     "metadata": {},
     "output_type": "execute_result"
    }
   ],
   "source": [
    "early_stopping(train_cost, test_cost, print_cost = True)"
   ]
  },
  {
   "cell_type": "code",
   "execution_count": null,
   "metadata": {
    "collapsed": true
   },
   "outputs": [],
   "source": []
  },
  {
   "cell_type": "code",
   "execution_count": null,
   "metadata": {
    "collapsed": true
   },
   "outputs": [],
   "source": []
  }
 ],
 "metadata": {
  "anaconda-cloud": {},
  "kernelspec": {
   "display_name": "Python [default]",
   "language": "python",
   "name": "python3"
  },
  "language_info": {
   "codemirror_mode": {
    "name": "ipython",
    "version": 3
   },
   "file_extension": ".py",
   "mimetype": "text/x-python",
   "name": "python",
   "nbconvert_exporter": "python",
   "pygments_lexer": "ipython3",
   "version": "3.5.2"
  },
  "toc": {
   "nav_menu": {
    "height": "480px",
    "width": "252px"
   },
   "navigate_menu": true,
   "number_sections": true,
   "sideBar": true,
   "threshold": 4,
   "toc_cell": false,
   "toc_section_display": "block",
   "toc_window_display": true
  }
 },
 "nbformat": 4,
 "nbformat_minor": 2
}
