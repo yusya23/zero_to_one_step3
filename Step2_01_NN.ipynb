{
 "cells": [
  {
   "cell_type": "markdown",
   "metadata": {},
   "source": [
    "# Step2 演習01 線形分離不可能なデータ\n",
    "---"
   ]
  },
  {
   "cell_type": "markdown",
   "metadata": {},
   "source": [
    "ディープラーニングコースはじめての演習へようこそ！！\n",
    "\n",
    "これから実践的なディープラーニングの実装が始まります。\n",
    "\n",
    "難しいと感じる課題もあると思いますが、一つ一つの課題が重要な意味を持ちますので、しっかりと取り組んでください。\n",
    "\n",
    "本演習では、線形分離不可能なデータに対してニューラルネットワークモデルの構築・学習に取り組みます。\n",
    "\n",
    "まずはじめに基本論理回路のAND, OR, NOT回路を単純パーセプトロンで実装し、講義で扱った内容を実際に試してみます。\n",
    "\n",
    "また基本論理回路を組み合わせた、XOR回路の組み立てを行います。\n",
    "\n",
    "次に入力層・隠れ層・出力層の２層のニューラルネットワークのモデルを構築し、線形分離不可能なデータの学習・分類を行います。\n",
    "\n",
    "**はじめに**\n",
    "- for文やwhile文の利用は明示的な利用指示がない場所での利用は避けてください。\n",
    "- データセットは訓練データのみを扱います。\n",
    "\n",
    "**本演習の目的** \n",
    "- 基本論理回路を実装する。\n",
    "- 基本論理回路を組み合わせて、XOR回路を組み立てることができることを確認する。\n",
    "- 小さいデータ数と小さなニューラルネットワークの実装を通して、ネットワークの構築とモデルの学習プロセスを学ぶ。"
   ]
  },
  {
   "cell_type": "markdown",
   "metadata": {},
   "source": [
    "## ライブラリのインポート\n",
    "\n",
    "まずはじめに、利用するライブラリのインポートを行います。\n",
    "\n",
    "- [NumPy](http://www.numpy.org) 数値計算を行うための基本パッケージの公式ドキュメント\n",
    "- [Matplotlib](http://matplotlib.org) グラフ描画ライブラリの基本パッケージの公式ドキュメント\n",
    "\n",
    "ドキュメントには有用な情報が書き記されています。何か迷ったときには必ずドキュメントに戻ってくるようにしましょう。\n",
    "\n",
    "次のセルをそのまま実行（\"SHIFT\" + \"ENTER\"）してください。コードが書いてあるセルは**上から順番**に順次実行してください。\n",
    "\n",
    "**注意**： 初めてmatplotlibを使うユーザーは、フォント一覧のキャッシュが存在しないため、このセルの実行でWarningが出ます。もう一度実行すると、すでにキャッシュができているので、Warningなく走ります。"
   ]
  },
  {
   "cell_type": "code",
   "execution_count": 91,
   "metadata": {
    "collapsed": true
   },
   "outputs": [],
   "source": [
    "%matplotlib inline\n",
    "import numpy as np\n",
    "import matplotlib.pyplot as plt\n",
    "font = {'family':'IPAexGothic'}\n",
    "plt.rc('font', **font)"
   ]
  },
  {
   "cell_type": "markdown",
   "metadata": {},
   "source": [
    "## 単純パーセプトロン"
   ]
  },
  {
   "cell_type": "markdown",
   "metadata": {},
   "source": [
    "まずはじめに、入力層と出力層のみのモデルを構築します。\n",
    "\n",
    "入力のユニット数２、出力のユニット数が１のシンプルな単純パーセプトロンです。\n",
    "<br>\n",
    "<br>\n",
    "**モデル**:\n",
    "<div align=\"center\"  style=\"width:35%\">\n",
    "<img src=\"./img/step2_simple_perceptron.png\"></div>\n"
   ]
  },
  {
   "cell_type": "markdown",
   "metadata": {},
   "source": [
    "### ステップ関数の実装"
   ]
  },
  {
   "cell_type": "markdown",
   "metadata": {},
   "source": [
    "単純パーセプトロンの出力層で使う関数を準備します。ここでは、ステップ関数を実装します。\n",
    "\n",
    "$$\n",
    "  f(x) = \\left\\{ \\begin{array}{ll}\n",
    "    1　(x>0) \\\\\n",
    "    0　(x≦0)\n",
    "  \\end{array} \\right.\n",
    "$$"
   ]
  },
  {
   "cell_type": "markdown",
   "metadata": {},
   "source": [
    "**【課題１】** ステップ関数 step(x) を実装してください。戻り値はステップ関数の出力とします。"
   ]
  },
  {
   "cell_type": "code",
   "execution_count": 92,
   "metadata": {
    "collapsed": true
   },
   "outputs": [],
   "source": [
    "#Coursedele-02 Step2 QuestionNumber1 e2be1fd31dd34879f8a5cd735eda28de\n",
    "def step(x):\n",
    "    ###############START CODE HERE###############\n",
    "    x[x > 0] = 1\n",
    "    x[x <= 0] = 0\n",
    "    return x\n",
    "    ################END CODE HERE################"
   ]
  },
  {
   "cell_type": "markdown",
   "metadata": {},
   "source": [
    "** ファイルを保存後 **、次のセルを実行（Shift+Enter）で採点を行います。"
   ]
  },
  {
   "cell_type": "code",
   "execution_count": 93,
   "metadata": {
    "collapsed": false
   },
   "outputs": [
    {
     "name": "stdout",
     "output_type": "stream",
     "text": [
      "Congraturation!\n",
      "We give you 10 points out of 10 points.\n",
      "\n"
     ]
    }
   ],
   "source": [
    "%%bash\n",
    "./validation_client.py dele-02 2 1 Step2_01.ipynb api.internal.zero2one.jp"
   ]
  },
  {
   "cell_type": "code",
   "execution_count": 94,
   "metadata": {
    "collapsed": false
   },
   "outputs": [
    {
     "data": {
      "text/plain": [
       "array([0, 0, 0, 1, 1, 1])"
      ]
     },
     "execution_count": 94,
     "metadata": {},
     "output_type": "execute_result"
    }
   ],
   "source": [
    "step(np.array([-10, -5, 0, 5, 10,15]))"
   ]
  },
  {
   "cell_type": "markdown",
   "metadata": {},
   "source": [
    "**Expected Output**: \n",
    "<table style = \"width:50%\">\n",
    "    <tr>\n",
    "    <td>** step(np.array([-10, -5, 0, 5, 10,15]))**</td> \n",
    "        <td>([0, 0, 0, 1, 1, 1])</td> \n",
    "    </tr>\n",
    "\n",
    "</table>"
   ]
  },
  {
   "cell_type": "markdown",
   "metadata": {},
   "source": [
    "単純パーセプトロンのモデルの確認と出力層で使うステップ関数の実装をしました。\n",
    "\n",
    "次に入力データを確認し、基本論理回路AND, OR, NOT回路を順番に実装していきます。"
   ]
  },
  {
   "cell_type": "markdown",
   "metadata": {},
   "source": [
    "### 入力データ"
   ]
  },
  {
   "cell_type": "markdown",
   "metadata": {},
   "source": [
    "基本論理回路への入力 $x$ は次のセルに示します。\n",
    "\n",
    "下のセルをそのまま実行してください。"
   ]
  },
  {
   "cell_type": "code",
   "execution_count": 95,
   "metadata": {
    "collapsed": true
   },
   "outputs": [],
   "source": [
    "X = np.array([[0, 0], [0, 1], [1, 0], [1, 1]])"
   ]
  },
  {
   "cell_type": "code",
   "execution_count": 96,
   "metadata": {
    "collapsed": false
   },
   "outputs": [
    {
     "name": "stdout",
     "output_type": "stream",
     "text": [
      "[[0 0]\n",
      " [0 1]\n",
      " [1 0]\n",
      " [1 1]]\n"
     ]
    }
   ],
   "source": [
    "print(X)"
   ]
  },
  {
   "cell_type": "code",
   "execution_count": 97,
   "metadata": {
    "collapsed": false
   },
   "outputs": [
    {
     "data": {
      "text/plain": [
       "(4, 2)"
      ]
     },
     "execution_count": 97,
     "metadata": {},
     "output_type": "execute_result"
    }
   ],
   "source": [
    "X.shape"
   ]
  },
  {
   "cell_type": "markdown",
   "metadata": {},
   "source": [
    "## AND回路"
   ]
  },
  {
   "cell_type": "markdown",
   "metadata": {},
   "source": [
    "AND回路は、入力がどちらも１であれば１を返す論理回路です。\n",
    "\n",
    "図に示すと次のようになります。\n",
    "<br>\n",
    "<br>\n",
    "<div align=\"center\"  style=\"width:35%\">\n",
    "<img src=\"./img/step2_and_graph.png\"></div>\n",
    "\n",
    "ANDは、入力$x$=(0, 0)(0, 1)(1, 0)(1, 1)のときの出力y=(0, 0, 0, 1)となります。\n",
    "\n",
    "下の表には入力と目標となる出力をまとめています。"
   ]
  },
  {
   "cell_type": "markdown",
   "metadata": {},
   "source": [
    "\n",
    "<table style=\"width:30%\">\n",
    "\n",
    "\t<thead>\n",
    "\t<tr>\n",
    "\t\t<th >入力$X_1$</th>\n",
    "\t\t<th >入力$X_2$</th>\n",
    "\t\t<th >出力$y$</th>\n",
    "\t</tr>\n",
    "\t</thead>\n",
    "\n",
    "  <tr>\n",
    "    <td>0</td>\n",
    "    <td> 0 </td> \n",
    "    <td> 0 </td> \n",
    "  </tr>\n",
    "  \n",
    "    <tr>\n",
    "    <td>0</td>\n",
    "    <td> 1 </td> \n",
    "    <td> 0 </td> \n",
    "  </tr>\n",
    "  \n",
    "    <tr>\n",
    "    <td>1</td>\n",
    "    <td> 0 </td> \n",
    "    <td> 0 </td> \n",
    "  </tr>\n",
    " \n",
    "     <tr>\n",
    "    <td>1</td>\n",
    "    <td> 1 </td> \n",
    "    <td> 1 </td> \n",
    "  </tr>\n",
    "  \n",
    "</table>"
   ]
  },
  {
   "cell_type": "markdown",
   "metadata": {},
   "source": [
    "**【課題２】** 関数AND(x)を実装してください。重みwの値は授業でも扱った３にします。戻り値はANDの出力とします。\n",
    "<br>\n",
    "<br>\n",
    "$$f(x)=wx+b$$\n",
    "\n",
    "** Note **\n",
    "- xは入力データです。\n",
    "- wは重みです。np.array([None,None])で記述します。\n",
    "- bはバイアスです。-5にします。\n",
    "- fにはnp.dot()でwとxの演算を行い、バイアスbを足し合わせます。\n",
    "- 最後に先ほど実装したステップ関数を利用して、fの値を入れ出力します。"
   ]
  },
  {
   "cell_type": "code",
   "execution_count": 98,
   "metadata": {
    "collapsed": true
   },
   "outputs": [],
   "source": [
    "#Coursedele-02 Step2 QuestionNumber2 ea5f99af770ac69b11b59f5c9dcffe01\n",
    "def AND(x):\n",
    "    ###############START CODE HERE###############\n",
    "    w = np.array([3,3])\n",
    "    b = -5\n",
    "    f = np.dot(w,x.T) + b\n",
    "    y = step(f)\n",
    "    ################END CODE HERE################\n",
    "    return y"
   ]
  },
  {
   "cell_type": "code",
   "execution_count": 99,
   "metadata": {
    "collapsed": false
   },
   "outputs": [],
   "source": [
    "# w = np.array([[3,3]])\n",
    "# b = -5\n",
    "# f = np.dot(X,w.T) + b\n",
    "# y = step(f)"
   ]
  },
  {
   "cell_type": "code",
   "execution_count": 100,
   "metadata": {
    "collapsed": false
   },
   "outputs": [
    {
     "data": {
      "text/plain": [
       "array([0, 0, 0, 1])"
      ]
     },
     "execution_count": 100,
     "metadata": {},
     "output_type": "execute_result"
    }
   ],
   "source": [
    "AND(X)"
   ]
  },
  {
   "cell_type": "code",
   "execution_count": 101,
   "metadata": {
    "collapsed": false
   },
   "outputs": [],
   "source": [
    "# w"
   ]
  },
  {
   "cell_type": "code",
   "execution_count": 102,
   "metadata": {
    "collapsed": false
   },
   "outputs": [],
   "source": [
    "# w.shape"
   ]
  },
  {
   "cell_type": "markdown",
   "metadata": {},
   "source": [
    "** ファイルを保存後 **、次のセルを実行（Shift+Enter）で採点を行います。"
   ]
  },
  {
   "cell_type": "code",
   "execution_count": 103,
   "metadata": {
    "collapsed": false
   },
   "outputs": [
    {
     "name": "stdout",
     "output_type": "stream",
     "text": [
      "ExcessiveAccess: Wait for 10 minutes\n",
      "Error regarding to send score\n",
      "\n"
     ]
    }
   ],
   "source": [
    "%%bash\n",
    "./validation_client.py dele-02 2 2 Step2_01.ipynb api.internal.zero2one.jp"
   ]
  },
  {
   "cell_type": "code",
   "execution_count": 104,
   "metadata": {
    "collapsed": false
   },
   "outputs": [
    {
     "data": {
      "text/plain": [
       "array([0, 0, 0, 1])"
      ]
     },
     "execution_count": 104,
     "metadata": {},
     "output_type": "execute_result"
    }
   ],
   "source": [
    "X = np.array([[0, 0], [0, 1], [1, 0], [1, 1]])\n",
    "AND(X)"
   ]
  },
  {
   "cell_type": "markdown",
   "metadata": {},
   "source": [
    "**Expected Output**: \n",
    "<table style = \"width:40%\">\n",
    "    <tr>\n",
    "    <td>** AND(X) **</td> \n",
    "        <td>([0, 0, 0, 1])</td> \n",
    "    </tr>\n",
    "\n",
    "</table>"
   ]
  },
  {
   "cell_type": "markdown",
   "metadata": {},
   "source": [
    "## OR回路"
   ]
  },
  {
   "cell_type": "markdown",
   "metadata": {},
   "source": [
    "OR回路は、入力のいずれかに１があれば１を返す論理回路です。図に示すとこのようになります。\n",
    "<br>\n",
    "<br>\n",
    "<div align=\"center\"  style=\"width:35%\">\n",
    "<img src=\"./img/step2_or_graph.png\"></div>\n",
    "\n",
    "ORは、入力 $x$ = (0, 0)(0, 1)(1, 0)(1, 1) のときの出力 y = (0, 1, 1, 1) となります。\n",
    "\n",
    "下の表には入力と目標となる出力をまとめています。"
   ]
  },
  {
   "cell_type": "markdown",
   "metadata": {},
   "source": [
    "<table style=\"width:30%\">\n",
    "\n",
    "\t<thead>\n",
    "\t<tr>\n",
    "\t\t<th >入力$X_1$</th>\n",
    "\t\t<th >入力$X_2$</th>\n",
    "\t\t<th >出力$y$</th>\n",
    "\t</tr>\n",
    "\t</thead>\n",
    "\n",
    "  <tr>\n",
    "    <td>0</td>\n",
    "    <td> 0 </td> \n",
    "    <td> 0 </td> \n",
    "  </tr>\n",
    "  \n",
    "    <tr>\n",
    "    <td>0</td>\n",
    "    <td> 1 </td> \n",
    "    <td> 1 </td> \n",
    "  </tr>\n",
    "  \n",
    "    <tr>\n",
    "    <td>1</td>\n",
    "    <td> 0 </td> \n",
    "    <td> 1 </td> \n",
    "  </tr>\n",
    " \n",
    "     <tr>\n",
    "    <td>1</td>\n",
    "    <td> 1 </td> \n",
    "    <td> 1 </td> \n",
    "  </tr>\n",
    "  \n",
    "</table>"
   ]
  },
  {
   "cell_type": "markdown",
   "metadata": {},
   "source": [
    "**【課題３】** 関数OR(x)を実装してください。重みwの値は授業でも扱った3にします。戻り値はORの出力とします。\n",
    "<br>\n",
    "<br>\n",
    "$$f(x)=wx+b$$\n",
    "\n",
    "- xは入力データです。\n",
    "- wは重みです。np.array([None,None])で記述します。\n",
    "- bはバイアスです。-2にします。\n",
    "- fにはnp.dot()でwとxの演算を行い、バイアスbを足し合わせます。\n",
    "- 最後に先ほど実装したステップ関数を利用して、fの値を入れ出力します。"
   ]
  },
  {
   "cell_type": "code",
   "execution_count": 105,
   "metadata": {
    "collapsed": true
   },
   "outputs": [],
   "source": [
    "#Coursedele-02 Step2 QuestionNumber3 c639447dfdef89b30869263df438182b\n",
    "def OR(x):\n",
    "    ###############START CODE HERE###############\n",
    "    w = np.array([3,3])\n",
    "    b = -2\n",
    "    f = np.dot(w,x.T) + b\n",
    "    y = step(f)\n",
    "    ################END CODE HERE################\n",
    "    return y"
   ]
  },
  {
   "cell_type": "markdown",
   "metadata": {},
   "source": [
    "** ファイルを保存後 **、次のセルを実行（Shift+Enter）で採点を行います。"
   ]
  },
  {
   "cell_type": "code",
   "execution_count": 106,
   "metadata": {
    "collapsed": false
   },
   "outputs": [
    {
     "name": "stdout",
     "output_type": "stream",
     "text": [
      "Congraturation!\n",
      "We give you 10 points out of 10 points.\n",
      "\n"
     ]
    }
   ],
   "source": [
    "%%bash\n",
    "./validation_client.py dele-02 2 3 Step2_01.ipynb api.internal.zero2one.jp"
   ]
  },
  {
   "cell_type": "code",
   "execution_count": 107,
   "metadata": {
    "collapsed": false
   },
   "outputs": [
    {
     "data": {
      "text/plain": [
       "array([0, 1, 1, 1])"
      ]
     },
     "execution_count": 107,
     "metadata": {},
     "output_type": "execute_result"
    }
   ],
   "source": [
    "X = np.array([[0, 0], [0, 1], [1, 0], [1, 1]])\n",
    "OR(X)"
   ]
  },
  {
   "cell_type": "markdown",
   "metadata": {},
   "source": [
    "**Expected Output**: \n",
    "<table style = \"width:40%\">\n",
    "    <tr>\n",
    "    <td>** OR(X) **</td> \n",
    "        <td>([0, 1, 1, 1])</td> \n",
    "    </tr>\n",
    "\n",
    "</table>"
   ]
  },
  {
   "cell_type": "markdown",
   "metadata": {},
   "source": [
    "## NOT回路"
   ]
  },
  {
   "cell_type": "markdown",
   "metadata": {},
   "source": [
    "最後に、NOT回路を実装します。\n",
    "\n",
    "NOT回路は、入力の逆の出力を返す論理回路です。図に示すとこのようになります。\n",
    "<br>\n",
    "<br>\n",
    "<div align=\"center\"  style=\"width:35%\">\n",
    "<img src=\"./img/step2_not_graph.png\"></div>\n",
    "\n",
    "NOTは、入力$x$=(0), (1)のときの出力y=(1,0)となります。\n",
    "\n",
    "下の表には入力と目標となる出力をまとめています。"
   ]
  },
  {
   "cell_type": "markdown",
   "metadata": {},
   "source": [
    "<table style=\"width:30%\">\n",
    "\n",
    "\t<thead>\n",
    "\t<tr>\n",
    "\t\t<th >入力$X_1$</th>\n",
    "\t\t<th >出力$y$</th>\n",
    "\t</tr>\n",
    "\t</thead>\n",
    "\n",
    "  <tr>\n",
    "    <td>0</td>\n",
    "    <td> 1 </td> \n",
    "  </tr>\n",
    "  \n",
    "    <tr>\n",
    "    <td> 1 </td> \n",
    "    <td> 0 </td> \n",
    "  </tr>\n",
    "  \n",
    "</table>"
   ]
  },
  {
   "cell_type": "markdown",
   "metadata": {},
   "source": [
    "**【課題４】** 関数NOT(x)を実装してください。重みwの値は授業でも扱った-3にします。戻り値はNOTの出力とします。\n",
    "<br>\n",
    "<br>\n",
    "$$f(x)=wx+b$$\n",
    "\n",
    "- xは入力データです。\n",
    "- wは重みです。 -3です。\n",
    "- bはバイアスです。1にします。\n",
    "- fにはnp.dot()でwとxの演算を行い、バイアスbを足し合わせましょう。\n",
    "- 最後に先ほど実装したステップ関数を利用して、fの値を入れ出力しましょう。"
   ]
  },
  {
   "cell_type": "code",
   "execution_count": 108,
   "metadata": {
    "collapsed": true
   },
   "outputs": [],
   "source": [
    "#Coursedele-02 Step2 QuestionNumber4 78047679d404a8cf7ffe97ce91095591\n",
    "def NOT(x):\n",
    "    ###############START CODE HERE###############\n",
    "    w = np.array([[-3]])\n",
    "    b = 1\n",
    "    f = np.dot(x,w) + 1\n",
    "    y = step(f)\n",
    "    ################END CODE HERE################\n",
    "    return y"
   ]
  },
  {
   "cell_type": "markdown",
   "metadata": {},
   "source": [
    "** ファイルを保存後 **、次のセルを実行（Shift+Enter）で採点を行います。"
   ]
  },
  {
   "cell_type": "code",
   "execution_count": 109,
   "metadata": {
    "collapsed": false
   },
   "outputs": [
    {
     "name": "stdout",
     "output_type": "stream",
     "text": [
      "ExcessiveAccess: Wait for 10 minutes\n",
      "\n"
     ]
    }
   ],
   "source": [
    "%%bash\n",
    "./validation_client.py dele-02 2 4 Step2_01.ipynb api.internal.zero2one.jp"
   ]
  },
  {
   "cell_type": "code",
   "execution_count": 110,
   "metadata": {
    "collapsed": false
   },
   "outputs": [
    {
     "data": {
      "text/plain": [
       "array([[1],\n",
       "       [0]])"
      ]
     },
     "execution_count": 110,
     "metadata": {},
     "output_type": "execute_result"
    }
   ],
   "source": [
    "X = np.array([[0], [1]])\n",
    "NOT(X)"
   ]
  },
  {
   "cell_type": "markdown",
   "metadata": {},
   "source": [
    "**Expected Output**: \n",
    "<table style = \"width:40%\">\n",
    "    <tr>\n",
    "    <td>** NOT **</td> \n",
    "        <td>([[1], [0]])</td> \n",
    "    </tr>\n",
    "\n",
    "</table>"
   ]
  },
  {
   "cell_type": "markdown",
   "metadata": {},
   "source": [
    "以上が、単純パーセプトロンを用いたAND, OR, NOTの基本論理回路の実装でした。"
   ]
  },
  {
   "cell_type": "markdown",
   "metadata": {},
   "source": [
    "## 単純パーセプトロンの限界"
   ]
  },
  {
   "cell_type": "markdown",
   "metadata": {},
   "source": [
    "単純パーセプトロンでは線形分離不可能なデータの分類・学習を行うことができませんでした。\n",
    "\n",
    "ここで新たに、基本論理回路を組み合わせたXOR（排他的論理和）を実装します。\n",
    "\n",
    "XORは、入力 $x$=(0, 0)(0, 1)(1, 0)(1, 1) のときの出力 y=(0, 1, 1, 0) となります。\n",
    "\n",
    "下のグラフには入力と目標となる出力をまとめてあります。"
   ]
  },
  {
   "cell_type": "markdown",
   "metadata": {},
   "source": [
    "<table style=\"width:30%\">\n",
    "\n",
    "\t<thead>\n",
    "\t<tr>\n",
    "\t\t<th >入力$X_1$</th>\n",
    "\t\t<th >入力$X_2$</th>\n",
    "\t\t<th >出力$y$</th>\n",
    "\t</tr>\n",
    "\t</thead>\n",
    "\n",
    "  <tr>\n",
    "    <td>0</td>\n",
    "    <td> 0 </td> \n",
    "    <td> 0 </td> \n",
    "  </tr>\n",
    "  \n",
    "    <tr>\n",
    "    <td>0</td>\n",
    "    <td> 1 </td> \n",
    "    <td> 1 </td> \n",
    "  </tr>\n",
    "  \n",
    "    <tr>\n",
    "    <td>1</td>\n",
    "    <td> 0 </td> \n",
    "    <td> 1 </td> \n",
    "  </tr>\n",
    " \n",
    "     <tr>\n",
    "    <td>1</td>\n",
    "    <td> 1 </td> \n",
    "    <td> 0 </td> \n",
    "  </tr>\n",
    "  \n",
    "</table>\n",
    "\n",
    "具体的にこれらの入力と出力を図で示すとこのようになります。\n",
    "<br>\n",
    "<br>\n",
    "<div align=\"center\"  style=\"width:35%\">\n",
    "<img src=\"./img/step2_xor_graph.png\"></div>\n",
    "<br>\n",
    "<br>\n",
    "XORは、グラフをみるとわかるとおり、直線（ここでは２クラスのため直線１本）で分類することができません。\n",
    "\n",
    "つまり、単純パーセプトロンでは解くことができない、線形分離できないデータです。"
   ]
  },
  {
   "cell_type": "markdown",
   "metadata": {},
   "source": [
    "## 隠れ層１層を増やしてみる"
   ]
  },
  {
   "cell_type": "markdown",
   "metadata": {},
   "source": [
    "では、実際にどのように解決するかというと、「隠れ層１層」 追加することでこの問題を解決することができました。\n",
    "\n",
    "論理回路を組み合わせてみると次の図のようになります。\n",
    "<br>\n",
    "<br>\n",
    "<div align=\"center\"  style=\"width:55%\">\n",
    "<img src=\"./img/step2_xor_circuit.png\"></div>\n"
   ]
  },
  {
   "cell_type": "markdown",
   "metadata": {},
   "source": [
    "**【課題５】** 関数XOR(x)を実装してください。戻り値はXORの出力とします。\n",
    "\n",
    "では、実際にXORのモデルを実装してみましょう。これまで実装してきたAND(x), OR(x), NOT(x)回路の関数を使って実装します。"
   ]
  },
  {
   "cell_type": "code",
   "execution_count": 111,
   "metadata": {
    "collapsed": true
   },
   "outputs": [],
   "source": [
    "#Coursedele-02 Step2 QuestionNumber5 c75c4f1599b27b27d35326aadeb158ff\n",
    "def XOR(x):\n",
    "    ###############START CODE HERE###############\n",
    "    #隠れ層のAND\n",
    "    y1 = AND(x)\n",
    "    #隠れ層のNOT\n",
    "    y2 = NOT(y1.reshape(4,1))\n",
    "    #隠れ層のOR\n",
    "    y3 = OR(x).T\n",
    "    #出力層への入力データはy2とy3を結合する必要があります。np.c_を使うことができます。\n",
    "    y4 = np.c_[y2,y3] \n",
    "    #出力層:and\n",
    "    y5 = AND(y4)\n",
    "    ################END CODE HERE################\n",
    "    return y5"
   ]
  },
  {
   "cell_type": "markdown",
   "metadata": {},
   "source": [
    "** ファイルを保存後 **、次のセルを実行（Shift+Enter）で採点を行います。"
   ]
  },
  {
   "cell_type": "code",
   "execution_count": 112,
   "metadata": {
    "collapsed": false
   },
   "outputs": [
    {
     "name": "stdout",
     "output_type": "stream",
     "text": [
      "ExcessiveAccess: Wait for 10 minutes\n",
      "\n"
     ]
    }
   ],
   "source": [
    "%%bash\n",
    "./validation_client.py dele-02 2 5 Step2_01.ipynb api.internal.zero2one.jp"
   ]
  },
  {
   "cell_type": "code",
   "execution_count": 113,
   "metadata": {
    "collapsed": false
   },
   "outputs": [
    {
     "data": {
      "text/plain": [
       "array([0, 1, 1, 0])"
      ]
     },
     "execution_count": 113,
     "metadata": {},
     "output_type": "execute_result"
    }
   ],
   "source": [
    "X = np.array([[0, 0], [0, 1], [1, 0], [1, 1]])\n",
    "XOR(X)"
   ]
  },
  {
   "cell_type": "markdown",
   "metadata": {},
   "source": [
    "**Expected Output**: \n",
    "<table style = \"width:40%\">\n",
    "    <tr>\n",
    "    <td>** XOR **</td> \n",
    "        <td>([0, 1, 1, 0])</td> \n",
    "    </tr>\n",
    "\n",
    "</table>"
   ]
  },
  {
   "cell_type": "markdown",
   "metadata": {},
   "source": [
    "** おつかれさまでした。 **\n",
    "\n",
    "無事XORの出力である (0, 1, 1, 0) を得ることができました。\n",
    "\n",
    "ニューラルネットワークを実装する一歩手前である論理回路を組み合わせて、非線形分類の実装を行いました。"
   ]
  },
  {
   "cell_type": "markdown",
   "metadata": {},
   "source": [
    "---"
   ]
  },
  {
   "cell_type": "markdown",
   "metadata": {},
   "source": [
    "# XORをニューラルネットワークのモデルで実装"
   ]
  },
  {
   "cell_type": "markdown",
   "metadata": {},
   "source": [
    "これまで論理回路を組み合わせて人為的に決めた重み $w$ とバイアス $b$ を使って実装を行ってきましたが、\n",
    "\n",
    "「XORをニューラルネットワークのモデルで実装」では、実際にニューラルネットワークのモデルを組み、学習を通して重み $w$ とバイアス $b$ の値を求めます。\n",
    "\n",
    "本格的なニューラルネットワークの実装を行います。"
   ]
  },
  {
   "cell_type": "markdown",
   "metadata": {},
   "source": [
    "## ニューラルネットワークのモデルを定義"
   ]
  },
  {
   "cell_type": "markdown",
   "metadata": {},
   "source": [
    "ニューラルネットワークのモデルは次の通りにします。\n",
    "\n",
    "- 入力層のユニット数 ２個\n",
    "- 隠れ層のユニット数 ４個\n",
    "- 出力層のユニット数 １個\n",
    "\n",
    "出力が１個の二項分類問題です。"
   ]
  },
  {
   "cell_type": "markdown",
   "metadata": {},
   "source": [
    "<div align=\"center\"  style=\"width:100%\">\n",
    "<img src=\"./img/step2_xor_binary_01.png\"></div>"
   ]
  },
  {
   "cell_type": "markdown",
   "metadata": {},
   "source": [
    "<table style=\"width:30%\">\n",
    "\n",
    "\t<thead>\n",
    "\t<tr>\n",
    "\t\t<th >入力$X_1$</th>\n",
    "\t\t<th >入力$X_2$</th>\n",
    "\t\t<th >出力$y$</th>\n",
    "\t</tr>\n",
    "\t</thead>\n",
    "\n",
    "  <tr>\n",
    "    <td>0</td>\n",
    "    <td> 0 </td> \n",
    "    <td> 0</td> \n",
    "  </tr>\n",
    "  \n",
    "    <tr>\n",
    "    <td>0</td>\n",
    "    <td> 1 </td> \n",
    "    <td> 1 </td> \n",
    "  </tr>\n",
    "  \n",
    "    <tr>\n",
    "    <td>1</td>\n",
    "    <td> 0 </td> \n",
    "    <td> 1 </td> \n",
    "  </tr>\n",
    " \n",
    "     <tr>\n",
    "    <td>1</td>\n",
    "    <td> 1 </td> \n",
    "    <td> 0 </td> \n",
    "  </tr>\n",
    "  \n",
    "</table>"
   ]
  },
  {
   "cell_type": "markdown",
   "metadata": {},
   "source": [
    "ここでは下記の条件で、ニューラルネットワークのモデルを構築します：\n",
    "\n",
    "- 入力層のニューロン数 2個\n",
    "- 隠れ層のニューロン数 4個\n",
    "- 出力層のニューロン数 1個"
   ]
  },
  {
   "cell_type": "code",
   "execution_count": 114,
   "metadata": {
    "collapsed": true
   },
   "outputs": [],
   "source": [
    "#ニューラルネットワークのモデル\n",
    "input_size = 2\n",
    "hidden_size = 4\n",
    "output_size = 1"
   ]
  },
  {
   "cell_type": "code",
   "execution_count": 115,
   "metadata": {
    "collapsed": false
   },
   "outputs": [
    {
     "name": "stdout",
     "output_type": "stream",
     "text": [
      "入力層のユニット数：2\n",
      "隠れ層のユニット数：4\n",
      "出力層のユニット数：1\n"
     ]
    }
   ],
   "source": [
    "print(\"入力層のユニット数：{}\".format(input_size))\n",
    "print(\"隠れ層のユニット数：{}\".format(hidden_size))\n",
    "print(\"出力層のユニット数：{}\".format(output_size))"
   ]
  },
  {
   "cell_type": "markdown",
   "metadata": {},
   "source": [
    "## データセットの準備"
   ]
  },
  {
   "cell_type": "markdown",
   "metadata": {},
   "source": [
    "まずはじめにXORの入力データ $X$ と出力 $y$ の配列データを用意します。\n",
    "\n",
    "入力 $X=(0, 0)(0, 1)(1, 0)(1, 1)$ のshapeは（4, 2）、正解ラベル $y = (0)(1)(1)(0)$ のshapeは(4, 1)です。"
   ]
  },
  {
   "cell_type": "code",
   "execution_count": 116,
   "metadata": {
    "collapsed": true
   },
   "outputs": [],
   "source": [
    "X = np.array([[0, 0], [0, 1], [1, 0], [1, 1]])\n",
    "y = np.array([ [0], [1], [1], [0]])"
   ]
  },
  {
   "cell_type": "code",
   "execution_count": 117,
   "metadata": {
    "collapsed": false
   },
   "outputs": [
    {
     "name": "stdout",
     "output_type": "stream",
     "text": [
      "[[0 0]\n",
      " [0 1]\n",
      " [1 0]\n",
      " [1 1]]\n",
      "[[0]\n",
      " [1]\n",
      " [1]\n",
      " [0]]\n"
     ]
    }
   ],
   "source": [
    "print(X)\n",
    "print(y)"
   ]
  },
  {
   "cell_type": "markdown",
   "metadata": {},
   "source": [
    "**Expected Output** .\n",
    "\n",
    "<table style=\"width:40%\">\n",
    "  <tr>\n",
    "    <td>X</td>\n",
    "    <td>[[0 0]\n",
    " [0 1]\n",
    " [1 0]\n",
    " [1 1]]</td> \n",
    "  </tr>\n",
    "  \n",
    "    <tr>\n",
    "    <td>y</td>\n",
    "    <td>[[0]\n",
    " [1]\n",
    " [1]\n",
    " [0]]</td> \n",
    "  </tr>\n",
    "\n",
    "</table>"
   ]
  },
  {
   "cell_type": "code",
   "execution_count": 118,
   "metadata": {
    "collapsed": false
   },
   "outputs": [
    {
     "name": "stdout",
     "output_type": "stream",
     "text": [
      "入力データ X の shape:(4, 2)\n",
      "正解ラベル y の shape:(4, 1)\n"
     ]
    }
   ],
   "source": [
    "print ('入力データ X の shape:' + str(X.shape))\n",
    "print ('正解ラベル y の shape:' + str(y.shape))"
   ]
  },
  {
   "cell_type": "markdown",
   "metadata": {},
   "source": [
    "**Expected Output** .\n",
    "\n",
    "<table style=\"width:40%\">\n",
    "  <tr>\n",
    "    <td>入力データ X </td>\n",
    "    <td>(4, 2)</td> \n",
    "</tr>\n",
    "  \n",
    "    <tr>\n",
    "    <td>正解ラベル y</td>\n",
    "    <td>(4, 1)</td> \n",
    "</tr>\n",
    "  \n",
    "</table>"
   ]
  },
  {
   "cell_type": "markdown",
   "metadata": {},
   "source": [
    "$m$ に訓練データの数を格納しておきます。今回は4個のデータセットになります。"
   ]
  },
  {
   "cell_type": "code",
   "execution_count": 119,
   "metadata": {
    "collapsed": true
   },
   "outputs": [],
   "source": [
    "m = X.shape[0] #訓練データ数をmに格納"
   ]
  },
  {
   "cell_type": "markdown",
   "metadata": {},
   "source": [
    "## 活性化関数"
   ]
  },
  {
   "cell_type": "markdown",
   "metadata": {},
   "source": [
    "活性化関数を準備します。今回は、シグモイド関数を利用します。\n",
    "\n",
    "**【課題６】** シグモイド関数 sigmoid(x) を実装してください。戻り値はシグモイド関数の出力とします。\n",
    "\n",
    "シグモイド関数：\n",
    "\n",
    "$$\\sigma{(x)}=\\frac{1}{1+e^{-x}}$$"
   ]
  },
  {
   "cell_type": "code",
   "execution_count": 120,
   "metadata": {
    "collapsed": true
   },
   "outputs": [],
   "source": [
    "#Coursedele-02 Step2 QuestionNumber6 3f932296803922d60068e619f3055e9c\n",
    "def sigmoid(x):\n",
    "    ###############START CODE HERE###############\n",
    "    y =1/(1 + np.exp(-x))\n",
    "    ################END CODE HERE################\n",
    "    return y"
   ]
  },
  {
   "cell_type": "markdown",
   "metadata": {},
   "source": [
    "** ファイルを保存後 **、次のセルを実行（Shift+Enter）で採点を行います。"
   ]
  },
  {
   "cell_type": "code",
   "execution_count": 121,
   "metadata": {
    "collapsed": false
   },
   "outputs": [
    {
     "name": "stdout",
     "output_type": "stream",
     "text": [
      "ExcessiveAccess: Wait for 10 minutes\n",
      "\n"
     ]
    }
   ],
   "source": [
    "%%bash\n",
    "./validation_client.py dele-02 2 6 Step2_01.ipynb api.internal.zero2one.jp"
   ]
  },
  {
   "cell_type": "code",
   "execution_count": 122,
   "metadata": {
    "collapsed": false
   },
   "outputs": [
    {
     "data": {
      "text/plain": [
       "0.5"
      ]
     },
     "execution_count": 122,
     "metadata": {},
     "output_type": "execute_result"
    }
   ],
   "source": [
    "sigmoid(0)"
   ]
  },
  {
   "cell_type": "markdown",
   "metadata": {},
   "source": [
    "**Expected Output**: \n",
    "<table style = \"width:40%\">\n",
    "    <tr>\n",
    "    <td>** sigmoid(0) **</td> \n",
    "        <td>0.5</td> \n",
    "    </tr>\n",
    "\n",
    "</table>"
   ]
  },
  {
   "cell_type": "markdown",
   "metadata": {},
   "source": [
    "** 【課題７】 **シグモイド関数の微分 sigmoid_derivative(x) を実装してください。戻り値はシグモイド関数の微分の出力とします。\n",
    "\n",
    "シグモイド関数の微分：\n",
    "\n",
    "$$\\sigma'{(x)}=\\sigma{(x)}(1-\\sigma{(x)})$$"
   ]
  },
  {
   "cell_type": "code",
   "execution_count": 123,
   "metadata": {
    "collapsed": true
   },
   "outputs": [],
   "source": [
    "#Coursedele-02 Step2 QuestionNumber7 7bbb13280bb8d9466f82808ef5bd3288\n",
    "def sigmoid_derivative(x):\n",
    "    ###############START CODE HERE###############\n",
    "    y = sigmoid(x)*(1 - sigmoid(x))\n",
    "    ################END CODE HERE################\n",
    "    return y"
   ]
  },
  {
   "cell_type": "markdown",
   "metadata": {},
   "source": [
    "** ファイルを保存後 **、次のセルを実行（Shift+Enter）で採点を行います。"
   ]
  },
  {
   "cell_type": "code",
   "execution_count": 124,
   "metadata": {
    "collapsed": false
   },
   "outputs": [
    {
     "name": "stdout",
     "output_type": "stream",
     "text": [
      "ExcessiveAccess: Wait for 10 minutes\n",
      "\n"
     ]
    }
   ],
   "source": [
    "%%bash\n",
    "./validation_client.py dele-02 2 7 Step2_01.ipynb api.internal.zero2one.jp"
   ]
  },
  {
   "cell_type": "code",
   "execution_count": 125,
   "metadata": {
    "collapsed": false
   },
   "outputs": [
    {
     "data": {
      "text/plain": [
       "0.25"
      ]
     },
     "execution_count": 125,
     "metadata": {},
     "output_type": "execute_result"
    }
   ],
   "source": [
    "sigmoid_derivative(0)"
   ]
  },
  {
   "cell_type": "markdown",
   "metadata": {},
   "source": [
    "**Expected Output**: \n",
    "<table style = \"width:40%\">\n",
    "    <tr>\n",
    "    <td>** sigmoid_derivative(0) **</td> \n",
    "        <td>0.25 </td> \n",
    "    </tr>\n",
    "\n",
    "</table>"
   ]
  },
  {
   "cell_type": "markdown",
   "metadata": {},
   "source": [
    "## パラメータの初期化"
   ]
  },
  {
   "cell_type": "markdown",
   "metadata": {},
   "source": [
    "重み$w$とバイアス$b$をランダムに初期化します。\n",
    "\n",
    "パラメータの初期化には、一様分布を出力するNumPyの **np.random.uniform** を今回は使用します。"
   ]
  },
  {
   "cell_type": "markdown",
   "metadata": {},
   "source": [
    "**【課題８】** ランダムにパラメータを初期化する initialize_parameters(input_size, hidden_size, output_size) を実装してください。\n",
    "\n",
    "戻り値は重み$w_1,w_2$ バイアス$b_1,b_2$とします。\n",
    "\n",
    "**Note**\n",
    "- 重みwの初期化の方法\n",
    " - np.random.uniform(low=-1, high=1, size=(a, b))\n",
    " - NumPyのrandom.uniformを使います。lowとhighは出力する乱数の上限下限を決めます。aとbには数値を与え行列のshapeを決定します。\n",
    "- バイアスbの初期化の方法\n",
    " - np.zeros((a, b))\n",
    " - NumPyのnp.zerosを使います。aとbには数値を与え行列のshapeを決定します。\n",
    "\n",
    "本課題では、行列のshapeを \"input_size, hidden_size, output_size\" を使って決定します。"
   ]
  },
  {
   "cell_type": "code",
   "execution_count": 126,
   "metadata": {
    "collapsed": true
   },
   "outputs": [],
   "source": [
    "#Coursedele-02 Step2 QuestionNumber8 38ce71c74b3fba99df548fd080040711\n",
    "def initialize_parameters(input_size, hidden_size, output_size):\n",
    "    ###############START CODE HERE###############\n",
    "    W1 = np.random.uniform(low=-1,high=1,size=(input_size,hidden_size))\n",
    "    b1 = np.zeros((1,hidden_size))\n",
    "    W2 = np.random.uniform(low=-1,high=1,size=(hidden_size,output_size))\n",
    "    b2 = np.zeros((1,output_size))\n",
    "    ################END CODE HERE################\n",
    "    return W1, b1, W2, b2"
   ]
  },
  {
   "cell_type": "markdown",
   "metadata": {},
   "source": [
    "** ファイルを保存後 **、次のセルを実行（Shift+Enter）で採点を行います。"
   ]
  },
  {
   "cell_type": "code",
   "execution_count": 127,
   "metadata": {
    "collapsed": false
   },
   "outputs": [
    {
     "name": "stdout",
     "output_type": "stream",
     "text": [
      "ExcessiveAccess: Wait for 10 minutes\n",
      "\n"
     ]
    }
   ],
   "source": [
    "%%bash\n",
    "./validation_client.py dele-02 2 8 Step2_01.ipynb api.internal.zero2one.jp"
   ]
  },
  {
   "cell_type": "code",
   "execution_count": 128,
   "metadata": {
    "collapsed": false
   },
   "outputs": [],
   "source": [
    "W1, b1, W2, b2 = initialize_parameters(input_size, hidden_size, output_size)"
   ]
  },
  {
   "cell_type": "code",
   "execution_count": 129,
   "metadata": {
    "collapsed": false
   },
   "outputs": [
    {
     "name": "stdout",
     "output_type": "stream",
     "text": [
      "W1の初期値\n",
      " [[ 0.6475947  -0.85332798  0.55573023  0.69713096]\n",
      " [-0.76399483  0.14427787  0.09223539 -0.98959537]]\n",
      "b1の初期値\n",
      " [[0. 0. 0. 0.]]\n",
      "W2の初期値\n",
      " [[ 0.9142278 ]\n",
      " [ 0.20921491]\n",
      " [ 0.89081421]\n",
      " [-0.63463661]]\n",
      "b2の初期値\n",
      " [[0.]]\n"
     ]
    }
   ],
   "source": [
    "print(\"W1の初期値\\n\", W1)\n",
    "print(\"b1の初期値\\n\", b1)\n",
    "print(\"W2の初期値\\n\", W2)\n",
    "print(\"b2の初期値\\n\", b2)"
   ]
  },
  {
   "cell_type": "code",
   "execution_count": 130,
   "metadata": {
    "collapsed": false
   },
   "outputs": [
    {
     "name": "stdout",
     "output_type": "stream",
     "text": [
      "W1のshape：(2, 4)\n",
      "b1のshape：(1, 4)\n",
      "W2のshape：(4, 1)\n",
      "b2のshape：(1, 1)\n"
     ]
    }
   ],
   "source": [
    "print(\"W1のshape：\" + str(W1.shape))\n",
    "print(\"b1のshape：\" + str(b1.shape))\n",
    "print(\"W2のshape：\" + str(W2.shape))\n",
    "print(\"b2のshape：\" + str(b2.shape))"
   ]
  },
  {
   "cell_type": "markdown",
   "metadata": {},
   "source": [
    "<table style = \"width:15%\">\n",
    "    <tr>\n",
    "    <td>** W1 **</td> \n",
    "        <td>(2, 4) </td> \n",
    "    </tr>\n",
    "        <tr>\n",
    "    <td>** b1 **</td> \n",
    "        <td>(1, 4) </td> \n",
    "    </tr>\n",
    "    <tr>\n",
    "    <td>** W2 **</td> \n",
    "        <td>(4, 1) </td> \n",
    "    </tr>\n",
    "        <tr>\n",
    "    <td>** b2 **</td> \n",
    "        <td>(1, 1) </td> \n",
    "    </tr>\n",
    "\n",
    "</table>"
   ]
  },
  {
   "cell_type": "markdown",
   "metadata": {},
   "source": [
    "## フォワードプロパゲーション"
   ]
  },
  {
   "cell_type": "markdown",
   "metadata": {
    "collapsed": true
   },
   "source": [
    "学習手順1.順伝播、フォワードプロパゲーションの実装します。\n",
    "\n",
    "下に講義で扱ったニューラルネットワークの学習ステップのイメージ図を載せてあります。 \n",
    "\n",
    "<br>\n",
    "\n",
    "<div style=\"width:50%\"><img src=\"./img/nn_fp.png\"></div>"
   ]
  },
  {
   "cell_type": "markdown",
   "metadata": {},
   "source": [
    "**フォワード**:\n",
    "$$z^{(1)}=W^{(1)}x^{(1)}+b^{(1)}$$\n",
    "$$a^{(1)}=sigmoid(z^{(1)})$$\n",
    "$$z^{(2)}=W^{(1)}a^{(1)}+b^{(2)}$$\n",
    "$$a^{(2)}=sigmoid(z^{(2)})$$"
   ]
  },
  {
   "cell_type": "markdown",
   "metadata": {},
   "source": [
    "**【課題９】** 順伝播を行う関数 forward_propagation(X, W1,b1,W2, b2) を実装してください。戻り値は、 $z^{(1)},a^{(1)},z^{(2)},a^{(2)}$ とします。\n",
    "\n",
    "**Note:**\n",
    " - フォワードプロパゲーションの実装を行います。layer1_z, layer1_a, layer2_z, layer2_a にそれぞれ記述してください。\n",
    " - 上の数式とコードはそれぞれ対応関係にあります。$z^{(1)}$は、\"layer1_z\"と対応しています。$a^{(1)}$は、\"layer1_a\"です。以下同様です。\n",
    " - 活性化関数はシグモイド関数とします。\n",
    " "
   ]
  },
  {
   "cell_type": "code",
   "execution_count": 190,
   "metadata": {
    "collapsed": true
   },
   "outputs": [],
   "source": [
    "#Coursedele-02 Step2 QuestionNumber9 64e8ec516a7c0716114cf9bfa6272f98\n",
    "def forward_propagation(X, W1, b1, W2, b2):\n",
    "    ###############START CODE HERE###############\n",
    "    layer1_z = np.dot(X,W1) + b1\n",
    "    layer1_a = sigmoid(layer1_z)\n",
    "    layer2_z = np.dot(layer1_a,W2) + b2\n",
    "    layer2_a = sigmoid(layer2_z)\n",
    "    ################END CODE HERE################\n",
    "    return layer1_z, layer1_a, layer2_z, layer2_a"
   ]
  },
  {
   "cell_type": "markdown",
   "metadata": {},
   "source": [
    "** ファイルを保存後 **、次のセルを実行（Shift+Enter）で採点を行います。"
   ]
  },
  {
   "cell_type": "code",
   "execution_count": 191,
   "metadata": {
    "collapsed": false
   },
   "outputs": [
    {
     "name": "stdout",
     "output_type": "stream",
     "text": [
      "Congraturation!\n",
      "We give you 10 points out of 10 points.\n",
      "\n"
     ]
    }
   ],
   "source": [
    "%%bash\n",
    "./validation_client.py dele-02 2 9 Step2_01.ipynb api.internal.zero2one.jp"
   ]
  },
  {
   "cell_type": "code",
   "execution_count": 192,
   "metadata": {
    "collapsed": false
   },
   "outputs": [
    {
     "name": "stderr",
     "output_type": "stream",
     "text": [
      "/opt/conda/lib/python3.5/site-packages/ipykernel/__main__.py:4: RuntimeWarning: overflow encountered in exp\n"
     ]
    }
   ],
   "source": [
    "layer1_z, layer1_a, layer2_z, layer2_a = forward_propagation(X, W1, b1, W2, b2)"
   ]
  },
  {
   "cell_type": "code",
   "execution_count": 193,
   "metadata": {
    "collapsed": false
   },
   "outputs": [
    {
     "data": {
      "text/plain": [
       "(4, 4)"
      ]
     },
     "execution_count": 193,
     "metadata": {},
     "output_type": "execute_result"
    }
   ],
   "source": [
    "layer1_a.shape"
   ]
  },
  {
   "cell_type": "code",
   "execution_count": 135,
   "metadata": {
    "collapsed": false
   },
   "outputs": [
    {
     "name": "stdout",
     "output_type": "stream",
     "text": [
      "初期のパラメータのモデルの出力: \n",
      "[[0.66592469]\n",
      " [0.66743703]\n",
      " [0.69106206]\n",
      " [0.69278298]]\n"
     ]
    }
   ],
   "source": [
    "print(\"初期のパラメータのモデルの出力: \")\n",
    "print(layer2_a)"
   ]
  },
  {
   "cell_type": "markdown",
   "metadata": {},
   "source": [
    "モデルの学習を通してフォワードプロパゲーションの出力 layer2_a を正解ラベル $y$ になるべく近づけることが目標の一つとなります。"
   ]
  },
  {
   "cell_type": "markdown",
   "metadata": {},
   "source": [
    "## コスト関数"
   ]
  },
  {
   "cell_type": "markdown",
   "metadata": {},
   "source": [
    "手順2.コスト関数を実装します。\n",
    "\n",
    "<br>\n",
    "<div style=\"width:50%\">\n",
    "<img src=\"./img/nn_cost.png\"></div>"
   ]
  },
  {
   "cell_type": "markdown",
   "metadata": {},
   "source": [
    "**コスト関数**：\n",
    "$$C(w,b)=-\\frac{1}{m}\\sum_{n=1}^{m}\\{y_n{\\log}\\hat{y}_{n}+(1-y_{n}){\\log}(1-\\hat{y}_n)\\}$$"
   ]
  },
  {
   "cell_type": "markdown",
   "metadata": {},
   "source": [
    "**【課題１０】** 目的関数の値を計算する関数compute_cost(y, y_hat, m)を実装してください。戻り値は、コスト関数の出力とします。\n",
    "\n",
    "**Note:**\n",
    " - クロスエントロピー関数をコスト関数とします。\n",
    " - フォワードプロパーゲションの出力は、layer2_a です。$\\hat{y}$に対応します。\n",
    " - $y$ は正解ラベル\n",
    " - $\\hat{y}$ はモデルの出力\n",
    " - $m$ は訓練データ数"
   ]
  },
  {
   "cell_type": "code",
   "execution_count": 136,
   "metadata": {
    "collapsed": false
   },
   "outputs": [],
   "source": [
    "#Coursedele-02 Step2 QuestionNumber10 8003a7289756706da9ad6b4b8a3783b4\n",
    "def compute_cost(y, y_hat, m):\n",
    "    ###############START CODE HERE###############\n",
    "    cost = -(1/m)*np.sum(y*np.log(y_hat) + (1-y)*np.log(1-y_hat))\n",
    "    ################END CODE HERE################\n",
    "    return cost"
   ]
  },
  {
   "cell_type": "markdown",
   "metadata": {},
   "source": [
    "** ファイルを保存後 **、次のセルを実行（Shift+Enter）で採点を行います。"
   ]
  },
  {
   "cell_type": "code",
   "execution_count": 137,
   "metadata": {
    "collapsed": false
   },
   "outputs": [
    {
     "name": "stdout",
     "output_type": "stream",
     "text": [
      "ExcessiveAccess: Wait for 10 minutes\n",
      "\n"
     ]
    }
   ],
   "source": [
    "%%bash\n",
    "./validation_client.py dele-02 2 10 Step2_01.ipynb api.internal.zero2one.jp"
   ]
  },
  {
   "cell_type": "code",
   "execution_count": 138,
   "metadata": {
    "collapsed": true
   },
   "outputs": [],
   "source": [
    "cost = compute_cost(y, layer2_a, m)"
   ]
  },
  {
   "cell_type": "code",
   "execution_count": 139,
   "metadata": {
    "collapsed": false
   },
   "outputs": [
    {
     "name": "stdout",
     "output_type": "stream",
     "text": [
      "(4, 1)\n",
      "(4, 1)\n"
     ]
    }
   ],
   "source": [
    "print(y.shape)\n",
    "print(layer2_a.shape)"
   ]
  },
  {
   "cell_type": "code",
   "execution_count": 140,
   "metadata": {
    "collapsed": false
   },
   "outputs": [
    {
     "name": "stdout",
     "output_type": "stream",
     "text": [
      "初期のパラメータのモデルのコスト:  0.7626063991788805\n"
     ]
    }
   ],
   "source": [
    "print(\"初期のパラメータのモデルのコスト: \", cost)"
   ]
  },
  {
   "cell_type": "markdown",
   "metadata": {},
   "source": [
    "コスト関数の出力をなるべく$０$ 極小値（最小値）に近づくようにモデルの学習を進めることが一つの目標になります。"
   ]
  },
  {
   "cell_type": "markdown",
   "metadata": {},
   "source": [
    "## バックプロパゲーションの実装"
   ]
  },
  {
   "cell_type": "markdown",
   "metadata": {},
   "source": [
    "手順3.逆伝播 では、目的関数のパラメータについての勾配を求めます。\n",
    "\n",
    "ニューラルネットワークにおける一番重要な実装部分になります。\n",
    "\n",
    "<br>\n",
    "\n",
    "<div style=\"width:50%\">\n",
    "<img src=\"./img/nn_bp.png\"></div>"
   ]
  },
  {
   "cell_type": "markdown",
   "metadata": {},
   "source": [
    "**バックプロパゲーション**:\n",
    "<br>\n",
    "<br>\n",
    "<div style=\"width:70%\">\n",
    "<img src=\"./img/step2_NN_fp_bp.png\"></div>\n",
    "\n",
    "※このイメージは、コスト関数にクロスエントロピー関数、出力層にシグモイド関数を用いた例です。"
   ]
  },
  {
   "cell_type": "markdown",
   "metadata": {},
   "source": [
    "**【課題１１】** 逆伝播を行う関数 back_propagation(X, Y, W2, layer1_z, layer1_a, layer2_z, layer2_a) を実装してください。\n",
    "\n",
    "戻り値は、目的関数のパラメータに関する勾配 $\\Delta{w^{(1)}}, \\Delta{b^{(1)}}, \\Delta{w^{(2)}}, \\Delta{b^{(2)}}$ とします。\n",
    "\n",
    "**Note1:**\n",
    " - 上の数式を参考にバックプロパゲーションの実装を行います。\n",
    " - バックプロパゲーションはディープラーニングで一番大変な部分ですが、ここ乗り越えることは非常に重要な意味を持ちますので頑張りましょう。\n",
    " - 行列演算に注意し、np.dot()や転置行列を意味する\".T\"を使用することでうまく実装します。\n",
    " \n",
    "**Note2 関数 back_propagation の引数:**\n",
    " \n",
    " * X：入力データ\n",
    " * y：正解ラベル\n",
    " * W2：隠れ層と出力層の間の重み\n",
    " * layer1_z：レイヤー1の線形結合$z_1$\n",
    " * layer1_a：レイヤー1の活性化後の値$a_1$\n",
    " * layer2_z：レイヤー2の線形結合$z_2$\n",
    " * layer2_a：レイヤー2の出力の値$a_2$\n",
    " * sigmoid_derivative()：シグモイド関数の微分"
   ]
  },
  {
   "cell_type": "code",
   "execution_count": 194,
   "metadata": {
    "collapsed": true
   },
   "outputs": [],
   "source": [
    "#Coursedele-02 Step2 QuestionNumber11 217e824174825940b69ecfed73e2284c\n",
    "def back_propagation(X, y, W2, layer1_z, layer1_a, layer2_z, layer2_a):\n",
    "    m = X.shape[0]\n",
    "    ###############START CODE HERE###############\n",
    "    derivative_layer2_z = (layer2_a - y) / m\n",
    "    delta_W2 = np.dot(layer1_a.T,derivative_layer2_z)\n",
    "    delta_b2 = np.sum(derivative_layer2_z,axis=0,keepdims=True)\n",
    "    \n",
    "    derivative_layer1_z = np.dot(derivative_layer2_z,W2.T) * sigmoid_derivative(layer1_z)\n",
    "    delta_W1 = np.dot(X.T,derivative_layer1_z)\n",
    "    delta_b1 = np.sum(derivative_layer1_z,axis=0,keepdims=True)\n",
    "    ################END CODE HERE################\n",
    "    return delta_W2, delta_b2, delta_W1, delta_b1"
   ]
  },
  {
   "cell_type": "markdown",
   "metadata": {},
   "source": [
    "** ファイルを保存後 **、次のセルを実行（Shift+Enter）で採点を行います。"
   ]
  },
  {
   "cell_type": "code",
   "execution_count": 195,
   "metadata": {
    "collapsed": false
   },
   "outputs": [
    {
     "name": "stdout",
     "output_type": "stream",
     "text": [
      "Congraturation!\n",
      "We give you 10 points out of 10 points.\n",
      "\n"
     ]
    }
   ],
   "source": [
    "%%bash\n",
    "./validation_client.py dele-02 2 11 Step2_01.ipynb api.internal.zero2one.jp"
   ]
  },
  {
   "cell_type": "code",
   "execution_count": 196,
   "metadata": {
    "collapsed": false
   },
   "outputs": [
    {
     "name": "stdout",
     "output_type": "stream",
     "text": [
      "(4, 4)\n",
      "(4, 1)\n",
      "(4, 1)\n",
      "(1, 1)\n"
     ]
    }
   ],
   "source": [
    "# derivative_layer2_z = (1/m)*(layer2_a - y)\n",
    "# delta_W2 = (1/m)*(layer2_a - y)*layer1_a\n",
    "# delta_b2 = (1/m)*(layer2_a - y)\n",
    "# print(y.shape)\n",
    "# print(layer2_a.shape)\n",
    "print(layer1_a.shape)\n",
    "\n",
    "print(derivative_layer2_z.shape)\n",
    "print(delta_W2.shape)\n",
    "print(delta_b2.shape)"
   ]
  },
  {
   "cell_type": "code",
   "execution_count": 197,
   "metadata": {
    "collapsed": false
   },
   "outputs": [
    {
     "name": "stdout",
     "output_type": "stream",
     "text": [
      "(4, 4)\n",
      "(2, 4)\n",
      "(1, 4)\n"
     ]
    }
   ],
   "source": [
    "# derivative_layer1_z = (1/m)*(layer2_a - y)*W2*layer1_a*(1-layer1_a)\n",
    "# delta_W1 = (1/m)*np.dot(X.T,(layer2_a - y)*W2*layer1_a*(1-layer1_a))\n",
    "# delta_b1 = (1/m)*(layer2_a - y)*W2*layer1_a*(1-layer1_a)\n",
    "print(derivative_layer1_z.shape)\n",
    "print(delta_W1.shape)\n",
    "print(delta_b1.shape)"
   ]
  },
  {
   "cell_type": "code",
   "execution_count": 198,
   "metadata": {
    "collapsed": false
   },
   "outputs": [
    {
     "data": {
      "text/plain": [
       "array([[2.69717792e-03, 1.34813989e-03, 3.35417377e-03, 2.39175703e-13],\n",
       "       [2.39171680e-13, 1.34825390e-03, 3.35432235e-03, 2.69770296e-03]])"
      ]
     },
     "execution_count": 198,
     "metadata": {},
     "output_type": "execute_result"
    }
   ],
   "source": [
    "delta_W2, delta_b2, delta_W1, delta_b1 = back_propagation(X, y, W2, layer1_z, layer1_a, layer2_z, layer2_a)\n",
    "delta_W1"
   ]
  },
  {
   "cell_type": "markdown",
   "metadata": {},
   "source": [
    "## パラメータの更新"
   ]
  },
  {
   "cell_type": "markdown",
   "metadata": {},
   "source": [
    "最後に手順4.パラメータの更新です。\n",
    "\n",
    "<div style=\"width:50%\">\n",
    "<img src=\"./img/nn_update.png\"></div>"
   ]
  },
  {
   "cell_type": "markdown",
   "metadata": {},
   "source": [
    "*パラメータの更新式：*\n",
    "$$w=w-\\alpha\\Delta{w}$$\n",
    "$$b=b-\\alpha\\Delta{b}$$"
   ]
  },
  {
   "cell_type": "markdown",
   "metadata": {},
   "source": [
    "**【課題１２】** パラメータの更新を行う update_parameters(W1, b1, W2, b2, delta_W1, delta_b1, delta_W2, delta_b2, learning_rate) を実装してください。\n",
    "\n",
    "戻り値は、パラメータ $W^{(1)}, b^{(1)}, W^{(2)}, b^{(2)}$ とします。\n",
    "\n",
    "**Note:**\n",
    " - バックプロパゲーションで計算した勾配（delta_W1, delta_b1, delta_W2, delta_b2）を用いてパラメータの更新を行います。\n",
    " - $\\alpha$は学習率（learning_rate）です。"
   ]
  },
  {
   "cell_type": "code",
   "execution_count": 199,
   "metadata": {
    "collapsed": false
   },
   "outputs": [],
   "source": [
    "#Coursedele-02 Step2 QuestionNumber12 9d931b999b2b25254831ca5825979156\n",
    "def update_parameters(W1, b1, W2, b2, delta_W1, delta_b1, delta_W2, delta_b2, learning_rate):\n",
    "    ###############START CODE HERE###############\n",
    "    W1 = W1 - learning_rate * delta_W1\n",
    "    b1 = b1 - learning_rate * delta_b1  \n",
    "    W2 = W2 - learning_rate * delta_W2\n",
    "    b2 = b2 - learning_rate * delta_b2\n",
    "    ################END CODE HERE################\n",
    "    return W1, b1, W2, b2"
   ]
  },
  {
   "cell_type": "markdown",
   "metadata": {},
   "source": [
    "** ファイルを保存後 **、次のセルを実行（Shift+Enter）で採点を行います。"
   ]
  },
  {
   "cell_type": "code",
   "execution_count": 200,
   "metadata": {
    "collapsed": false
   },
   "outputs": [
    {
     "name": "stdout",
     "output_type": "stream",
     "text": [
      "Congraturation!\n",
      "We give you 10 points out of 10 points.\n",
      "\n"
     ]
    }
   ],
   "source": [
    "%%bash\n",
    "./validation_client.py dele-02 2 12 Step2_01.ipynb api.internal.zero2one.jp"
   ]
  },
  {
   "cell_type": "code",
   "execution_count": 201,
   "metadata": {
    "collapsed": false
   },
   "outputs": [],
   "source": [
    "W1, b1, W2, b2 = update_parameters(W1, b1, W2, b2, delta_W1, delta_b1, delta_W2, delta_b2, learning_rate = 0.1)"
   ]
  },
  {
   "cell_type": "markdown",
   "metadata": {
    "collapsed": true
   },
   "source": [
    "## ニューラルネットワークを構築"
   ]
  },
  {
   "cell_type": "markdown",
   "metadata": {},
   "source": [
    "最後にニューラルネットワークのモデルを構築します。\n",
    "\n",
    "これまで学習してきたコードを参考に、それぞれ\"None\"となっている部分に書き込みましょう。\n",
    "\n",
    "これまでのすべての演習に合格していれば、今回構築したネットワークをうまく学習が進み、XORの出力を学習を通して求めることができます。"
   ]
  },
  {
   "cell_type": "markdown",
   "metadata": {},
   "source": [
    "**【課題１３】** ニューラルネットワークのモデル XOR_model(W1,b1,W2,b2) を構築してください。\n",
    "\n",
    "関数XOR_modelの引数は、$W^{(1)}, b^{(1)}, W^{(2)}, b^{(2)}$ とします。\n",
    "\n",
    "戻り値は、順伝播の出力 layer2_a と $パラメータ W^{(1)}, b^{(1)}, W^{(2)}, b^{(2)}$  とします。"
   ]
  },
  {
   "cell_type": "code",
   "execution_count": 208,
   "metadata": {
    "collapsed": true
   },
   "outputs": [],
   "source": [
    "#Coursedele-02 Step2 QuestionNumber13 e861026c1c2d535dd8d480833520f3eb\n",
    "def XOR_model(W1, b1, W2, b2):\n",
    "    # データセットの準備\n",
    "    # XOR\n",
    "    X = np.array([[0,0], [0,1], [1,0], [1,1]])\n",
    "    y = np.array([[0], [1], [1], [0]])\n",
    "    m = X.shape[0]\n",
    "\n",
    "    # 学習率\n",
    "    learning_rate = 0.2  # 固定\n",
    "    # エポック \n",
    "    epochs =  30000   # 固定\n",
    "    \n",
    "    ###############START CODE HERE###############\n",
    "    for _ in range(epochs):\n",
    "\n",
    "        # フォワードプロパゲーション\n",
    "        # Layer1\n",
    "\n",
    "        layer1_z = np.dot(X,W1) + b1\n",
    "        layer1_a = sigmoid(layer1_z)\n",
    "\n",
    "        #Layer2\n",
    "        layer2_z = np.dot(layer1_a,W2) + b2\n",
    "        layer2_a = sigmoid(layer2_z)\n",
    "        \n",
    "        # コスト関数\n",
    "        cost.append(- np.sum(y * np.log(layer2_a) + (1-y) * np.log(1 - layer2_a)) / m )\n",
    "        \n",
    "        # バックプロパゲーション\n",
    "        derivative_layer2_z = (layer2_a - y) / m\n",
    "        delta_W2 = np.dot(layer1_a.T,derivative_layer2_z)\n",
    "        delta_b2 = np.sum(derivative_layer2_z,axis=0,keepdims=True)\n",
    "\n",
    "        derivative_layer1_z = np.dot(derivative_layer2_z,W2.T) * sigmoid_derivative(layer1_z)\n",
    "        delta_W1 = np.dot(X.T,derivative_layer1_z)\n",
    "        delta_b1 = np.sum(derivative_layer1_z,axis=0,keepdims=True)\n",
    "        # パラメータの更新\n",
    "        W1 = W1 - learning_rate * delta_W1\n",
    "        b1 = b1 - learning_rate * delta_b1  \n",
    "        W2 = W2 - learning_rate * delta_W2\n",
    "        b2 = b2 - learning_rate * delta_b2\n",
    "    ################END CODE HERE################\n",
    "    return layer2_a, W1, b1, W2, b2"
   ]
  },
  {
   "cell_type": "markdown",
   "metadata": {},
   "source": [
    "下のセルを実行すると関数XOR_model(W1, b1, W2, b2)に学習前のパラメータを渡し、学習が始まります。\n",
    "\n",
    "※学習が終わるまでに数秒かかります。"
   ]
  },
  {
   "cell_type": "code",
   "execution_count": 209,
   "metadata": {
    "collapsed": false
   },
   "outputs": [
    {
     "data": {
      "image/png": "[encoded data removed]",
      "text/plain": [
       "<matplotlib.figure.Figure at 0x7f946cc27828>"
      ]
     },
     "metadata": {},
     "output_type": "display_data"
    }
   ],
   "source": [
    "W1, b1, W2, b2 = initialize_parameters(input_size, hidden_size, output_size) #パラメータを初期化\n",
    "cost = [] #目的関数の出力の値を保持する配列\n",
    "layer2_a, W1, b1, W2, b2 = XOR_model(W1, b1, W2, b2)\n",
    "plt.plot(cost) #コスト関数の出力結果をプロット\n",
    "plt.ylabel(\"cost\")\n",
    "plt.xlabel(\"epochs\")\n",
    "plt.show()"
   ]
  },
  {
   "cell_type": "markdown",
   "metadata": {},
   "source": [
    "コスト関数の出力がうまく下がりきっていなければもう一度学習をおこなってください"
   ]
  },
  {
   "cell_type": "markdown",
   "metadata": {},
   "source": [
    "**学習後のパラメータを採点のために保存**します。下のセルをそのまま実行してください。\n",
    "\n",
    "課題の正誤判定は学習後のパラメータを使って、出力が正解ラベルの値に近づいているかで判定します。"
   ]
  },
  {
   "cell_type": "code",
   "execution_count": 210,
   "metadata": {
    "collapsed": true
   },
   "outputs": [],
   "source": [
    "#パラメータを保存\n",
    "import h5py\n",
    "with h5py.File('./learned_parameter/xor_parameter_learned.h5', 'w') as f:\n",
    "    f.create_dataset('W1', data=W1)\n",
    "    f.create_dataset('b1', data=b1)\n",
    "    f.create_dataset('W2', data=W2)\n",
    "    f.create_dataset('b2', data=b2)"
   ]
  },
  {
   "cell_type": "markdown",
   "metadata": {},
   "source": [
    "** ファイルを保存後 **、次のセルを実行（Shift+Enter）で採点を行います。"
   ]
  },
  {
   "cell_type": "code",
   "execution_count": 211,
   "metadata": {
    "collapsed": false
   },
   "outputs": [
    {
     "name": "stdout",
     "output_type": "stream",
     "text": [
      "Congraturation!\n",
      "We give you 10 points out of 10 points.\n",
      "\n"
     ]
    }
   ],
   "source": [
    "%%bash\n",
    "./validation_client.py dele-02 2 13 Step2_01.ipynb api.internal.zero2one.jp"
   ]
  },
  {
   "cell_type": "code",
   "execution_count": 212,
   "metadata": {
    "collapsed": false
   },
   "outputs": [
    {
     "name": "stdout",
     "output_type": "stream",
     "text": [
      "XORモデルの学習後の出力\n",
      "[[4.99773539e-04]\n",
      " [9.98884640e-01]\n",
      " [9.98999775e-01]\n",
      " [1.55453496e-03]]\n"
     ]
    }
   ],
   "source": [
    "print(\"XORモデルの学習後の出力\")\n",
    "print(layer2_a)"
   ]
  },
  {
   "cell_type": "code",
   "execution_count": 213,
   "metadata": {
    "collapsed": false
   },
   "outputs": [
    {
     "name": "stdout",
     "output_type": "stream",
     "text": [
      "[[0]\n",
      " [1]\n",
      " [1]\n",
      " [0]]\n"
     ]
    }
   ],
   "source": [
    "#出力結果が見づらい場合があるので0.5を基準に0, 1に分けてみる。\n",
    "output = np.where(layer2_a > 0.5, 1, 0)\n",
    "print(output)"
   ]
  },
  {
   "cell_type": "markdown",
   "metadata": {},
   "source": [
    "# 多クラス問題として解いてみる"
   ]
  },
  {
   "cell_type": "markdown",
   "metadata": {},
   "source": [
    "これまで取り組んだニューラルネットワークでは出力が１つの二項分類問題としてモデルを構築し、その結果が「0に近いか1に近いか」という確率の問題として解きました。\n",
    "\n",
    "同じ問題を出力を２つ（値を２つ）用意することで、多クラス問題として解くことができます。\n",
    "\n",
    "たとえば、正解が1の場合は[1, 0] という２つの数値を出力し、正解が0の場合は [0, 1]という２つの数値を出力するように学習すれば、先ほどの１つの出力だけで解いていた問題を解くことができるわけです。\n",
    "\n",
    "この考え方は２項分類問題を解くだけでなく、多クラス問題（複数のクラスを分類する問題）を解くときにも利用できます。\n",
    "\n",
    "一方、 出力を複数用意してしまうと、そのままでは出力を確率として考えることができません。\n",
    "\n",
    "シグモイド関数を使って出力を確率として扱えるようになったのと同様、少し工夫することで出力を確率とみなすことができるようになります。\n",
    "\n",
    "具体的にはsoftmax関数を利用します。softmaxは数式から分かるように簡単に計算できます。\n",
    "\n",
    "各出力値をexpの肩に乗せた値をすべて合計し、それを分母にします。\n",
    "\n",
    "特定の出力をexpの肩に乗せた値を分子にして分母で割ったものは、その出力が全体のどの程度の割合になっているのかということを表現しているので、これは確率として解釈できます。\n",
    "\n",
    "ニューラルネットワークの最終段でsoftmax関数を使うことにより、各出力を確率解釈できる値が入手できるわけです。"
   ]
  },
  {
   "cell_type": "markdown",
   "metadata": {},
   "source": [
    "** 【課題１４】 ** softmax関数の出力を返す関数 softmax(x) を実装してください。\n",
    "\n",
    "**Note:**\n",
    "softmax関数の定義です。\n",
    "\n",
    "$${\\rm softmax}(x)_{i}=\\frac{e^{x_i}}{\\displaystyle\\sum_{j=1}^{n}e^{x_j}}　(i=1,2,\\ldots,n)$$"
   ]
  },
  {
   "cell_type": "code",
   "execution_count": 214,
   "metadata": {
    "collapsed": true
   },
   "outputs": [],
   "source": [
    "#Coursedele-02 Step2 QuestionNumber14 2b73d59ced6046b0535fcb3cb1aaac57\n",
    "def softmax(x):\n",
    "    ###############START CODE HERE###############\n",
    "    exp_x = np.exp(x)\n",
    "    y = exp_x / np.sum(exp_x,axis=1,keepdims=True)\n",
    "    ################END CODE HERE################\n",
    "    return y"
   ]
  },
  {
   "cell_type": "markdown",
   "metadata": {},
   "source": [
    "** ファイルを保存後 **、次のセルを実行（Shift+Enter）で採点を行います。"
   ]
  },
  {
   "cell_type": "code",
   "execution_count": 217,
   "metadata": {
    "collapsed": false
   },
   "outputs": [
    {
     "name": "stdout",
     "output_type": "stream",
     "text": [
      "Congraturation!\n",
      "We give you 10 points out of 10 points.\n",
      "\n"
     ]
    }
   ],
   "source": [
    "%%bash\n",
    "./validation_client.py dele-02 2 14 Step2_01.ipynb api.internal.zero2one.jp"
   ]
  },
  {
   "cell_type": "markdown",
   "metadata": {},
   "source": [
    "下のセルを実行し、ソフトマックス関数の出力の総和は「１」となることを確認しましょう。"
   ]
  },
  {
   "cell_type": "code",
   "execution_count": 218,
   "metadata": {
    "collapsed": false
   },
   "outputs": [
    {
     "name": "stdout",
     "output_type": "stream",
     "text": [
      "softmax:\n",
      " [[0.93623955 0.01714783 0.04661262]\n",
      " [0.09003057 0.24472847 0.66524096]]\n",
      "softmaxの出力をすべて合計:\n",
      " 2.0\n",
      "softmaxの出力を行方向ごとに合計 (axis=1):\n",
      " [1. 1.]\n"
     ]
    }
   ],
   "source": [
    "a = np.array([[6, 2, 3], [1, 2, 3]]) #サンプルデータ\n",
    "print('softmax:\\n', softmax(a))\n",
    "print('softmaxの出力をすべて合計:\\n', np.sum(softmax(a)))\n",
    "print('softmaxの出力を行方向ごとに合計 (axis=1):\\n', np.sum(softmax(a), axis=1))"
   ]
  },
  {
   "cell_type": "markdown",
   "metadata": {
    "collapsed": true
   },
   "source": [
    "**Expected Output**: <br>\n",
    "softmax:<br>\n",
    " [[0.93623955 0.01714783 0.04661262]<br>\n",
    " [0.09003057 0.24472847 0.66524096]]<br>\n",
    "softmaxの出力をすべて合計:<br>\n",
    " 2.0<br>\n",
    "softmaxの出力を行方向ごとに合計 (axis=1):<br>\n",
    " [1. 1.]"
   ]
  },
  {
   "cell_type": "markdown",
   "metadata": {},
   "source": [
    "**ソフトマックス関数 別解（テクニック）**\n",
    "\n",
    "指数関数は入力値が増えると、出力の増加率も大きいので、値によっては桁数が足りずにオーバーフローしてしまいます。\n",
    "\n",
    "そこで、 最大値を取得した上で、それを引くことでオーバーフローを回避することができます。"
   ]
  },
  {
   "cell_type": "code",
   "execution_count": 219,
   "metadata": {
    "collapsed": true
   },
   "outputs": [],
   "source": [
    "def softmax(x):\n",
    "    c = np.max(x)\n",
    "    exp_x = np.exp(x - c)\n",
    "    y = exp_x / np.sum(exp_x, axis=1, keepdims=True)\n",
    "    return y"
   ]
  },
  {
   "cell_type": "markdown",
   "metadata": {},
   "source": [
    "### 多クラスのニューラルネットワークのモデルを構築"
   ]
  },
  {
   "cell_type": "markdown",
   "metadata": {},
   "source": [
    "では、多クラスのニューラルネットワークのモデルを構築します。\n",
    "\n",
    "ニューラルネットワークのモデルは次の通りにします。\n",
    "\n",
    "- 入力層のユニット数 ２個\n",
    "- 隠れ層のユニット数 ４個\n",
    "- 出力層のユニット数 ２個\n",
    "\n",
    "出力が２個の多クラス（マルチクラス）分類問題です。"
   ]
  },
  {
   "cell_type": "markdown",
   "metadata": {},
   "source": [
    "<div align=\"center\"  style=\"width:100%\">\n",
    "<img src=\"./img/step2_xor_mulch_01.png\"></div>\n",
    "\n",
    "<table style=\"width:30%\">\n",
    "\n",
    "\t<thead>\n",
    "\t<tr>\n",
    "\t\t<th >入力$X_1$</th>\n",
    "\t\t<th >入力$X_2$</th>\n",
    "\t\t<th >出力$y_1$</th>\n",
    "\t\t<th >出力$y_2$</th>\n",
    "\t</tr>\n",
    "\t</thead>\n",
    "\n",
    "  <tr>\n",
    "    <td>0</td>\n",
    "    <td> 0 </td> \n",
    "    <td> 0</td> \n",
    "    <td> 1</td> \n",
    "  </tr>\n",
    "  \n",
    "    <tr>\n",
    "    <td>0</td>\n",
    "    <td> 1 </td> \n",
    "    <td> 1 </td>\n",
    "    <td> 0</td> \n",
    "  </tr>\n",
    "  \n",
    "    <tr>\n",
    "    <td>1</td>\n",
    "    <td> 0 </td> \n",
    "    <td> 1 </td>\n",
    "    <td> 0</td> \n",
    "  </tr>\n",
    " \n",
    "     <tr>\n",
    "    <td>1</td>\n",
    "    <td> 1 </td> \n",
    "    <td> 0 </td> \n",
    "    <td> 1</td> \n",
    "    </tr>\n",
    "  \n",
    "</table>"
   ]
  },
  {
   "cell_type": "markdown",
   "metadata": {},
   "source": [
    "### ニューラルネットワークを構築\n",
    "\n",
    "下のセルには、 **課題１３**で実装したコードをそのまま記載しています。\n",
    "\n",
    "変わった点はニューラルネットワークの出力層にソフトマックス関数を使っている点です。"
   ]
  },
  {
   "cell_type": "code",
   "execution_count": 220,
   "metadata": {
    "collapsed": true
   },
   "outputs": [],
   "source": [
    "def XOR_model_mulch(W1, b1, W2, b2):\n",
    "    # データセットの準備\n",
    "    X = np.array([[0,0], [0,1], [1,0], [1,1]])\n",
    "    y = np.array([[0, 1], [1, 0], [1, 0], [0, 1]])\n",
    "    m = X.shape[0]\n",
    "\n",
    "    # 学習率\n",
    "    learning_rate = 0.2  #固定\n",
    "    # エポック \n",
    "    epochs =  30000   #固定\n",
    "    \n",
    "    for _ in range(epochs):\n",
    "\n",
    "        # フォワードプロパゲーション\n",
    "        # Layer1\n",
    "        layer1_z = np.dot(X, W1) + b1\n",
    "        layer1_a = sigmoid(layer1_z)\n",
    "\n",
    "        #Layer2\n",
    "        layer2_z = np.dot(layer1_a, W2) + b2\n",
    "        layer2_a = softmax(layer2_z)\n",
    "        \n",
    "        # コスト関数\n",
    "        cost.append(- np.sum(y * np.log(layer2_a) / m ))\n",
    "        \n",
    "        # バックプロパゲーション\n",
    "        derivative_layer2_z = (layer2_a - y) / m\n",
    "        delta_W2 = np.dot(layer1_a.T, derivative_layer2_z) \n",
    "        delta_b2 = np.sum(derivative_layer2_z, axis=0 ,keepdims=True)\n",
    "    \n",
    "        derivative_layer1_z = np.dot(derivative_layer2_z, W2.T) * sigmoid_derivative(layer1_z)\n",
    "        delta_W1 = np.dot(X.T, derivative_layer1_z) \n",
    "        delta_b1 = np.sum(derivative_layer1_z, axis=0 ,keepdims=True)\n",
    "    \n",
    "        # パラメータの更新\n",
    "        W2 = W2 - learning_rate * delta_W2\n",
    "        b2 = b2 - learning_rate * delta_b2\n",
    "        W1 = W1 - learning_rate * delta_W1\n",
    "        b1 = b1 - learning_rate * delta_b1\n",
    "        \n",
    "    return layer2_a, W1, b1, W2, b2"
   ]
  },
  {
   "cell_type": "markdown",
   "metadata": {},
   "source": [
    "下のセルを実行すると関数XOR_model_mulch(W1, b1, W2, b2)に学習前のパラメータを渡し、学習が始まります。\n",
    "\n",
    "※学習が終わるまでに数秒かかります。"
   ]
  },
  {
   "cell_type": "code",
   "execution_count": 221,
   "metadata": {
    "collapsed": false
   },
   "outputs": [
    {
     "name": "stdout",
     "output_type": "stream",
     "text": [
      "XORモデルの学習後の出力\n",
      "[[9.26692025e-04 9.99073308e-01]\n",
      " [9.99284708e-01 7.15292429e-04]\n",
      " [9.99227646e-01 7.72353723e-04]\n",
      " [7.71259056e-04 9.99228741e-01]]\n"
     ]
    }
   ],
   "source": [
    "#ニューラルネットワークのモデル\n",
    "input_size = 2\n",
    "hidden_size = 4\n",
    "output_size_ = 2\n",
    "W1, b1, W2, b2 = initialize_parameters(input_size, hidden_size, output_size_) #パラメータを初期化\n",
    "cost = []\n",
    "layer2_a,W1,b1,W2,b2 = XOR_model_mulch(W1,b1,W2,b2)\n",
    "print(\"XORモデルの学習後の出力\")\n",
    "print(layer2_a)"
   ]
  },
  {
   "cell_type": "markdown",
   "metadata": {},
   "source": [
    "**コスト関数の出力**"
   ]
  },
  {
   "cell_type": "code",
   "execution_count": 222,
   "metadata": {
    "collapsed": false
   },
   "outputs": [
    {
     "data": {
      "image/png": "[encoded data removed]",
      "text/plain": [
       "<matplotlib.figure.Figure at 0x7f946cc07be0>"
      ]
     },
     "metadata": {},
     "output_type": "display_data"
    }
   ],
   "source": [
    "plt.plot(cost)\n",
    "plt.ylabel(\"cost\")\n",
    "plt.xlabel(\"epochs\")\n",
    "plt.show()"
   ]
  },
  {
   "cell_type": "markdown",
   "metadata": {},
   "source": [
    "**学習結果を可視化**"
   ]
  },
  {
   "cell_type": "code",
   "execution_count": 223,
   "metadata": {
    "collapsed": false
   },
   "outputs": [
    {
     "name": "stderr",
     "output_type": "stream",
     "text": [
      "/opt/conda/lib/python3.5/site-packages/numpy/ma/core.py:6442: MaskedArrayFutureWarning: In the future the default for ma.minimum.reduce will be axis=0, not the current None, to match np.minimum.reduce. Explicitly pass 0 or None to silence this warning.\n",
      "  return self.reduce(a)\n",
      "/opt/conda/lib/python3.5/site-packages/numpy/ma/core.py:6442: MaskedArrayFutureWarning: In the future the default for ma.maximum.reduce will be axis=0, not the current None, to match np.maximum.reduce. Explicitly pass 0 or None to silence this warning.\n",
      "  return self.reduce(a)\n"
     ]
    },
    {
     "data": {
      "text/plain": [
       "(-1.0, 1.9800000000000026)"
      ]
     },
     "execution_count": 223,
     "metadata": {},
     "output_type": "execute_result"
    },
    {
     "data": {
      "image/png": "[encoded data removed]",
      "text/plain": [
       "<matplotlib.figure.Figure at 0x7f946cbee9b0>"
      ]
     },
     "metadata": {},
     "output_type": "display_data"
    }
   ],
   "source": [
    "h = 0.02\n",
    "x_min, x_max = X[:, 0].min() - 1, X[:, 0].max() + 1\n",
    "y_min, y_max = X[:, 1].min() - 1, X[:, 1].max() + 1\n",
    "xx, yy = np.meshgrid(np.arange(x_min, x_max, h),np.arange(y_min, y_max, h))\n",
    "Z = np.dot(np.maximum(0, np.dot(np.c_[xx.ravel(), yy.ravel()], W1) + b1), W2) + b2\n",
    "Z = np.argmax(Z, axis=1)\n",
    "Z = Z.reshape(xx.shape)\n",
    "fig = plt.figure()\n",
    "plt.contourf(xx, yy, Z, cmap=plt.cm.Spectral, alpha=0.8)\n",
    "plt.scatter(X[:, 0], X[:, 1], c = \"black\")\n",
    "plt.xlim(xx.min(), xx.max())\n",
    "plt.ylim(yy.min(), yy.max())"
   ]
  },
  {
   "cell_type": "markdown",
   "metadata": {},
   "source": [
    "うまく分類ができていなければ、もう一度学習をおこなってください。"
   ]
  },
  {
   "cell_type": "markdown",
   "metadata": {},
   "source": [
    "## おつかれさまでした。"
   ]
  },
  {
   "cell_type": "markdown",
   "metadata": {},
   "source": [
    "以上で最初の演習『線形分離不可能なデータ』の学習・構築はおしまいです。\n",
    "\n",
    "コスト関数の出力値が見事に学習を通して最適化され、出力がゼロに近づいていることが表を見てわかったと思います。\n",
    "\n",
    "最後に本演習で行なったことを簡単に振り返ります。\n",
    "\n",
    "* 単純パーセプトロンによる基本論理回路の実装\n",
    "* シグモイド関数、ソフトマックス関数の実装\n",
    "* フォワードプロパゲーション、バックプロパゲーションの実装\n",
    "* ニューラルネットワークモデルの構築、学習\n",
    "* 最適化\n",
    "* 二項分類問題と多クラス分類\n",
    "\n",
    "主に上記のことについて学習を行いました。\n",
    "\n",
    "ライブラリを使わずにゼロからニューラルネットワークを実装したことは自信をもってください。\n",
    "\n",
    "今回学習した内容は **ニューラルネットワークの基礎**となります。\n",
    "\n",
    "しっかりと復習を行い、次の演習・ステップに活かしてください。\n",
    "\n",
    "おつかれさまでした。"
   ]
  },
  {
   "cell_type": "code",
   "execution_count": null,
   "metadata": {
    "collapsed": true
   },
   "outputs": [],
   "source": []
  }
 ],
 "metadata": {
  "anaconda-cloud": {},
  "kernelspec": {
   "display_name": "Python [default]",
   "language": "python",
   "name": "python3"
  },
  "language_info": {
   "codemirror_mode": {
    "name": "ipython",
    "version": 3
   },
   "file_extension": ".py",
   "mimetype": "text/x-python",
   "name": "python",
   "nbconvert_exporter": "python",
   "pygments_lexer": "ipython3",
   "version": "3.5.2"
  },
  "toc": {
   "nav_menu": {
    "height": "372px",
    "width": "252px"
   },
   "navigate_menu": true,
   "number_sections": true,
   "sideBar": true,
   "threshold": 4,
   "toc_cell": false,
   "toc_section_display": "block",
   "toc_window_display": true
  }
 },
 "nbformat": 4,
 "nbformat_minor": 2
}
